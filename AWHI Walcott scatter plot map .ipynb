{
 "cells": [
  {
   "cell_type": "markdown",
   "metadata": {},
   "source": [
    "# Scatter plot map for Walcott \n",
    "- will use Rathbun scatter plot for reference \n",
    "- but will more detailed hovertext that includes specimen family name and year (but dates on file seem to be wrong)\n",
    "- if there were fewer points or more time, could use mapbox\n",
    "    - will us go.Scatter in plotly instead \n",
    "- using example from plotly \n",
    "    - link: https://plot.ly/pandas/scatter-plots-on-maps/"
   ]
  },
  {
   "cell_type": "code",
   "execution_count": 1,
   "metadata": {},
   "outputs": [],
   "source": [
    "import pandas as pd \n",
    "import plotly.graph_objects as go\n",
    "import numpy as np\n",
    "from collections import Counter"
   ]
  },
  {
   "cell_type": "markdown",
   "metadata": {},
   "source": [
    "### clean dataframe from original xlsx file\n",
    "- need to create \"sub\" dataframe with only the columns I need for my scatter plot map \n",
    "- can use example from jones scatter plot map "
   ]
  },
  {
   "cell_type": "code",
   "execution_count": 2,
   "metadata": {},
   "outputs": [
    {
     "data": {
      "text/html": [
       "<div>\n",
       "<style scoped>\n",
       "    .dataframe tbody tr th:only-of-type {\n",
       "        vertical-align: middle;\n",
       "    }\n",
       "\n",
       "    .dataframe tbody tr th {\n",
       "        vertical-align: top;\n",
       "    }\n",
       "\n",
       "    .dataframe thead th {\n",
       "        text-align: right;\n",
       "    }\n",
       "</style>\n",
       "<table border=\"1\" class=\"dataframe\">\n",
       "  <thead>\n",
       "    <tr style=\"text-align: right;\">\n",
       "      <th></th>\n",
       "      <th>barcode</th>\n",
       "      <th>catalog_no</th>\n",
       "      <th>order</th>\n",
       "      <th>family</th>\n",
       "      <th>family_name</th>\n",
       "      <th>collector_name</th>\n",
       "      <th>year_collected</th>\n",
       "      <th>country</th>\n",
       "      <th>province_state</th>\n",
       "      <th>ezid</th>\n",
       "    </tr>\n",
       "  </thead>\n",
       "  <tbody>\n",
       "    <tr>\n",
       "      <th>0</th>\n",
       "      <td>1160457</td>\n",
       "      <td>99194.0</td>\n",
       "      <td>Solanales</td>\n",
       "      <td>Hydrophyllaceae</td>\n",
       "      <td>Waterleaf family</td>\n",
       "      <td>C. D. Walcott</td>\n",
       "      <td>1900.0</td>\n",
       "      <td>United States</td>\n",
       "      <td>Colorado</td>\n",
       "      <td>http://n2t.net/ark:/65665/30a751787-3a18-4f16-...</td>\n",
       "    </tr>\n",
       "    <tr>\n",
       "      <th>1</th>\n",
       "      <td>3089925</td>\n",
       "      <td>80416.0</td>\n",
       "      <td>Apiales</td>\n",
       "      <td>Apiaceae</td>\n",
       "      <td>Umbellifers</td>\n",
       "      <td>C. D. Walcott</td>\n",
       "      <td>1900.0</td>\n",
       "      <td>United States</td>\n",
       "      <td>New Mexico</td>\n",
       "      <td>http://n2t.net/ark:/65665/3d8b58966-9a8b-4b3b-...</td>\n",
       "    </tr>\n",
       "    <tr>\n",
       "      <th>2</th>\n",
       "      <td>3088994</td>\n",
       "      <td>80403.0</td>\n",
       "      <td>Apiales</td>\n",
       "      <td>Apiaceae</td>\n",
       "      <td>Umbellifers</td>\n",
       "      <td>C. D. Walcott</td>\n",
       "      <td>1900.0</td>\n",
       "      <td>United States</td>\n",
       "      <td>New Mexico</td>\n",
       "      <td>http://n2t.net/ark:/65665/3c0f352f5-2101-4057-...</td>\n",
       "    </tr>\n",
       "    <tr>\n",
       "      <th>3</th>\n",
       "      <td>1805301</td>\n",
       "      <td>27505.0</td>\n",
       "      <td>Asterales</td>\n",
       "      <td>Asteraceae</td>\n",
       "      <td>Daisy family</td>\n",
       "      <td>C. D. Walcott</td>\n",
       "      <td>1900.0</td>\n",
       "      <td>United States</td>\n",
       "      <td>New Mexico</td>\n",
       "      <td>http://n2t.net/ark:/65665/3db47f2f9-1144-47d3-...</td>\n",
       "    </tr>\n",
       "    <tr>\n",
       "      <th>4</th>\n",
       "      <td>2180001</td>\n",
       "      <td>NaN</td>\n",
       "      <td>Asterales</td>\n",
       "      <td>Asteraceae</td>\n",
       "      <td>Daisy family</td>\n",
       "      <td>C. D. Walcott</td>\n",
       "      <td>1900.0</td>\n",
       "      <td>United States</td>\n",
       "      <td>New Mexico</td>\n",
       "      <td>http://n2t.net/ark:/65665/3cd015798-9922-4328-...</td>\n",
       "    </tr>\n",
       "  </tbody>\n",
       "</table>\n",
       "</div>"
      ],
      "text/plain": [
       "   barcode  catalog_no      order           family       family_name  \\\n",
       "0  1160457     99194.0  Solanales  Hydrophyllaceae  Waterleaf family   \n",
       "1  3089925     80416.0    Apiales         Apiaceae      Umbellifers    \n",
       "2  3088994     80403.0    Apiales         Apiaceae       Umbellifers   \n",
       "3  1805301     27505.0  Asterales       Asteraceae     Daisy family    \n",
       "4  2180001         NaN  Asterales       Asteraceae     Daisy family    \n",
       "\n",
       "  collector_name  year_collected        country province_state  \\\n",
       "0  C. D. Walcott          1900.0  United States       Colorado   \n",
       "1  C. D. Walcott          1900.0  United States     New Mexico   \n",
       "2  C. D. Walcott          1900.0  United States     New Mexico   \n",
       "3  C. D. Walcott          1900.0  United States     New Mexico   \n",
       "4  C. D. Walcott          1900.0  United States     New Mexico   \n",
       "\n",
       "                                                ezid  \n",
       "0  http://n2t.net/ark:/65665/30a751787-3a18-4f16-...  \n",
       "1  http://n2t.net/ark:/65665/3d8b58966-9a8b-4b3b-...  \n",
       "2  http://n2t.net/ark:/65665/3c0f352f5-2101-4057-...  \n",
       "3  http://n2t.net/ark:/65665/3db47f2f9-1144-47d3-...  \n",
       "4  http://n2t.net/ark:/65665/3cd015798-9922-4328-...  "
      ]
     },
     "execution_count": 2,
     "metadata": {},
     "output_type": "execute_result"
    }
   ],
   "source": [
    "walcott_df = pd.read_csv('AWHI_Walcott_dataset.csv')\n",
    "walcott_df.head()"
   ]
  },
  {
   "cell_type": "markdown",
   "metadata": {},
   "source": [
    "### Pulling information from the imported dataframe \n",
    "- this information will be useful for determining how to restructure the dataframe,<br>recreate sub dataframe, and figure out what type of plot and map will be most useful \n",
    "- instead of creating new csv files or eliminating information from the main csv file, it's better to make those changes using pandas "
   ]
  },
  {
   "cell_type": "code",
   "execution_count": 3,
   "metadata": {},
   "outputs": [
    {
     "name": "stdout",
     "output_type": "stream",
     "text": [
      "<class 'pandas.core.frame.DataFrame'>\n",
      "RangeIndex: 219 entries, 0 to 218\n",
      "Data columns (total 10 columns):\n",
      "barcode           219 non-null int64\n",
      "catalog_no        209 non-null float64\n",
      "order             219 non-null object\n",
      "family            219 non-null object\n",
      "family_name       219 non-null object\n",
      "collector_name    219 non-null object\n",
      "year_collected    193 non-null float64\n",
      "country           219 non-null object\n",
      "province_state    219 non-null object\n",
      "ezid              219 non-null object\n",
      "dtypes: float64(2), int64(1), object(7)\n",
      "memory usage: 17.2+ KB\n"
     ]
    }
   ],
   "source": [
    "walcott_df.info()"
   ]
  },
  {
   "cell_type": "code",
   "execution_count": 4,
   "metadata": {},
   "outputs": [
    {
     "data": {
      "text/plain": [
       "array(['Colorado', 'New Mexico', 'Alberta', 'Arizona', 'California',\n",
       "       'Nevada', 'New Brunswick', 'Tennessee', 'Maryland',\n",
       "       'District of Columbia', 'Oklahoma', 'Arkansas', 'Utah', 'Colima',\n",
       "       'British Columbia', 'Ontario', 'Saskatchewan', 'Guánica',\n",
       "       'South Carolina'], dtype=object)"
      ]
     },
     "execution_count": 4,
     "metadata": {},
     "output_type": "execute_result"
    }
   ],
   "source": [
    "province_state = walcott_df.province_state.unique()\n",
    "province_state"
   ]
  },
  {
   "cell_type": "code",
   "execution_count": 5,
   "metadata": {},
   "outputs": [
    {
     "data": {
      "text/plain": [
       "array(['Solanales', 'Apiales', 'Asterales', 'Rosales', 'Myrtales',\n",
       "       'Caryophyllales', 'Primulales', 'Ericales', 'Violales',\n",
       "       'Coniferales', 'Scrophulariales', 'Gentianales', 'Orchidales',\n",
       "       'Liliales', 'Papaverales', 'Lamiales', 'Polypodiales',\n",
       "       'Dipsacales', 'Cornales', 'Cyperales', 'Polygonales', 'Rubiales',\n",
       "       'Malvales', 'Sapindales', 'Celastrales', 'Taxales', 'Santalales'],\n",
       "      dtype=object)"
      ]
     },
     "execution_count": 5,
     "metadata": {},
     "output_type": "execute_result"
    }
   ],
   "source": [
    "order_type = walcott_df.order.unique()\n",
    "order_type"
   ]
  },
  {
   "cell_type": "code",
   "execution_count": 6,
   "metadata": {},
   "outputs": [
    {
     "data": {
      "text/plain": [
       "M. V. Walcott    172\n",
       "C. D. Walcott     47\n",
       "Name: collector_name, dtype: int64"
      ]
     },
     "execution_count": 6,
     "metadata": {},
     "output_type": "execute_result"
    }
   ],
   "source": [
    "#number of specimens collected by each collector\n",
    "walcott_df['collector_name'].value_counts()"
   ]
  },
  {
   "cell_type": "code",
   "execution_count": 7,
   "metadata": {},
   "outputs": [
    {
     "data": {
      "text/plain": [
       "British Columbia        94\n",
       "Alberta                 50\n",
       "California              15\n",
       "New Mexico              13\n",
       "Arizona                 11\n",
       "Utah                     7\n",
       "Tennessee                7\n",
       "Colorado                 4\n",
       "South Carolina           4\n",
       "Maryland                 3\n",
       "Nevada                   3\n",
       "New Brunswick            1\n",
       "Oklahoma                 1\n",
       "Guánica                  1\n",
       "Colima                   1\n",
       "District of Columbia     1\n",
       "Saskatchewan             1\n",
       "Arkansas                 1\n",
       "Ontario                  1\n",
       "Name: province_state, dtype: int64"
      ]
     },
     "execution_count": 7,
     "metadata": {},
     "output_type": "execute_result"
    }
   ],
   "source": [
    "# number of specimens collected each location\n",
    "walcott_df['province_state'].value_counts()"
   ]
  },
  {
   "cell_type": "code",
   "execution_count": 8,
   "metadata": {
    "scrolled": false
   },
   "outputs": [
    {
     "data": {
      "text/plain": [
       "province_state    collector_name  family_name       \n",
       "Alberta           C. D. Walcott   Cactus                 1\n",
       "                  M. V. Walcott   Borages                3\n",
       "                                  Cactus                 1\n",
       "                                  Daisy family          11\n",
       "                                  Gentians               6\n",
       "                                  Heather family         4\n",
       "                                  Honeysuckle family     1\n",
       "                                  Madder family          1\n",
       "                                  Orchids                2\n",
       "                                  Pine family            2\n",
       "                                  Primroses              2\n",
       "                                  Sedges                 1\n",
       "                                  Spleenworts            1\n",
       "                                  Violet family          1\n",
       "                                  Waterleaf family       3\n",
       "                                  legumes               10\n",
       "Arizona           C. D. Walcott   Cactus                 1\n",
       "                                  Daisy family           1\n",
       "                                  Pholox family          1\n",
       "                                  Umbellifers            1\n",
       "                                  Vervain family         1\n",
       "                                  legumes                1\n",
       "                  M. V. Walcott   Daisy family           2\n",
       "                                  Evening primroses      1\n",
       "                                  Orchids                1\n",
       "                                  legumes                1\n",
       "Arkansas          C. D. Walcott   legumes                1\n",
       "British Columbia  M. V. Walcott   Bellflower family      4\n",
       "                                  Borages                2\n",
       "                                  Brake family           1\n",
       "                                                        ..\n",
       "Maryland          C. D. Walcott   Rose family            2\n",
       "Nevada            C. D. Walcott   Loasa family           1\n",
       "                                  Pine family            2\n",
       "New Brunswick     C. D. Walcott   Morning-glories        1\n",
       "New Mexico        C. D. Walcott   Bellflower family      1\n",
       "                                  Daisy family           4\n",
       "                                  Evening primroses      1\n",
       "                                  Rose family            1\n",
       "                                  Umbellifers            1\n",
       "                                  Umbellifers            1\n",
       "                                  legumes                3\n",
       "                  M. V. Walcott   Cactus                 1\n",
       "Oklahoma          C. D. Walcott   legumes                1\n",
       "Ontario           M. V. Walcott   Orchids                1\n",
       "Saskatchewan      M. V. Walcott   Daisy family           1\n",
       "South Carolina    M. V. Walcott   Heather family         1\n",
       "                                  Holly                  1\n",
       "                                  Maple family           1\n",
       "                                  Pine family            1\n",
       "Tennessee         C. D. Walcott   Acanthus Family        1\n",
       "                                  Heather family         2\n",
       "                                  Loganiaceae            1\n",
       "                                  Mints                  1\n",
       "                                  Orchids                1\n",
       "                                  Pine family            1\n",
       "Utah              C. D. Walcott   Primroses              1\n",
       "                  M. V. Walcott   Bellflower family      1\n",
       "                                  Evening primroses      2\n",
       "                                  Pholox family          1\n",
       "                                  Pine family            2\n",
       "Length: 102, dtype: int64"
      ]
     },
     "execution_count": 8,
     "metadata": {},
     "output_type": "execute_result"
    }
   ],
   "source": [
    "#type of specimens collected \n",
    "# I want to add a specimens list collected at each location for each collector then use this to add to the text option in the map\n",
    "walcott_df.groupby(['province_state','collector_name','family_name']).size()"
   ]
  },
  {
   "cell_type": "code",
   "execution_count": 9,
   "metadata": {},
   "outputs": [
    {
     "data": {
      "text/html": [
       "<div>\n",
       "<style scoped>\n",
       "    .dataframe tbody tr th:only-of-type {\n",
       "        vertical-align: middle;\n",
       "    }\n",
       "\n",
       "    .dataframe tbody tr th {\n",
       "        vertical-align: top;\n",
       "    }\n",
       "\n",
       "    .dataframe thead th {\n",
       "        text-align: right;\n",
       "    }\n",
       "</style>\n",
       "<table border=\"1\" class=\"dataframe\">\n",
       "  <thead>\n",
       "    <tr style=\"text-align: right;\">\n",
       "      <th></th>\n",
       "      <th>province_state</th>\n",
       "      <th>collector_name</th>\n",
       "      <th>family_name</th>\n",
       "      <th>frequency</th>\n",
       "    </tr>\n",
       "  </thead>\n",
       "  <tbody>\n",
       "    <tr>\n",
       "      <th>0</th>\n",
       "      <td>Alberta</td>\n",
       "      <td>C. D. Walcott</td>\n",
       "      <td>Cactus</td>\n",
       "      <td>1</td>\n",
       "    </tr>\n",
       "    <tr>\n",
       "      <th>1</th>\n",
       "      <td>Alberta</td>\n",
       "      <td>M. V. Walcott</td>\n",
       "      <td>Borages</td>\n",
       "      <td>3</td>\n",
       "    </tr>\n",
       "    <tr>\n",
       "      <th>2</th>\n",
       "      <td>Alberta</td>\n",
       "      <td>M. V. Walcott</td>\n",
       "      <td>Cactus</td>\n",
       "      <td>1</td>\n",
       "    </tr>\n",
       "    <tr>\n",
       "      <th>3</th>\n",
       "      <td>Alberta</td>\n",
       "      <td>M. V. Walcott</td>\n",
       "      <td>Daisy family</td>\n",
       "      <td>11</td>\n",
       "    </tr>\n",
       "    <tr>\n",
       "      <th>4</th>\n",
       "      <td>Alberta</td>\n",
       "      <td>M. V. Walcott</td>\n",
       "      <td>Gentians</td>\n",
       "      <td>6</td>\n",
       "    </tr>\n",
       "    <tr>\n",
       "      <th>5</th>\n",
       "      <td>Alberta</td>\n",
       "      <td>M. V. Walcott</td>\n",
       "      <td>Heather family</td>\n",
       "      <td>4</td>\n",
       "    </tr>\n",
       "    <tr>\n",
       "      <th>6</th>\n",
       "      <td>Alberta</td>\n",
       "      <td>M. V. Walcott</td>\n",
       "      <td>Honeysuckle family</td>\n",
       "      <td>1</td>\n",
       "    </tr>\n",
       "    <tr>\n",
       "      <th>7</th>\n",
       "      <td>Alberta</td>\n",
       "      <td>M. V. Walcott</td>\n",
       "      <td>Madder family</td>\n",
       "      <td>1</td>\n",
       "    </tr>\n",
       "    <tr>\n",
       "      <th>8</th>\n",
       "      <td>Alberta</td>\n",
       "      <td>M. V. Walcott</td>\n",
       "      <td>Orchids</td>\n",
       "      <td>2</td>\n",
       "    </tr>\n",
       "    <tr>\n",
       "      <th>9</th>\n",
       "      <td>Alberta</td>\n",
       "      <td>M. V. Walcott</td>\n",
       "      <td>Pine family</td>\n",
       "      <td>2</td>\n",
       "    </tr>\n",
       "    <tr>\n",
       "      <th>10</th>\n",
       "      <td>Alberta</td>\n",
       "      <td>M. V. Walcott</td>\n",
       "      <td>Primroses</td>\n",
       "      <td>2</td>\n",
       "    </tr>\n",
       "    <tr>\n",
       "      <th>11</th>\n",
       "      <td>Alberta</td>\n",
       "      <td>M. V. Walcott</td>\n",
       "      <td>Sedges</td>\n",
       "      <td>1</td>\n",
       "    </tr>\n",
       "    <tr>\n",
       "      <th>12</th>\n",
       "      <td>Alberta</td>\n",
       "      <td>M. V. Walcott</td>\n",
       "      <td>Spleenworts</td>\n",
       "      <td>1</td>\n",
       "    </tr>\n",
       "    <tr>\n",
       "      <th>13</th>\n",
       "      <td>Alberta</td>\n",
       "      <td>M. V. Walcott</td>\n",
       "      <td>Violet family</td>\n",
       "      <td>1</td>\n",
       "    </tr>\n",
       "    <tr>\n",
       "      <th>14</th>\n",
       "      <td>Alberta</td>\n",
       "      <td>M. V. Walcott</td>\n",
       "      <td>Waterleaf family</td>\n",
       "      <td>3</td>\n",
       "    </tr>\n",
       "    <tr>\n",
       "      <th>15</th>\n",
       "      <td>Alberta</td>\n",
       "      <td>M. V. Walcott</td>\n",
       "      <td>legumes</td>\n",
       "      <td>10</td>\n",
       "    </tr>\n",
       "    <tr>\n",
       "      <th>16</th>\n",
       "      <td>Arizona</td>\n",
       "      <td>C. D. Walcott</td>\n",
       "      <td>Cactus</td>\n",
       "      <td>1</td>\n",
       "    </tr>\n",
       "    <tr>\n",
       "      <th>17</th>\n",
       "      <td>Arizona</td>\n",
       "      <td>C. D. Walcott</td>\n",
       "      <td>Daisy family</td>\n",
       "      <td>1</td>\n",
       "    </tr>\n",
       "    <tr>\n",
       "      <th>18</th>\n",
       "      <td>Arizona</td>\n",
       "      <td>C. D. Walcott</td>\n",
       "      <td>Pholox family</td>\n",
       "      <td>1</td>\n",
       "    </tr>\n",
       "    <tr>\n",
       "      <th>19</th>\n",
       "      <td>Arizona</td>\n",
       "      <td>C. D. Walcott</td>\n",
       "      <td>Umbellifers</td>\n",
       "      <td>1</td>\n",
       "    </tr>\n",
       "    <tr>\n",
       "      <th>20</th>\n",
       "      <td>Arizona</td>\n",
       "      <td>C. D. Walcott</td>\n",
       "      <td>Vervain family</td>\n",
       "      <td>1</td>\n",
       "    </tr>\n",
       "    <tr>\n",
       "      <th>21</th>\n",
       "      <td>Arizona</td>\n",
       "      <td>C. D. Walcott</td>\n",
       "      <td>legumes</td>\n",
       "      <td>1</td>\n",
       "    </tr>\n",
       "    <tr>\n",
       "      <th>22</th>\n",
       "      <td>Arizona</td>\n",
       "      <td>M. V. Walcott</td>\n",
       "      <td>Daisy family</td>\n",
       "      <td>2</td>\n",
       "    </tr>\n",
       "    <tr>\n",
       "      <th>23</th>\n",
       "      <td>Arizona</td>\n",
       "      <td>M. V. Walcott</td>\n",
       "      <td>Evening primroses</td>\n",
       "      <td>1</td>\n",
       "    </tr>\n",
       "    <tr>\n",
       "      <th>24</th>\n",
       "      <td>Arizona</td>\n",
       "      <td>M. V. Walcott</td>\n",
       "      <td>Orchids</td>\n",
       "      <td>1</td>\n",
       "    </tr>\n",
       "    <tr>\n",
       "      <th>25</th>\n",
       "      <td>Arizona</td>\n",
       "      <td>M. V. Walcott</td>\n",
       "      <td>legumes</td>\n",
       "      <td>1</td>\n",
       "    </tr>\n",
       "    <tr>\n",
       "      <th>26</th>\n",
       "      <td>Arkansas</td>\n",
       "      <td>C. D. Walcott</td>\n",
       "      <td>legumes</td>\n",
       "      <td>1</td>\n",
       "    </tr>\n",
       "    <tr>\n",
       "      <th>27</th>\n",
       "      <td>British Columbia</td>\n",
       "      <td>M. V. Walcott</td>\n",
       "      <td>Bellflower family</td>\n",
       "      <td>4</td>\n",
       "    </tr>\n",
       "    <tr>\n",
       "      <th>28</th>\n",
       "      <td>British Columbia</td>\n",
       "      <td>M. V. Walcott</td>\n",
       "      <td>Borages</td>\n",
       "      <td>2</td>\n",
       "    </tr>\n",
       "    <tr>\n",
       "      <th>29</th>\n",
       "      <td>British Columbia</td>\n",
       "      <td>M. V. Walcott</td>\n",
       "      <td>Brake family</td>\n",
       "      <td>1</td>\n",
       "    </tr>\n",
       "    <tr>\n",
       "      <th>...</th>\n",
       "      <td>...</td>\n",
       "      <td>...</td>\n",
       "      <td>...</td>\n",
       "      <td>...</td>\n",
       "    </tr>\n",
       "    <tr>\n",
       "      <th>72</th>\n",
       "      <td>Maryland</td>\n",
       "      <td>C. D. Walcott</td>\n",
       "      <td>Rose family</td>\n",
       "      <td>2</td>\n",
       "    </tr>\n",
       "    <tr>\n",
       "      <th>73</th>\n",
       "      <td>Nevada</td>\n",
       "      <td>C. D. Walcott</td>\n",
       "      <td>Loasa family</td>\n",
       "      <td>1</td>\n",
       "    </tr>\n",
       "    <tr>\n",
       "      <th>74</th>\n",
       "      <td>Nevada</td>\n",
       "      <td>C. D. Walcott</td>\n",
       "      <td>Pine family</td>\n",
       "      <td>2</td>\n",
       "    </tr>\n",
       "    <tr>\n",
       "      <th>75</th>\n",
       "      <td>New Brunswick</td>\n",
       "      <td>C. D. Walcott</td>\n",
       "      <td>Morning-glories</td>\n",
       "      <td>1</td>\n",
       "    </tr>\n",
       "    <tr>\n",
       "      <th>76</th>\n",
       "      <td>New Mexico</td>\n",
       "      <td>C. D. Walcott</td>\n",
       "      <td>Bellflower family</td>\n",
       "      <td>1</td>\n",
       "    </tr>\n",
       "    <tr>\n",
       "      <th>77</th>\n",
       "      <td>New Mexico</td>\n",
       "      <td>C. D. Walcott</td>\n",
       "      <td>Daisy family</td>\n",
       "      <td>4</td>\n",
       "    </tr>\n",
       "    <tr>\n",
       "      <th>78</th>\n",
       "      <td>New Mexico</td>\n",
       "      <td>C. D. Walcott</td>\n",
       "      <td>Evening primroses</td>\n",
       "      <td>1</td>\n",
       "    </tr>\n",
       "    <tr>\n",
       "      <th>79</th>\n",
       "      <td>New Mexico</td>\n",
       "      <td>C. D. Walcott</td>\n",
       "      <td>Rose family</td>\n",
       "      <td>1</td>\n",
       "    </tr>\n",
       "    <tr>\n",
       "      <th>80</th>\n",
       "      <td>New Mexico</td>\n",
       "      <td>C. D. Walcott</td>\n",
       "      <td>Umbellifers</td>\n",
       "      <td>1</td>\n",
       "    </tr>\n",
       "    <tr>\n",
       "      <th>81</th>\n",
       "      <td>New Mexico</td>\n",
       "      <td>C. D. Walcott</td>\n",
       "      <td>Umbellifers</td>\n",
       "      <td>1</td>\n",
       "    </tr>\n",
       "    <tr>\n",
       "      <th>82</th>\n",
       "      <td>New Mexico</td>\n",
       "      <td>C. D. Walcott</td>\n",
       "      <td>legumes</td>\n",
       "      <td>3</td>\n",
       "    </tr>\n",
       "    <tr>\n",
       "      <th>83</th>\n",
       "      <td>New Mexico</td>\n",
       "      <td>M. V. Walcott</td>\n",
       "      <td>Cactus</td>\n",
       "      <td>1</td>\n",
       "    </tr>\n",
       "    <tr>\n",
       "      <th>84</th>\n",
       "      <td>Oklahoma</td>\n",
       "      <td>C. D. Walcott</td>\n",
       "      <td>legumes</td>\n",
       "      <td>1</td>\n",
       "    </tr>\n",
       "    <tr>\n",
       "      <th>85</th>\n",
       "      <td>Ontario</td>\n",
       "      <td>M. V. Walcott</td>\n",
       "      <td>Orchids</td>\n",
       "      <td>1</td>\n",
       "    </tr>\n",
       "    <tr>\n",
       "      <th>86</th>\n",
       "      <td>Saskatchewan</td>\n",
       "      <td>M. V. Walcott</td>\n",
       "      <td>Daisy family</td>\n",
       "      <td>1</td>\n",
       "    </tr>\n",
       "    <tr>\n",
       "      <th>87</th>\n",
       "      <td>South Carolina</td>\n",
       "      <td>M. V. Walcott</td>\n",
       "      <td>Heather family</td>\n",
       "      <td>1</td>\n",
       "    </tr>\n",
       "    <tr>\n",
       "      <th>88</th>\n",
       "      <td>South Carolina</td>\n",
       "      <td>M. V. Walcott</td>\n",
       "      <td>Holly</td>\n",
       "      <td>1</td>\n",
       "    </tr>\n",
       "    <tr>\n",
       "      <th>89</th>\n",
       "      <td>South Carolina</td>\n",
       "      <td>M. V. Walcott</td>\n",
       "      <td>Maple family</td>\n",
       "      <td>1</td>\n",
       "    </tr>\n",
       "    <tr>\n",
       "      <th>90</th>\n",
       "      <td>South Carolina</td>\n",
       "      <td>M. V. Walcott</td>\n",
       "      <td>Pine family</td>\n",
       "      <td>1</td>\n",
       "    </tr>\n",
       "    <tr>\n",
       "      <th>91</th>\n",
       "      <td>Tennessee</td>\n",
       "      <td>C. D. Walcott</td>\n",
       "      <td>Acanthus Family</td>\n",
       "      <td>1</td>\n",
       "    </tr>\n",
       "    <tr>\n",
       "      <th>92</th>\n",
       "      <td>Tennessee</td>\n",
       "      <td>C. D. Walcott</td>\n",
       "      <td>Heather family</td>\n",
       "      <td>2</td>\n",
       "    </tr>\n",
       "    <tr>\n",
       "      <th>93</th>\n",
       "      <td>Tennessee</td>\n",
       "      <td>C. D. Walcott</td>\n",
       "      <td>Loganiaceae</td>\n",
       "      <td>1</td>\n",
       "    </tr>\n",
       "    <tr>\n",
       "      <th>94</th>\n",
       "      <td>Tennessee</td>\n",
       "      <td>C. D. Walcott</td>\n",
       "      <td>Mints</td>\n",
       "      <td>1</td>\n",
       "    </tr>\n",
       "    <tr>\n",
       "      <th>95</th>\n",
       "      <td>Tennessee</td>\n",
       "      <td>C. D. Walcott</td>\n",
       "      <td>Orchids</td>\n",
       "      <td>1</td>\n",
       "    </tr>\n",
       "    <tr>\n",
       "      <th>96</th>\n",
       "      <td>Tennessee</td>\n",
       "      <td>C. D. Walcott</td>\n",
       "      <td>Pine family</td>\n",
       "      <td>1</td>\n",
       "    </tr>\n",
       "    <tr>\n",
       "      <th>97</th>\n",
       "      <td>Utah</td>\n",
       "      <td>C. D. Walcott</td>\n",
       "      <td>Primroses</td>\n",
       "      <td>1</td>\n",
       "    </tr>\n",
       "    <tr>\n",
       "      <th>98</th>\n",
       "      <td>Utah</td>\n",
       "      <td>M. V. Walcott</td>\n",
       "      <td>Bellflower family</td>\n",
       "      <td>1</td>\n",
       "    </tr>\n",
       "    <tr>\n",
       "      <th>99</th>\n",
       "      <td>Utah</td>\n",
       "      <td>M. V. Walcott</td>\n",
       "      <td>Evening primroses</td>\n",
       "      <td>2</td>\n",
       "    </tr>\n",
       "    <tr>\n",
       "      <th>100</th>\n",
       "      <td>Utah</td>\n",
       "      <td>M. V. Walcott</td>\n",
       "      <td>Pholox family</td>\n",
       "      <td>1</td>\n",
       "    </tr>\n",
       "    <tr>\n",
       "      <th>101</th>\n",
       "      <td>Utah</td>\n",
       "      <td>M. V. Walcott</td>\n",
       "      <td>Pine family</td>\n",
       "      <td>2</td>\n",
       "    </tr>\n",
       "  </tbody>\n",
       "</table>\n",
       "<p>102 rows × 4 columns</p>\n",
       "</div>"
      ],
      "text/plain": [
       "       province_state collector_name         family_name  frequency\n",
       "0             Alberta  C. D. Walcott              Cactus          1\n",
       "1             Alberta  M. V. Walcott            Borages           3\n",
       "2             Alberta  M. V. Walcott              Cactus          1\n",
       "3             Alberta  M. V. Walcott       Daisy family          11\n",
       "4             Alberta  M. V. Walcott            Gentians          6\n",
       "5             Alberta  M. V. Walcott      Heather family          4\n",
       "6             Alberta  M. V. Walcott  Honeysuckle family          1\n",
       "7             Alberta  M. V. Walcott       Madder family          1\n",
       "8             Alberta  M. V. Walcott             Orchids          2\n",
       "9             Alberta  M. V. Walcott         Pine family          2\n",
       "10            Alberta  M. V. Walcott           Primroses          2\n",
       "11            Alberta  M. V. Walcott              Sedges          1\n",
       "12            Alberta  M. V. Walcott         Spleenworts          1\n",
       "13            Alberta  M. V. Walcott       Violet family          1\n",
       "14            Alberta  M. V. Walcott    Waterleaf family          3\n",
       "15            Alberta  M. V. Walcott             legumes         10\n",
       "16            Arizona  C. D. Walcott              Cactus          1\n",
       "17            Arizona  C. D. Walcott       Daisy family           1\n",
       "18            Arizona  C. D. Walcott       Pholox family          1\n",
       "19            Arizona  C. D. Walcott        Umbellifers           1\n",
       "20            Arizona  C. D. Walcott      Vervain family          1\n",
       "21            Arizona  C. D. Walcott             legumes          1\n",
       "22            Arizona  M. V. Walcott       Daisy family           2\n",
       "23            Arizona  M. V. Walcott   Evening primroses          1\n",
       "24            Arizona  M. V. Walcott             Orchids          1\n",
       "25            Arizona  M. V. Walcott             legumes          1\n",
       "26           Arkansas  C. D. Walcott             legumes          1\n",
       "27   British Columbia  M. V. Walcott   Bellflower family          4\n",
       "28   British Columbia  M. V. Walcott            Borages           2\n",
       "29   British Columbia  M. V. Walcott        Brake family          1\n",
       "..                ...            ...                 ...        ...\n",
       "72           Maryland  C. D. Walcott         Rose family          2\n",
       "73             Nevada  C. D. Walcott        Loasa family          1\n",
       "74             Nevada  C. D. Walcott         Pine family          2\n",
       "75      New Brunswick  C. D. Walcott     Morning-glories          1\n",
       "76         New Mexico  C. D. Walcott   Bellflower family          1\n",
       "77         New Mexico  C. D. Walcott       Daisy family           4\n",
       "78         New Mexico  C. D. Walcott   Evening primroses          1\n",
       "79         New Mexico  C. D. Walcott         Rose family          1\n",
       "80         New Mexico  C. D. Walcott         Umbellifers          1\n",
       "81         New Mexico  C. D. Walcott        Umbellifers           1\n",
       "82         New Mexico  C. D. Walcott             legumes          3\n",
       "83         New Mexico  M. V. Walcott              Cactus          1\n",
       "84           Oklahoma  C. D. Walcott             legumes          1\n",
       "85            Ontario  M. V. Walcott             Orchids          1\n",
       "86       Saskatchewan  M. V. Walcott       Daisy family           1\n",
       "87     South Carolina  M. V. Walcott      Heather family          1\n",
       "88     South Carolina  M. V. Walcott               Holly          1\n",
       "89     South Carolina  M. V. Walcott        Maple family          1\n",
       "90     South Carolina  M. V. Walcott         Pine family          1\n",
       "91          Tennessee  C. D. Walcott     Acanthus Family          1\n",
       "92          Tennessee  C. D. Walcott      Heather family          2\n",
       "93          Tennessee  C. D. Walcott         Loganiaceae          1\n",
       "94          Tennessee  C. D. Walcott               Mints          1\n",
       "95          Tennessee  C. D. Walcott             Orchids          1\n",
       "96          Tennessee  C. D. Walcott         Pine family          1\n",
       "97               Utah  C. D. Walcott           Primroses          1\n",
       "98               Utah  M. V. Walcott   Bellflower family          1\n",
       "99               Utah  M. V. Walcott   Evening primroses          2\n",
       "100              Utah  M. V. Walcott       Pholox family          1\n",
       "101              Utah  M. V. Walcott         Pine family          2\n",
       "\n",
       "[102 rows x 4 columns]"
      ]
     },
     "execution_count": 9,
     "metadata": {},
     "output_type": "execute_result"
    }
   ],
   "source": [
    "walcott_specimen = walcott_df.groupby(['province_state','collector_name','family_name']).size().to_frame().reset_index()\n",
    "walcott_specimen = walcott_specimen.rename(columns={0: 'frequency'})\n",
    "walcott_specimen"
   ]
  },
  {
   "cell_type": "code",
   "execution_count": 10,
   "metadata": {},
   "outputs": [],
   "source": [
    "#exporting the above dataframe to csv inorder to find highest values in excel, b/c it's quicker\n",
    "walcott_specimen.to_csv(r'walcott_specimen_count.csv')"
   ]
  },
  {
   "cell_type": "code",
   "execution_count": 11,
   "metadata": {},
   "outputs": [],
   "source": [
    "#mary_walcott_specimen = walcott_specimen[walcott_specimen['collector_name'] == 'M. V. Walcott'].copy()\n",
    "#mary_walcott_specimen"
   ]
  },
  {
   "cell_type": "code",
   "execution_count": 12,
   "metadata": {},
   "outputs": [
    {
     "data": {
      "text/plain": [
       "province_state        collector_name\n",
       "Alberta               C. D. Walcott      1\n",
       "                      M. V. Walcott     49\n",
       "Arizona               C. D. Walcott      6\n",
       "                      M. V. Walcott      5\n",
       "Arkansas              C. D. Walcott      1\n",
       "British Columbia      M. V. Walcott     94\n",
       "California            C. D. Walcott      8\n",
       "                      M. V. Walcott      7\n",
       "Colima                M. V. Walcott      1\n",
       "Colorado              C. D. Walcott      2\n",
       "                      M. V. Walcott      2\n",
       "District of Columbia  C. D. Walcott      1\n",
       "Guánica               M. V. Walcott      1\n",
       "Maryland              C. D. Walcott      3\n",
       "Nevada                C. D. Walcott      3\n",
       "New Brunswick         C. D. Walcott      1\n",
       "New Mexico            C. D. Walcott     12\n",
       "                      M. V. Walcott      1\n",
       "Oklahoma              C. D. Walcott      1\n",
       "Ontario               M. V. Walcott      1\n",
       "Saskatchewan          M. V. Walcott      1\n",
       "South Carolina        M. V. Walcott      4\n",
       "Tennessee             C. D. Walcott      7\n",
       "Utah                  C. D. Walcott      1\n",
       "                      M. V. Walcott      6\n",
       "dtype: int64"
      ]
     },
     "execution_count": 12,
     "metadata": {},
     "output_type": "execute_result"
    }
   ],
   "source": [
    "#number of specimens in each location for each collector\n",
    "walcott_df.groupby(['province_state','collector_name']).size()"
   ]
  },
  {
   "cell_type": "markdown",
   "metadata": {},
   "source": [
    "### sub dataframe location_walcott_df data use\n",
    "- this dataframe will be used to create the trace for each collector to make their location\n",
    "- each location will have a marker size relative to the ind_count number "
   ]
  },
  {
   "cell_type": "code",
   "execution_count": 13,
   "metadata": {},
   "outputs": [
    {
     "data": {
      "text/html": [
       "<div>\n",
       "<style scoped>\n",
       "    .dataframe tbody tr th:only-of-type {\n",
       "        vertical-align: middle;\n",
       "    }\n",
       "\n",
       "    .dataframe tbody tr th {\n",
       "        vertical-align: top;\n",
       "    }\n",
       "\n",
       "    .dataframe thead th {\n",
       "        text-align: right;\n",
       "    }\n",
       "</style>\n",
       "<table border=\"1\" class=\"dataframe\">\n",
       "  <thead>\n",
       "    <tr style=\"text-align: right;\">\n",
       "      <th></th>\n",
       "      <th>province_state</th>\n",
       "      <th>collector_name</th>\n",
       "      <th>ind_count</th>\n",
       "    </tr>\n",
       "  </thead>\n",
       "  <tbody>\n",
       "    <tr>\n",
       "      <th>0</th>\n",
       "      <td>Alberta</td>\n",
       "      <td>C. D. Walcott</td>\n",
       "      <td>1</td>\n",
       "    </tr>\n",
       "    <tr>\n",
       "      <th>1</th>\n",
       "      <td>Alberta</td>\n",
       "      <td>M. V. Walcott</td>\n",
       "      <td>49</td>\n",
       "    </tr>\n",
       "    <tr>\n",
       "      <th>2</th>\n",
       "      <td>Arizona</td>\n",
       "      <td>C. D. Walcott</td>\n",
       "      <td>6</td>\n",
       "    </tr>\n",
       "    <tr>\n",
       "      <th>3</th>\n",
       "      <td>Arizona</td>\n",
       "      <td>M. V. Walcott</td>\n",
       "      <td>5</td>\n",
       "    </tr>\n",
       "    <tr>\n",
       "      <th>4</th>\n",
       "      <td>Arkansas</td>\n",
       "      <td>C. D. Walcott</td>\n",
       "      <td>1</td>\n",
       "    </tr>\n",
       "    <tr>\n",
       "      <th>5</th>\n",
       "      <td>British Columbia</td>\n",
       "      <td>M. V. Walcott</td>\n",
       "      <td>94</td>\n",
       "    </tr>\n",
       "    <tr>\n",
       "      <th>6</th>\n",
       "      <td>California</td>\n",
       "      <td>C. D. Walcott</td>\n",
       "      <td>8</td>\n",
       "    </tr>\n",
       "    <tr>\n",
       "      <th>7</th>\n",
       "      <td>California</td>\n",
       "      <td>M. V. Walcott</td>\n",
       "      <td>7</td>\n",
       "    </tr>\n",
       "    <tr>\n",
       "      <th>8</th>\n",
       "      <td>Colima</td>\n",
       "      <td>M. V. Walcott</td>\n",
       "      <td>1</td>\n",
       "    </tr>\n",
       "    <tr>\n",
       "      <th>9</th>\n",
       "      <td>Colorado</td>\n",
       "      <td>C. D. Walcott</td>\n",
       "      <td>2</td>\n",
       "    </tr>\n",
       "    <tr>\n",
       "      <th>10</th>\n",
       "      <td>Colorado</td>\n",
       "      <td>M. V. Walcott</td>\n",
       "      <td>2</td>\n",
       "    </tr>\n",
       "    <tr>\n",
       "      <th>11</th>\n",
       "      <td>District of Columbia</td>\n",
       "      <td>C. D. Walcott</td>\n",
       "      <td>1</td>\n",
       "    </tr>\n",
       "    <tr>\n",
       "      <th>12</th>\n",
       "      <td>Guánica</td>\n",
       "      <td>M. V. Walcott</td>\n",
       "      <td>1</td>\n",
       "    </tr>\n",
       "    <tr>\n",
       "      <th>13</th>\n",
       "      <td>Maryland</td>\n",
       "      <td>C. D. Walcott</td>\n",
       "      <td>3</td>\n",
       "    </tr>\n",
       "    <tr>\n",
       "      <th>14</th>\n",
       "      <td>Nevada</td>\n",
       "      <td>C. D. Walcott</td>\n",
       "      <td>3</td>\n",
       "    </tr>\n",
       "    <tr>\n",
       "      <th>15</th>\n",
       "      <td>New Brunswick</td>\n",
       "      <td>C. D. Walcott</td>\n",
       "      <td>1</td>\n",
       "    </tr>\n",
       "    <tr>\n",
       "      <th>16</th>\n",
       "      <td>New Mexico</td>\n",
       "      <td>C. D. Walcott</td>\n",
       "      <td>12</td>\n",
       "    </tr>\n",
       "    <tr>\n",
       "      <th>17</th>\n",
       "      <td>New Mexico</td>\n",
       "      <td>M. V. Walcott</td>\n",
       "      <td>1</td>\n",
       "    </tr>\n",
       "    <tr>\n",
       "      <th>18</th>\n",
       "      <td>Oklahoma</td>\n",
       "      <td>C. D. Walcott</td>\n",
       "      <td>1</td>\n",
       "    </tr>\n",
       "    <tr>\n",
       "      <th>19</th>\n",
       "      <td>Ontario</td>\n",
       "      <td>M. V. Walcott</td>\n",
       "      <td>1</td>\n",
       "    </tr>\n",
       "    <tr>\n",
       "      <th>20</th>\n",
       "      <td>Saskatchewan</td>\n",
       "      <td>M. V. Walcott</td>\n",
       "      <td>1</td>\n",
       "    </tr>\n",
       "    <tr>\n",
       "      <th>21</th>\n",
       "      <td>South Carolina</td>\n",
       "      <td>M. V. Walcott</td>\n",
       "      <td>4</td>\n",
       "    </tr>\n",
       "    <tr>\n",
       "      <th>22</th>\n",
       "      <td>Tennessee</td>\n",
       "      <td>C. D. Walcott</td>\n",
       "      <td>7</td>\n",
       "    </tr>\n",
       "    <tr>\n",
       "      <th>23</th>\n",
       "      <td>Utah</td>\n",
       "      <td>C. D. Walcott</td>\n",
       "      <td>1</td>\n",
       "    </tr>\n",
       "    <tr>\n",
       "      <th>24</th>\n",
       "      <td>Utah</td>\n",
       "      <td>M. V. Walcott</td>\n",
       "      <td>6</td>\n",
       "    </tr>\n",
       "  </tbody>\n",
       "</table>\n",
       "</div>"
      ],
      "text/plain": [
       "          province_state collector_name  ind_count\n",
       "0                Alberta  C. D. Walcott          1\n",
       "1                Alberta  M. V. Walcott         49\n",
       "2                Arizona  C. D. Walcott          6\n",
       "3                Arizona  M. V. Walcott          5\n",
       "4               Arkansas  C. D. Walcott          1\n",
       "5       British Columbia  M. V. Walcott         94\n",
       "6             California  C. D. Walcott          8\n",
       "7             California  M. V. Walcott          7\n",
       "8                 Colima  M. V. Walcott          1\n",
       "9               Colorado  C. D. Walcott          2\n",
       "10              Colorado  M. V. Walcott          2\n",
       "11  District of Columbia  C. D. Walcott          1\n",
       "12               Guánica  M. V. Walcott          1\n",
       "13              Maryland  C. D. Walcott          3\n",
       "14                Nevada  C. D. Walcott          3\n",
       "15         New Brunswick  C. D. Walcott          1\n",
       "16            New Mexico  C. D. Walcott         12\n",
       "17            New Mexico  M. V. Walcott          1\n",
       "18              Oklahoma  C. D. Walcott          1\n",
       "19               Ontario  M. V. Walcott          1\n",
       "20          Saskatchewan  M. V. Walcott          1\n",
       "21        South Carolina  M. V. Walcott          4\n",
       "22             Tennessee  C. D. Walcott          7\n",
       "23                  Utah  C. D. Walcott          1\n",
       "24                  Utah  M. V. Walcott          6"
      ]
     },
     "execution_count": 13,
     "metadata": {},
     "output_type": "execute_result"
    }
   ],
   "source": [
    "#creating dataframe for previous groupby function\n",
    "location_walcott_df = walcott_df.groupby(['province_state','collector_name']).size().to_frame().reset_index()\n",
    "#renaming last column in groupby function above \n",
    "location_walcott_df = location_walcott_df.rename(columns={0: 'ind_count'})\n",
    "location_walcott_df "
   ]
  },
  {
   "cell_type": "code",
   "execution_count": 14,
   "metadata": {},
   "outputs": [
    {
     "data": {
      "text/plain": [
       "collector_name  country        province_state      \n",
       "C. D. Walcott   Canada         Alberta                  1\n",
       "                               New Brunswick            1\n",
       "                United States  Arizona                  6\n",
       "                               Arkansas                 1\n",
       "                               California               8\n",
       "                               Colorado                 2\n",
       "                               District of Columbia     1\n",
       "                               Maryland                 3\n",
       "                               Nevada                   3\n",
       "                               New Mexico              12\n",
       "                               Oklahoma                 1\n",
       "                               Tennessee                7\n",
       "                               Utah                     1\n",
       "M. V. Walcott   Canada         Alberta                 49\n",
       "                               British Columbia        94\n",
       "                               Ontario                  1\n",
       "                               Saskatchewan             1\n",
       "                Mexico         Colima                   1\n",
       "                Puerto Rico    Guánica                  1\n",
       "                United States  Arizona                  5\n",
       "                               California               7\n",
       "                               Colorado                 2\n",
       "                               New Mexico               1\n",
       "                               South Carolina           4\n",
       "                               Utah                     6\n",
       "dtype: int64"
      ]
     },
     "execution_count": 14,
     "metadata": {},
     "output_type": "execute_result"
    }
   ],
   "source": [
    "#list the location and province and count of specimen for each collector \n",
    "walcott_df.groupby(['collector_name','country','province_state']).size()"
   ]
  },
  {
   "cell_type": "code",
   "execution_count": 15,
   "metadata": {},
   "outputs": [
    {
     "data": {
      "text/plain": [
       "country        province_state      \n",
       "Canada         Alberta                 50\n",
       "               British Columbia        94\n",
       "               New Brunswick            1\n",
       "               Ontario                  1\n",
       "               Saskatchewan             1\n",
       "Mexico         Colima                   1\n",
       "Puerto Rico    Guánica                  1\n",
       "United States  Arizona                 11\n",
       "               Arkansas                 1\n",
       "               California              15\n",
       "               Colorado                 4\n",
       "               District of Columbia     1\n",
       "               Maryland                 3\n",
       "               Nevada                   3\n",
       "               New Mexico              13\n",
       "               Oklahoma                 1\n",
       "               South Carolina           4\n",
       "               Tennessee                7\n",
       "               Utah                     7\n",
       "dtype: int64"
      ]
     },
     "execution_count": 15,
     "metadata": {},
     "output_type": "execute_result"
    }
   ],
   "source": [
    "#list of countries and the province/state loaction with the frequency \n",
    "walcott_df.groupby(['country','province_state']).size()"
   ]
  },
  {
   "cell_type": "code",
   "execution_count": 16,
   "metadata": {},
   "outputs": [
    {
     "data": {
      "text/html": [
       "<div>\n",
       "<style scoped>\n",
       "    .dataframe tbody tr th:only-of-type {\n",
       "        vertical-align: middle;\n",
       "    }\n",
       "\n",
       "    .dataframe tbody tr th {\n",
       "        vertical-align: top;\n",
       "    }\n",
       "\n",
       "    .dataframe thead th {\n",
       "        text-align: right;\n",
       "    }\n",
       "</style>\n",
       "<table border=\"1\" class=\"dataframe\">\n",
       "  <thead>\n",
       "    <tr style=\"text-align: right;\">\n",
       "      <th></th>\n",
       "      <th>country</th>\n",
       "      <th>province_state</th>\n",
       "      <th>lat</th>\n",
       "      <th>long</th>\n",
       "    </tr>\n",
       "  </thead>\n",
       "  <tbody>\n",
       "    <tr>\n",
       "      <th>0</th>\n",
       "      <td>Canada</td>\n",
       "      <td>Alberta</td>\n",
       "      <td>56.529681</td>\n",
       "      <td>-112.029586</td>\n",
       "    </tr>\n",
       "    <tr>\n",
       "      <th>1</th>\n",
       "      <td>Canada</td>\n",
       "      <td>British Columbia</td>\n",
       "      <td>54.399416</td>\n",
       "      <td>-127.885982</td>\n",
       "    </tr>\n",
       "    <tr>\n",
       "      <th>2</th>\n",
       "      <td>Canada</td>\n",
       "      <td>New Brunswick</td>\n",
       "      <td>47.287637</td>\n",
       "      <td>-65.885997</td>\n",
       "    </tr>\n",
       "    <tr>\n",
       "      <th>3</th>\n",
       "      <td>Canada</td>\n",
       "      <td>Ontario</td>\n",
       "      <td>49.927078</td>\n",
       "      <td>-85.677422</td>\n",
       "    </tr>\n",
       "    <tr>\n",
       "      <th>4</th>\n",
       "      <td>Canada</td>\n",
       "      <td>Saskatchewan</td>\n",
       "      <td>53.687215</td>\n",
       "      <td>-107.141410</td>\n",
       "    </tr>\n",
       "    <tr>\n",
       "      <th>5</th>\n",
       "      <td>Mexico</td>\n",
       "      <td>Colima</td>\n",
       "      <td>19.239392</td>\n",
       "      <td>-103.727235</td>\n",
       "    </tr>\n",
       "    <tr>\n",
       "      <th>6</th>\n",
       "      <td>Puerto Rico</td>\n",
       "      <td>Guánica</td>\n",
       "      <td>17.970634</td>\n",
       "      <td>-66.912939</td>\n",
       "    </tr>\n",
       "    <tr>\n",
       "      <th>7</th>\n",
       "      <td>United States</td>\n",
       "      <td>Arizona</td>\n",
       "      <td>34.026561</td>\n",
       "      <td>-111.877243</td>\n",
       "    </tr>\n",
       "    <tr>\n",
       "      <th>8</th>\n",
       "      <td>United States</td>\n",
       "      <td>Arkansas</td>\n",
       "      <td>35.453516</td>\n",
       "      <td>-92.843645</td>\n",
       "    </tr>\n",
       "    <tr>\n",
       "      <th>9</th>\n",
       "      <td>United States</td>\n",
       "      <td>California</td>\n",
       "      <td>37.746073</td>\n",
       "      <td>-121.822755</td>\n",
       "    </tr>\n",
       "    <tr>\n",
       "      <th>10</th>\n",
       "      <td>United States</td>\n",
       "      <td>Colorado</td>\n",
       "      <td>39.073178</td>\n",
       "      <td>-106.626575</td>\n",
       "    </tr>\n",
       "    <tr>\n",
       "      <th>11</th>\n",
       "      <td>United States</td>\n",
       "      <td>District of Columbia</td>\n",
       "      <td>38.909320</td>\n",
       "      <td>-77.014560</td>\n",
       "    </tr>\n",
       "    <tr>\n",
       "      <th>12</th>\n",
       "      <td>United States</td>\n",
       "      <td>Maryland</td>\n",
       "      <td>39.630499</td>\n",
       "      <td>-77.387132</td>\n",
       "    </tr>\n",
       "    <tr>\n",
       "      <th>13</th>\n",
       "      <td>United States</td>\n",
       "      <td>Nevada</td>\n",
       "      <td>39.203409</td>\n",
       "      <td>-116.386827</td>\n",
       "    </tr>\n",
       "    <tr>\n",
       "      <th>14</th>\n",
       "      <td>United States</td>\n",
       "      <td>New Mexico</td>\n",
       "      <td>35.929530</td>\n",
       "      <td>-106.740549</td>\n",
       "    </tr>\n",
       "    <tr>\n",
       "      <th>15</th>\n",
       "      <td>United States</td>\n",
       "      <td>Oklahoma</td>\n",
       "      <td>35.653705</td>\n",
       "      <td>-97.975609</td>\n",
       "    </tr>\n",
       "    <tr>\n",
       "      <th>16</th>\n",
       "      <td>United States</td>\n",
       "      <td>South Carolina</td>\n",
       "      <td>34.304820</td>\n",
       "      <td>-80.774066</td>\n",
       "    </tr>\n",
       "    <tr>\n",
       "      <th>17</th>\n",
       "      <td>United States</td>\n",
       "      <td>Tennessee</td>\n",
       "      <td>36.009404</td>\n",
       "      <td>-85.670425</td>\n",
       "    </tr>\n",
       "    <tr>\n",
       "      <th>18</th>\n",
       "      <td>United States</td>\n",
       "      <td>Utah</td>\n",
       "      <td>38.863571</td>\n",
       "      <td>-112.100448</td>\n",
       "    </tr>\n",
       "  </tbody>\n",
       "</table>\n",
       "</div>"
      ],
      "text/plain": [
       "          country        province_state        lat        long\n",
       "0          Canada               Alberta  56.529681 -112.029586\n",
       "1          Canada      British Columbia  54.399416 -127.885982\n",
       "2          Canada         New Brunswick  47.287637  -65.885997\n",
       "3          Canada               Ontario  49.927078  -85.677422\n",
       "4          Canada          Saskatchewan  53.687215 -107.141410\n",
       "5          Mexico                Colima  19.239392 -103.727235\n",
       "6     Puerto Rico               Guánica  17.970634  -66.912939\n",
       "7   United States               Arizona  34.026561 -111.877243\n",
       "8   United States              Arkansas  35.453516  -92.843645\n",
       "9   United States            California  37.746073 -121.822755\n",
       "10  United States              Colorado  39.073178 -106.626575\n",
       "11  United States  District of Columbia  38.909320  -77.014560\n",
       "12  United States              Maryland  39.630499  -77.387132\n",
       "13  United States                Nevada  39.203409 -116.386827\n",
       "14  United States            New Mexico  35.929530 -106.740549\n",
       "15  United States              Oklahoma  35.653705  -97.975609\n",
       "16  United States        South Carolina  34.304820  -80.774066\n",
       "17  United States             Tennessee  36.009404  -85.670425\n",
       "18  United States                  Utah  38.863571 -112.100448"
      ]
     },
     "execution_count": 16,
     "metadata": {},
     "output_type": "execute_result"
    }
   ],
   "source": [
    "walcott_coordinates = pd.read_csv('walcott_location.csv')\n",
    "walcott_coordinates "
   ]
  },
  {
   "cell_type": "code",
   "execution_count": 17,
   "metadata": {},
   "outputs": [
    {
     "data": {
      "text/html": [
       "<div>\n",
       "<style scoped>\n",
       "    .dataframe tbody tr th:only-of-type {\n",
       "        vertical-align: middle;\n",
       "    }\n",
       "\n",
       "    .dataframe tbody tr th {\n",
       "        vertical-align: top;\n",
       "    }\n",
       "\n",
       "    .dataframe thead th {\n",
       "        text-align: right;\n",
       "    }\n",
       "</style>\n",
       "<table border=\"1\" class=\"dataframe\">\n",
       "  <thead>\n",
       "    <tr style=\"text-align: right;\">\n",
       "      <th></th>\n",
       "      <th>province_state</th>\n",
       "      <th>collector_name</th>\n",
       "      <th>ind_count</th>\n",
       "      <th>country</th>\n",
       "      <th>lat</th>\n",
       "      <th>long</th>\n",
       "    </tr>\n",
       "  </thead>\n",
       "  <tbody>\n",
       "    <tr>\n",
       "      <th>0</th>\n",
       "      <td>Alberta</td>\n",
       "      <td>C. D. Walcott</td>\n",
       "      <td>1</td>\n",
       "      <td>Canada</td>\n",
       "      <td>56.529681</td>\n",
       "      <td>-112.029586</td>\n",
       "    </tr>\n",
       "    <tr>\n",
       "      <th>1</th>\n",
       "      <td>Alberta</td>\n",
       "      <td>M. V. Walcott</td>\n",
       "      <td>49</td>\n",
       "      <td>Canada</td>\n",
       "      <td>56.529681</td>\n",
       "      <td>-112.029586</td>\n",
       "    </tr>\n",
       "    <tr>\n",
       "      <th>2</th>\n",
       "      <td>Arizona</td>\n",
       "      <td>C. D. Walcott</td>\n",
       "      <td>6</td>\n",
       "      <td>United States</td>\n",
       "      <td>34.026561</td>\n",
       "      <td>-111.877243</td>\n",
       "    </tr>\n",
       "    <tr>\n",
       "      <th>3</th>\n",
       "      <td>Arizona</td>\n",
       "      <td>M. V. Walcott</td>\n",
       "      <td>5</td>\n",
       "      <td>United States</td>\n",
       "      <td>34.026561</td>\n",
       "      <td>-111.877243</td>\n",
       "    </tr>\n",
       "    <tr>\n",
       "      <th>4</th>\n",
       "      <td>Arkansas</td>\n",
       "      <td>C. D. Walcott</td>\n",
       "      <td>1</td>\n",
       "      <td>United States</td>\n",
       "      <td>35.453516</td>\n",
       "      <td>-92.843645</td>\n",
       "    </tr>\n",
       "    <tr>\n",
       "      <th>5</th>\n",
       "      <td>British Columbia</td>\n",
       "      <td>M. V. Walcott</td>\n",
       "      <td>94</td>\n",
       "      <td>Canada</td>\n",
       "      <td>54.399416</td>\n",
       "      <td>-127.885982</td>\n",
       "    </tr>\n",
       "    <tr>\n",
       "      <th>6</th>\n",
       "      <td>California</td>\n",
       "      <td>C. D. Walcott</td>\n",
       "      <td>8</td>\n",
       "      <td>United States</td>\n",
       "      <td>37.746073</td>\n",
       "      <td>-121.822755</td>\n",
       "    </tr>\n",
       "    <tr>\n",
       "      <th>7</th>\n",
       "      <td>California</td>\n",
       "      <td>M. V. Walcott</td>\n",
       "      <td>7</td>\n",
       "      <td>United States</td>\n",
       "      <td>37.746073</td>\n",
       "      <td>-121.822755</td>\n",
       "    </tr>\n",
       "    <tr>\n",
       "      <th>8</th>\n",
       "      <td>Colima</td>\n",
       "      <td>M. V. Walcott</td>\n",
       "      <td>1</td>\n",
       "      <td>Mexico</td>\n",
       "      <td>19.239392</td>\n",
       "      <td>-103.727235</td>\n",
       "    </tr>\n",
       "    <tr>\n",
       "      <th>9</th>\n",
       "      <td>Colorado</td>\n",
       "      <td>C. D. Walcott</td>\n",
       "      <td>2</td>\n",
       "      <td>United States</td>\n",
       "      <td>39.073178</td>\n",
       "      <td>-106.626575</td>\n",
       "    </tr>\n",
       "    <tr>\n",
       "      <th>10</th>\n",
       "      <td>Colorado</td>\n",
       "      <td>M. V. Walcott</td>\n",
       "      <td>2</td>\n",
       "      <td>United States</td>\n",
       "      <td>39.073178</td>\n",
       "      <td>-106.626575</td>\n",
       "    </tr>\n",
       "    <tr>\n",
       "      <th>11</th>\n",
       "      <td>District of Columbia</td>\n",
       "      <td>C. D. Walcott</td>\n",
       "      <td>1</td>\n",
       "      <td>United States</td>\n",
       "      <td>38.909320</td>\n",
       "      <td>-77.014560</td>\n",
       "    </tr>\n",
       "    <tr>\n",
       "      <th>12</th>\n",
       "      <td>Guánica</td>\n",
       "      <td>M. V. Walcott</td>\n",
       "      <td>1</td>\n",
       "      <td>Puerto Rico</td>\n",
       "      <td>17.970634</td>\n",
       "      <td>-66.912939</td>\n",
       "    </tr>\n",
       "    <tr>\n",
       "      <th>13</th>\n",
       "      <td>Maryland</td>\n",
       "      <td>C. D. Walcott</td>\n",
       "      <td>3</td>\n",
       "      <td>United States</td>\n",
       "      <td>39.630499</td>\n",
       "      <td>-77.387132</td>\n",
       "    </tr>\n",
       "    <tr>\n",
       "      <th>14</th>\n",
       "      <td>Nevada</td>\n",
       "      <td>C. D. Walcott</td>\n",
       "      <td>3</td>\n",
       "      <td>United States</td>\n",
       "      <td>39.203409</td>\n",
       "      <td>-116.386827</td>\n",
       "    </tr>\n",
       "    <tr>\n",
       "      <th>15</th>\n",
       "      <td>New Brunswick</td>\n",
       "      <td>C. D. Walcott</td>\n",
       "      <td>1</td>\n",
       "      <td>Canada</td>\n",
       "      <td>47.287637</td>\n",
       "      <td>-65.885997</td>\n",
       "    </tr>\n",
       "    <tr>\n",
       "      <th>16</th>\n",
       "      <td>New Mexico</td>\n",
       "      <td>C. D. Walcott</td>\n",
       "      <td>12</td>\n",
       "      <td>United States</td>\n",
       "      <td>35.929530</td>\n",
       "      <td>-106.740549</td>\n",
       "    </tr>\n",
       "    <tr>\n",
       "      <th>17</th>\n",
       "      <td>New Mexico</td>\n",
       "      <td>M. V. Walcott</td>\n",
       "      <td>1</td>\n",
       "      <td>United States</td>\n",
       "      <td>35.929530</td>\n",
       "      <td>-106.740549</td>\n",
       "    </tr>\n",
       "    <tr>\n",
       "      <th>18</th>\n",
       "      <td>Oklahoma</td>\n",
       "      <td>C. D. Walcott</td>\n",
       "      <td>1</td>\n",
       "      <td>United States</td>\n",
       "      <td>35.653705</td>\n",
       "      <td>-97.975609</td>\n",
       "    </tr>\n",
       "    <tr>\n",
       "      <th>19</th>\n",
       "      <td>Ontario</td>\n",
       "      <td>M. V. Walcott</td>\n",
       "      <td>1</td>\n",
       "      <td>Canada</td>\n",
       "      <td>49.927078</td>\n",
       "      <td>-85.677422</td>\n",
       "    </tr>\n",
       "    <tr>\n",
       "      <th>20</th>\n",
       "      <td>Saskatchewan</td>\n",
       "      <td>M. V. Walcott</td>\n",
       "      <td>1</td>\n",
       "      <td>Canada</td>\n",
       "      <td>53.687215</td>\n",
       "      <td>-107.141410</td>\n",
       "    </tr>\n",
       "    <tr>\n",
       "      <th>21</th>\n",
       "      <td>South Carolina</td>\n",
       "      <td>M. V. Walcott</td>\n",
       "      <td>4</td>\n",
       "      <td>United States</td>\n",
       "      <td>34.304820</td>\n",
       "      <td>-80.774066</td>\n",
       "    </tr>\n",
       "    <tr>\n",
       "      <th>22</th>\n",
       "      <td>Tennessee</td>\n",
       "      <td>C. D. Walcott</td>\n",
       "      <td>7</td>\n",
       "      <td>United States</td>\n",
       "      <td>36.009404</td>\n",
       "      <td>-85.670425</td>\n",
       "    </tr>\n",
       "    <tr>\n",
       "      <th>23</th>\n",
       "      <td>Utah</td>\n",
       "      <td>C. D. Walcott</td>\n",
       "      <td>1</td>\n",
       "      <td>United States</td>\n",
       "      <td>38.863571</td>\n",
       "      <td>-112.100448</td>\n",
       "    </tr>\n",
       "    <tr>\n",
       "      <th>24</th>\n",
       "      <td>Utah</td>\n",
       "      <td>M. V. Walcott</td>\n",
       "      <td>6</td>\n",
       "      <td>United States</td>\n",
       "      <td>38.863571</td>\n",
       "      <td>-112.100448</td>\n",
       "    </tr>\n",
       "  </tbody>\n",
       "</table>\n",
       "</div>"
      ],
      "text/plain": [
       "          province_state collector_name  ind_count        country        lat  \\\n",
       "0                Alberta  C. D. Walcott          1         Canada  56.529681   \n",
       "1                Alberta  M. V. Walcott         49         Canada  56.529681   \n",
       "2                Arizona  C. D. Walcott          6  United States  34.026561   \n",
       "3                Arizona  M. V. Walcott          5  United States  34.026561   \n",
       "4               Arkansas  C. D. Walcott          1  United States  35.453516   \n",
       "5       British Columbia  M. V. Walcott         94         Canada  54.399416   \n",
       "6             California  C. D. Walcott          8  United States  37.746073   \n",
       "7             California  M. V. Walcott          7  United States  37.746073   \n",
       "8                 Colima  M. V. Walcott          1         Mexico  19.239392   \n",
       "9               Colorado  C. D. Walcott          2  United States  39.073178   \n",
       "10              Colorado  M. V. Walcott          2  United States  39.073178   \n",
       "11  District of Columbia  C. D. Walcott          1  United States  38.909320   \n",
       "12               Guánica  M. V. Walcott          1    Puerto Rico  17.970634   \n",
       "13              Maryland  C. D. Walcott          3  United States  39.630499   \n",
       "14                Nevada  C. D. Walcott          3  United States  39.203409   \n",
       "15         New Brunswick  C. D. Walcott          1         Canada  47.287637   \n",
       "16            New Mexico  C. D. Walcott         12  United States  35.929530   \n",
       "17            New Mexico  M. V. Walcott          1  United States  35.929530   \n",
       "18              Oklahoma  C. D. Walcott          1  United States  35.653705   \n",
       "19               Ontario  M. V. Walcott          1         Canada  49.927078   \n",
       "20          Saskatchewan  M. V. Walcott          1         Canada  53.687215   \n",
       "21        South Carolina  M. V. Walcott          4  United States  34.304820   \n",
       "22             Tennessee  C. D. Walcott          7  United States  36.009404   \n",
       "23                  Utah  C. D. Walcott          1  United States  38.863571   \n",
       "24                  Utah  M. V. Walcott          6  United States  38.863571   \n",
       "\n",
       "          long  \n",
       "0  -112.029586  \n",
       "1  -112.029586  \n",
       "2  -111.877243  \n",
       "3  -111.877243  \n",
       "4   -92.843645  \n",
       "5  -127.885982  \n",
       "6  -121.822755  \n",
       "7  -121.822755  \n",
       "8  -103.727235  \n",
       "9  -106.626575  \n",
       "10 -106.626575  \n",
       "11  -77.014560  \n",
       "12  -66.912939  \n",
       "13  -77.387132  \n",
       "14 -116.386827  \n",
       "15  -65.885997  \n",
       "16 -106.740549  \n",
       "17 -106.740549  \n",
       "18  -97.975609  \n",
       "19  -85.677422  \n",
       "20 -107.141410  \n",
       "21  -80.774066  \n",
       "22  -85.670425  \n",
       "23 -112.100448  \n",
       "24 -112.100448  "
      ]
     },
     "execution_count": 17,
     "metadata": {},
     "output_type": "execute_result"
    }
   ],
   "source": [
    "#combinding walcott_coordinates dataframe with location_walcott dataframe \n",
    "combine_walcott_location = location_walcott_df[['province_state','collector_name','ind_count']].merge(walcott_coordinates, how = 'left', on = 'province_state')\n",
    "combine_walcott_location\n"
   ]
  },
  {
   "cell_type": "markdown",
   "metadata": {},
   "source": [
    "- ^ note: if the columns arent the same length you won't be able to<br>merge right_on= and left_on=you'll need to use on=\n",
    "- resource link for merge function: https://stackoverflow.com/questions/53026827/pandas-merge-function-only-giving-column-headers-update"
   ]
  },
  {
   "cell_type": "markdown",
   "metadata": {},
   "source": [
    "### Sub dataframe Mary_walcott and Charles_walcott \n",
    "- creating sub dataframe for each collector_name \n",
    "- this will give you an option to make a trace for each collector "
   ]
  },
  {
   "cell_type": "code",
   "execution_count": 49,
   "metadata": {},
   "outputs": [
    {
     "data": {
      "text/html": [
       "<div>\n",
       "<style scoped>\n",
       "    .dataframe tbody tr th:only-of-type {\n",
       "        vertical-align: middle;\n",
       "    }\n",
       "\n",
       "    .dataframe tbody tr th {\n",
       "        vertical-align: top;\n",
       "    }\n",
       "\n",
       "    .dataframe thead th {\n",
       "        text-align: right;\n",
       "    }\n",
       "</style>\n",
       "<table border=\"1\" class=\"dataframe\">\n",
       "  <thead>\n",
       "    <tr style=\"text-align: right;\">\n",
       "      <th></th>\n",
       "      <th>province_state</th>\n",
       "      <th>collector_name</th>\n",
       "      <th>ind_count</th>\n",
       "      <th>country</th>\n",
       "      <th>lat</th>\n",
       "      <th>long</th>\n",
       "    </tr>\n",
       "  </thead>\n",
       "  <tbody>\n",
       "    <tr>\n",
       "      <th>1</th>\n",
       "      <td>Alberta</td>\n",
       "      <td>M. V. Walcott</td>\n",
       "      <td>49</td>\n",
       "      <td>Canada</td>\n",
       "      <td>56.529681</td>\n",
       "      <td>-112.029586</td>\n",
       "    </tr>\n",
       "    <tr>\n",
       "      <th>3</th>\n",
       "      <td>Arizona</td>\n",
       "      <td>M. V. Walcott</td>\n",
       "      <td>5</td>\n",
       "      <td>United States</td>\n",
       "      <td>34.026561</td>\n",
       "      <td>-111.877243</td>\n",
       "    </tr>\n",
       "    <tr>\n",
       "      <th>5</th>\n",
       "      <td>British Columbia</td>\n",
       "      <td>M. V. Walcott</td>\n",
       "      <td>94</td>\n",
       "      <td>Canada</td>\n",
       "      <td>54.399416</td>\n",
       "      <td>-127.885982</td>\n",
       "    </tr>\n",
       "    <tr>\n",
       "      <th>7</th>\n",
       "      <td>California</td>\n",
       "      <td>M. V. Walcott</td>\n",
       "      <td>7</td>\n",
       "      <td>United States</td>\n",
       "      <td>37.746073</td>\n",
       "      <td>-121.822755</td>\n",
       "    </tr>\n",
       "    <tr>\n",
       "      <th>8</th>\n",
       "      <td>Colima</td>\n",
       "      <td>M. V. Walcott</td>\n",
       "      <td>1</td>\n",
       "      <td>Mexico</td>\n",
       "      <td>19.239392</td>\n",
       "      <td>-103.727235</td>\n",
       "    </tr>\n",
       "    <tr>\n",
       "      <th>10</th>\n",
       "      <td>Colorado</td>\n",
       "      <td>M. V. Walcott</td>\n",
       "      <td>2</td>\n",
       "      <td>United States</td>\n",
       "      <td>39.073178</td>\n",
       "      <td>-106.626575</td>\n",
       "    </tr>\n",
       "    <tr>\n",
       "      <th>12</th>\n",
       "      <td>Guánica</td>\n",
       "      <td>M. V. Walcott</td>\n",
       "      <td>1</td>\n",
       "      <td>Puerto Rico</td>\n",
       "      <td>17.970634</td>\n",
       "      <td>-66.912939</td>\n",
       "    </tr>\n",
       "    <tr>\n",
       "      <th>17</th>\n",
       "      <td>New Mexico</td>\n",
       "      <td>M. V. Walcott</td>\n",
       "      <td>1</td>\n",
       "      <td>United States</td>\n",
       "      <td>35.929530</td>\n",
       "      <td>-106.740549</td>\n",
       "    </tr>\n",
       "    <tr>\n",
       "      <th>19</th>\n",
       "      <td>Ontario</td>\n",
       "      <td>M. V. Walcott</td>\n",
       "      <td>1</td>\n",
       "      <td>Canada</td>\n",
       "      <td>49.927078</td>\n",
       "      <td>-85.677422</td>\n",
       "    </tr>\n",
       "    <tr>\n",
       "      <th>20</th>\n",
       "      <td>Saskatchewan</td>\n",
       "      <td>M. V. Walcott</td>\n",
       "      <td>1</td>\n",
       "      <td>Canada</td>\n",
       "      <td>53.687215</td>\n",
       "      <td>-107.141410</td>\n",
       "    </tr>\n",
       "    <tr>\n",
       "      <th>21</th>\n",
       "      <td>South Carolina</td>\n",
       "      <td>M. V. Walcott</td>\n",
       "      <td>4</td>\n",
       "      <td>United States</td>\n",
       "      <td>34.304820</td>\n",
       "      <td>-80.774066</td>\n",
       "    </tr>\n",
       "    <tr>\n",
       "      <th>24</th>\n",
       "      <td>Utah</td>\n",
       "      <td>M. V. Walcott</td>\n",
       "      <td>6</td>\n",
       "      <td>United States</td>\n",
       "      <td>38.863571</td>\n",
       "      <td>-112.100448</td>\n",
       "    </tr>\n",
       "  </tbody>\n",
       "</table>\n",
       "</div>"
      ],
      "text/plain": [
       "      province_state collector_name  ind_count        country        lat  \\\n",
       "1            Alberta  M. V. Walcott         49         Canada  56.529681   \n",
       "3            Arizona  M. V. Walcott          5  United States  34.026561   \n",
       "5   British Columbia  M. V. Walcott         94         Canada  54.399416   \n",
       "7         California  M. V. Walcott          7  United States  37.746073   \n",
       "8             Colima  M. V. Walcott          1         Mexico  19.239392   \n",
       "10          Colorado  M. V. Walcott          2  United States  39.073178   \n",
       "12           Guánica  M. V. Walcott          1    Puerto Rico  17.970634   \n",
       "17        New Mexico  M. V. Walcott          1  United States  35.929530   \n",
       "19           Ontario  M. V. Walcott          1         Canada  49.927078   \n",
       "20      Saskatchewan  M. V. Walcott          1         Canada  53.687215   \n",
       "21    South Carolina  M. V. Walcott          4  United States  34.304820   \n",
       "24              Utah  M. V. Walcott          6  United States  38.863571   \n",
       "\n",
       "          long  \n",
       "1  -112.029586  \n",
       "3  -111.877243  \n",
       "5  -127.885982  \n",
       "7  -121.822755  \n",
       "8  -103.727235  \n",
       "10 -106.626575  \n",
       "12  -66.912939  \n",
       "17 -106.740549  \n",
       "19  -85.677422  \n",
       "20 -107.141410  \n",
       "21  -80.774066  \n",
       "24 -112.100448  "
      ]
     },
     "execution_count": 49,
     "metadata": {},
     "output_type": "execute_result"
    }
   ],
   "source": [
    "#creating mary vaux walcott sub dataframe \n",
    "mary_vaux_walcott = combine_walcott_location[combine_walcott_location['collector_name'] == 'M. V. Walcott'].copy()\n",
    "mary_vaux_walcott\n"
   ]
  },
  {
   "cell_type": "code",
   "execution_count": 67,
   "metadata": {},
   "outputs": [
    {
     "data": {
      "text/html": [
       "<div>\n",
       "<style scoped>\n",
       "    .dataframe tbody tr th:only-of-type {\n",
       "        vertical-align: middle;\n",
       "    }\n",
       "\n",
       "    .dataframe tbody tr th {\n",
       "        vertical-align: top;\n",
       "    }\n",
       "\n",
       "    .dataframe thead th {\n",
       "        text-align: right;\n",
       "    }\n",
       "</style>\n",
       "<table border=\"1\" class=\"dataframe\">\n",
       "  <thead>\n",
       "    <tr style=\"text-align: right;\">\n",
       "      <th></th>\n",
       "      <th>province_state</th>\n",
       "      <th>collector_name</th>\n",
       "      <th>ind_count</th>\n",
       "      <th>country</th>\n",
       "      <th>lat</th>\n",
       "      <th>long</th>\n",
       "      <th>specimen_name</th>\n",
       "      <th>text</th>\n",
       "    </tr>\n",
       "  </thead>\n",
       "  <tbody>\n",
       "    <tr>\n",
       "      <th>1</th>\n",
       "      <td>Alberta</td>\n",
       "      <td>M. V. Walcott</td>\n",
       "      <td>49</td>\n",
       "      <td>Canada</td>\n",
       "      <td>56.529681</td>\n",
       "      <td>-112.029586</td>\n",
       "      <td>Daisy, Legumes</td>\n",
       "      <td>Alberta, most collected: Daisy family,Legumes,...</td>\n",
       "    </tr>\n",
       "    <tr>\n",
       "      <th>3</th>\n",
       "      <td>Arizona</td>\n",
       "      <td>M. V. Walcott</td>\n",
       "      <td>5</td>\n",
       "      <td>United States</td>\n",
       "      <td>34.026561</td>\n",
       "      <td>-111.877243</td>\n",
       "      <td>Daisy, Evening primroses</td>\n",
       "      <td>Arizona, most collected: Daisy family, Evening...</td>\n",
       "    </tr>\n",
       "    <tr>\n",
       "      <th>5</th>\n",
       "      <td>British Columbia</td>\n",
       "      <td>M. V. Walcott</td>\n",
       "      <td>94</td>\n",
       "      <td>Canada</td>\n",
       "      <td>54.399416</td>\n",
       "      <td>-127.885982</td>\n",
       "      <td>Daisy</td>\n",
       "      <td>British Columbia, most collected: Daisy family...</td>\n",
       "    </tr>\n",
       "    <tr>\n",
       "      <th>7</th>\n",
       "      <td>California</td>\n",
       "      <td>M. V. Walcott</td>\n",
       "      <td>7</td>\n",
       "      <td>United States</td>\n",
       "      <td>37.746073</td>\n",
       "      <td>-121.822755</td>\n",
       "      <td>Mints,Orchids</td>\n",
       "      <td>California, most collected: Mints,Orchids, cou...</td>\n",
       "    </tr>\n",
       "    <tr>\n",
       "      <th>8</th>\n",
       "      <td>Colima</td>\n",
       "      <td>M. V. Walcott</td>\n",
       "      <td>1</td>\n",
       "      <td>Mexico</td>\n",
       "      <td>19.239392</td>\n",
       "      <td>-103.727235</td>\n",
       "      <td>Evening primroses</td>\n",
       "      <td>Colima, most collected: Evening primroses, cou...</td>\n",
       "    </tr>\n",
       "    <tr>\n",
       "      <th>10</th>\n",
       "      <td>Colorado</td>\n",
       "      <td>M. V. Walcott</td>\n",
       "      <td>2</td>\n",
       "      <td>United States</td>\n",
       "      <td>39.073178</td>\n",
       "      <td>-106.626575</td>\n",
       "      <td>Pholox ,Legumes</td>\n",
       "      <td>Colorado, most collected: Pholox family,Legume...</td>\n",
       "    </tr>\n",
       "    <tr>\n",
       "      <th>12</th>\n",
       "      <td>Guánica</td>\n",
       "      <td>M. V. Walcott</td>\n",
       "      <td>1</td>\n",
       "      <td>Puerto Rico</td>\n",
       "      <td>17.970634</td>\n",
       "      <td>-66.912939</td>\n",
       "      <td>Ehretiaceae</td>\n",
       "      <td>Guánica, most collected: Ehretiaceae, count: 1</td>\n",
       "    </tr>\n",
       "    <tr>\n",
       "      <th>17</th>\n",
       "      <td>New Mexico</td>\n",
       "      <td>M. V. Walcott</td>\n",
       "      <td>1</td>\n",
       "      <td>United States</td>\n",
       "      <td>35.929530</td>\n",
       "      <td>-106.740549</td>\n",
       "      <td>Cactus</td>\n",
       "      <td>New Mexico, most collected: Cactus, count: 1</td>\n",
       "    </tr>\n",
       "    <tr>\n",
       "      <th>19</th>\n",
       "      <td>Ontario</td>\n",
       "      <td>M. V. Walcott</td>\n",
       "      <td>1</td>\n",
       "      <td>Canada</td>\n",
       "      <td>49.927078</td>\n",
       "      <td>-85.677422</td>\n",
       "      <td>Orchids</td>\n",
       "      <td>Ontario, most collected: Orchids, count: 1</td>\n",
       "    </tr>\n",
       "    <tr>\n",
       "      <th>20</th>\n",
       "      <td>Saskatchewan</td>\n",
       "      <td>M. V. Walcott</td>\n",
       "      <td>1</td>\n",
       "      <td>Canada</td>\n",
       "      <td>53.687215</td>\n",
       "      <td>-107.141410</td>\n",
       "      <td>Daisy</td>\n",
       "      <td>Saskatchewan, most collected: Daisy family, co...</td>\n",
       "    </tr>\n",
       "    <tr>\n",
       "      <th>21</th>\n",
       "      <td>South Carolina</td>\n",
       "      <td>M. V. Walcott</td>\n",
       "      <td>4</td>\n",
       "      <td>United States</td>\n",
       "      <td>34.304820</td>\n",
       "      <td>-80.774066</td>\n",
       "      <td>Heather ,Holly</td>\n",
       "      <td>South Carolina, most collected: Heather family...</td>\n",
       "    </tr>\n",
       "    <tr>\n",
       "      <th>24</th>\n",
       "      <td>Utah</td>\n",
       "      <td>M. V. Walcott</td>\n",
       "      <td>6</td>\n",
       "      <td>United States</td>\n",
       "      <td>38.863571</td>\n",
       "      <td>-112.100448</td>\n",
       "      <td>Evening primroses, Pine</td>\n",
       "      <td>Utah, most collected: Evening primroses, Pine ...</td>\n",
       "    </tr>\n",
       "  </tbody>\n",
       "</table>\n",
       "</div>"
      ],
      "text/plain": [
       "      province_state collector_name  ind_count        country        lat  \\\n",
       "1            Alberta  M. V. Walcott         49         Canada  56.529681   \n",
       "3            Arizona  M. V. Walcott          5  United States  34.026561   \n",
       "5   British Columbia  M. V. Walcott         94         Canada  54.399416   \n",
       "7         California  M. V. Walcott          7  United States  37.746073   \n",
       "8             Colima  M. V. Walcott          1         Mexico  19.239392   \n",
       "10          Colorado  M. V. Walcott          2  United States  39.073178   \n",
       "12           Guánica  M. V. Walcott          1    Puerto Rico  17.970634   \n",
       "17        New Mexico  M. V. Walcott          1  United States  35.929530   \n",
       "19           Ontario  M. V. Walcott          1         Canada  49.927078   \n",
       "20      Saskatchewan  M. V. Walcott          1         Canada  53.687215   \n",
       "21    South Carolina  M. V. Walcott          4  United States  34.304820   \n",
       "24              Utah  M. V. Walcott          6  United States  38.863571   \n",
       "\n",
       "          long             specimen_name  \\\n",
       "1  -112.029586            Daisy, Legumes   \n",
       "3  -111.877243  Daisy, Evening primroses   \n",
       "5  -127.885982                     Daisy   \n",
       "7  -121.822755             Mints,Orchids   \n",
       "8  -103.727235         Evening primroses   \n",
       "10 -106.626575           Pholox ,Legumes   \n",
       "12  -66.912939               Ehretiaceae   \n",
       "17 -106.740549                    Cactus   \n",
       "19  -85.677422                   Orchids   \n",
       "20 -107.141410                     Daisy   \n",
       "21  -80.774066            Heather ,Holly   \n",
       "24 -112.100448   Evening primroses, Pine   \n",
       "\n",
       "                                                 text  \n",
       "1   Alberta, most collected: Daisy family,Legumes,...  \n",
       "3   Arizona, most collected: Daisy family, Evening...  \n",
       "5   British Columbia, most collected: Daisy family...  \n",
       "7   California, most collected: Mints,Orchids, cou...  \n",
       "8   Colima, most collected: Evening primroses, cou...  \n",
       "10  Colorado, most collected: Pholox family,Legume...  \n",
       "12     Guánica, most collected: Ehretiaceae, count: 1  \n",
       "17       New Mexico, most collected: Cactus, count: 1  \n",
       "19         Ontario, most collected: Orchids, count: 1  \n",
       "20  Saskatchewan, most collected: Daisy family, co...  \n",
       "21  South Carolina, most collected: Heather family...  \n",
       "24  Utah, most collected: Evening primroses, Pine ...  "
      ]
     },
     "execution_count": 67,
     "metadata": {},
     "output_type": "execute_result"
    }
   ],
   "source": [
    "mary_vaux_walcott['specimen_name'] = ['Daisy, Legumes','Daisy, Evening primroses','Daisy','Mints,Orchids','Evening primroses','Pholox ,Legumes','Ehretiaceae','Cactus','Orchids','Daisy','Heather ,Holly','Evening primroses, Pine']\n",
    "mary_vaux_walcott\n"
   ]
  },
  {
   "cell_type": "code",
   "execution_count": 50,
   "metadata": {},
   "outputs": [
    {
     "data": {
      "text/html": [
       "<div>\n",
       "<style scoped>\n",
       "    .dataframe tbody tr th:only-of-type {\n",
       "        vertical-align: middle;\n",
       "    }\n",
       "\n",
       "    .dataframe tbody tr th {\n",
       "        vertical-align: top;\n",
       "    }\n",
       "\n",
       "    .dataframe thead th {\n",
       "        text-align: right;\n",
       "    }\n",
       "</style>\n",
       "<table border=\"1\" class=\"dataframe\">\n",
       "  <thead>\n",
       "    <tr style=\"text-align: right;\">\n",
       "      <th></th>\n",
       "      <th>province_state</th>\n",
       "      <th>collector_name</th>\n",
       "      <th>ind_count</th>\n",
       "      <th>country</th>\n",
       "      <th>lat</th>\n",
       "      <th>long</th>\n",
       "    </tr>\n",
       "  </thead>\n",
       "  <tbody>\n",
       "    <tr>\n",
       "      <th>0</th>\n",
       "      <td>Alberta</td>\n",
       "      <td>C. D. Walcott</td>\n",
       "      <td>1</td>\n",
       "      <td>Canada</td>\n",
       "      <td>56.529681</td>\n",
       "      <td>-112.029586</td>\n",
       "    </tr>\n",
       "    <tr>\n",
       "      <th>2</th>\n",
       "      <td>Arizona</td>\n",
       "      <td>C. D. Walcott</td>\n",
       "      <td>6</td>\n",
       "      <td>United States</td>\n",
       "      <td>34.026561</td>\n",
       "      <td>-111.877243</td>\n",
       "    </tr>\n",
       "    <tr>\n",
       "      <th>4</th>\n",
       "      <td>Arkansas</td>\n",
       "      <td>C. D. Walcott</td>\n",
       "      <td>1</td>\n",
       "      <td>United States</td>\n",
       "      <td>35.453516</td>\n",
       "      <td>-92.843645</td>\n",
       "    </tr>\n",
       "    <tr>\n",
       "      <th>6</th>\n",
       "      <td>California</td>\n",
       "      <td>C. D. Walcott</td>\n",
       "      <td>8</td>\n",
       "      <td>United States</td>\n",
       "      <td>37.746073</td>\n",
       "      <td>-121.822755</td>\n",
       "    </tr>\n",
       "    <tr>\n",
       "      <th>9</th>\n",
       "      <td>Colorado</td>\n",
       "      <td>C. D. Walcott</td>\n",
       "      <td>2</td>\n",
       "      <td>United States</td>\n",
       "      <td>39.073178</td>\n",
       "      <td>-106.626575</td>\n",
       "    </tr>\n",
       "    <tr>\n",
       "      <th>11</th>\n",
       "      <td>District of Columbia</td>\n",
       "      <td>C. D. Walcott</td>\n",
       "      <td>1</td>\n",
       "      <td>United States</td>\n",
       "      <td>38.909320</td>\n",
       "      <td>-77.014560</td>\n",
       "    </tr>\n",
       "    <tr>\n",
       "      <th>13</th>\n",
       "      <td>Maryland</td>\n",
       "      <td>C. D. Walcott</td>\n",
       "      <td>3</td>\n",
       "      <td>United States</td>\n",
       "      <td>39.630499</td>\n",
       "      <td>-77.387132</td>\n",
       "    </tr>\n",
       "    <tr>\n",
       "      <th>14</th>\n",
       "      <td>Nevada</td>\n",
       "      <td>C. D. Walcott</td>\n",
       "      <td>3</td>\n",
       "      <td>United States</td>\n",
       "      <td>39.203409</td>\n",
       "      <td>-116.386827</td>\n",
       "    </tr>\n",
       "    <tr>\n",
       "      <th>15</th>\n",
       "      <td>New Brunswick</td>\n",
       "      <td>C. D. Walcott</td>\n",
       "      <td>1</td>\n",
       "      <td>Canada</td>\n",
       "      <td>47.287637</td>\n",
       "      <td>-65.885997</td>\n",
       "    </tr>\n",
       "    <tr>\n",
       "      <th>16</th>\n",
       "      <td>New Mexico</td>\n",
       "      <td>C. D. Walcott</td>\n",
       "      <td>12</td>\n",
       "      <td>United States</td>\n",
       "      <td>35.929530</td>\n",
       "      <td>-106.740549</td>\n",
       "    </tr>\n",
       "    <tr>\n",
       "      <th>18</th>\n",
       "      <td>Oklahoma</td>\n",
       "      <td>C. D. Walcott</td>\n",
       "      <td>1</td>\n",
       "      <td>United States</td>\n",
       "      <td>35.653705</td>\n",
       "      <td>-97.975609</td>\n",
       "    </tr>\n",
       "    <tr>\n",
       "      <th>22</th>\n",
       "      <td>Tennessee</td>\n",
       "      <td>C. D. Walcott</td>\n",
       "      <td>7</td>\n",
       "      <td>United States</td>\n",
       "      <td>36.009404</td>\n",
       "      <td>-85.670425</td>\n",
       "    </tr>\n",
       "    <tr>\n",
       "      <th>23</th>\n",
       "      <td>Utah</td>\n",
       "      <td>C. D. Walcott</td>\n",
       "      <td>1</td>\n",
       "      <td>United States</td>\n",
       "      <td>38.863571</td>\n",
       "      <td>-112.100448</td>\n",
       "    </tr>\n",
       "  </tbody>\n",
       "</table>\n",
       "</div>"
      ],
      "text/plain": [
       "          province_state collector_name  ind_count        country        lat  \\\n",
       "0                Alberta  C. D. Walcott          1         Canada  56.529681   \n",
       "2                Arizona  C. D. Walcott          6  United States  34.026561   \n",
       "4               Arkansas  C. D. Walcott          1  United States  35.453516   \n",
       "6             California  C. D. Walcott          8  United States  37.746073   \n",
       "9               Colorado  C. D. Walcott          2  United States  39.073178   \n",
       "11  District of Columbia  C. D. Walcott          1  United States  38.909320   \n",
       "13              Maryland  C. D. Walcott          3  United States  39.630499   \n",
       "14                Nevada  C. D. Walcott          3  United States  39.203409   \n",
       "15         New Brunswick  C. D. Walcott          1         Canada  47.287637   \n",
       "16            New Mexico  C. D. Walcott         12  United States  35.929530   \n",
       "18              Oklahoma  C. D. Walcott          1  United States  35.653705   \n",
       "22             Tennessee  C. D. Walcott          7  United States  36.009404   \n",
       "23                  Utah  C. D. Walcott          1  United States  38.863571   \n",
       "\n",
       "          long  \n",
       "0  -112.029586  \n",
       "2  -111.877243  \n",
       "4   -92.843645  \n",
       "6  -121.822755  \n",
       "9  -106.626575  \n",
       "11  -77.014560  \n",
       "13  -77.387132  \n",
       "14 -116.386827  \n",
       "15  -65.885997  \n",
       "16 -106.740549  \n",
       "18  -97.975609  \n",
       "22  -85.670425  \n",
       "23 -112.100448  "
      ]
     },
     "execution_count": 50,
     "metadata": {},
     "output_type": "execute_result"
    }
   ],
   "source": [
    "# creating charles doolittle walcott sub dataframe \n",
    "charles_doolittle_walcott = combine_walcott_location[combine_walcott_location['collector_name']=='C. D. Walcott'].copy()\n",
    "charles_doolittle_walcott \n"
   ]
  },
  {
   "cell_type": "code",
   "execution_count": 66,
   "metadata": {},
   "outputs": [
    {
     "data": {
      "text/html": [
       "<div>\n",
       "<style scoped>\n",
       "    .dataframe tbody tr th:only-of-type {\n",
       "        vertical-align: middle;\n",
       "    }\n",
       "\n",
       "    .dataframe tbody tr th {\n",
       "        vertical-align: top;\n",
       "    }\n",
       "\n",
       "    .dataframe thead th {\n",
       "        text-align: right;\n",
       "    }\n",
       "</style>\n",
       "<table border=\"1\" class=\"dataframe\">\n",
       "  <thead>\n",
       "    <tr style=\"text-align: right;\">\n",
       "      <th></th>\n",
       "      <th>province_state</th>\n",
       "      <th>collector_name</th>\n",
       "      <th>ind_count</th>\n",
       "      <th>country</th>\n",
       "      <th>lat</th>\n",
       "      <th>long</th>\n",
       "      <th>specimen_name</th>\n",
       "      <th>text</th>\n",
       "    </tr>\n",
       "  </thead>\n",
       "  <tbody>\n",
       "    <tr>\n",
       "      <th>0</th>\n",
       "      <td>Alberta</td>\n",
       "      <td>C. D. Walcott</td>\n",
       "      <td>1</td>\n",
       "      <td>Canada</td>\n",
       "      <td>56.529681</td>\n",
       "      <td>-112.029586</td>\n",
       "      <td>Cactus</td>\n",
       "      <td>Alberta, most collected: Cactus, count: 1</td>\n",
       "    </tr>\n",
       "    <tr>\n",
       "      <th>2</th>\n",
       "      <td>Arizona</td>\n",
       "      <td>C. D. Walcott</td>\n",
       "      <td>6</td>\n",
       "      <td>United States</td>\n",
       "      <td>34.026561</td>\n",
       "      <td>-111.877243</td>\n",
       "      <td>Daisy, Pholox</td>\n",
       "      <td>Arizona, most collected: Daisy family,Pholox f...</td>\n",
       "    </tr>\n",
       "    <tr>\n",
       "      <th>4</th>\n",
       "      <td>Arkansas</td>\n",
       "      <td>C. D. Walcott</td>\n",
       "      <td>1</td>\n",
       "      <td>United States</td>\n",
       "      <td>35.453516</td>\n",
       "      <td>-92.843645</td>\n",
       "      <td>Legumes</td>\n",
       "      <td>Arkansas, most collected: Legumes, count: 1</td>\n",
       "    </tr>\n",
       "    <tr>\n",
       "      <th>6</th>\n",
       "      <td>California</td>\n",
       "      <td>C. D. Walcott</td>\n",
       "      <td>8</td>\n",
       "      <td>United States</td>\n",
       "      <td>37.746073</td>\n",
       "      <td>-121.822755</td>\n",
       "      <td>Pine, Legumes</td>\n",
       "      <td>California, most collected: Pine family, Legum...</td>\n",
       "    </tr>\n",
       "    <tr>\n",
       "      <th>9</th>\n",
       "      <td>Colorado</td>\n",
       "      <td>C. D. Walcott</td>\n",
       "      <td>2</td>\n",
       "      <td>United States</td>\n",
       "      <td>39.073178</td>\n",
       "      <td>-106.626575</td>\n",
       "      <td>Waterleaf, Legumes</td>\n",
       "      <td>Colorado, most collected: Waterleaf family, Le...</td>\n",
       "    </tr>\n",
       "    <tr>\n",
       "      <th>11</th>\n",
       "      <td>District of Columbia</td>\n",
       "      <td>C. D. Walcott</td>\n",
       "      <td>1</td>\n",
       "      <td>United States</td>\n",
       "      <td>38.909320</td>\n",
       "      <td>-77.014560</td>\n",
       "      <td>Poppies</td>\n",
       "      <td>District of Columbia, most collected: Poppies,...</td>\n",
       "    </tr>\n",
       "    <tr>\n",
       "      <th>13</th>\n",
       "      <td>Maryland</td>\n",
       "      <td>C. D. Walcott</td>\n",
       "      <td>3</td>\n",
       "      <td>United States</td>\n",
       "      <td>39.630499</td>\n",
       "      <td>-77.387132</td>\n",
       "      <td>Lillies,Rose</td>\n",
       "      <td>Maryland, most collected: Lillies,Rose family,...</td>\n",
       "    </tr>\n",
       "    <tr>\n",
       "      <th>14</th>\n",
       "      <td>Nevada</td>\n",
       "      <td>C. D. Walcott</td>\n",
       "      <td>3</td>\n",
       "      <td>United States</td>\n",
       "      <td>39.203409</td>\n",
       "      <td>-116.386827</td>\n",
       "      <td>Pine, Loasa</td>\n",
       "      <td>Nevada, most collected: Pine family, Loasa fam...</td>\n",
       "    </tr>\n",
       "    <tr>\n",
       "      <th>15</th>\n",
       "      <td>New Brunswick</td>\n",
       "      <td>C. D. Walcott</td>\n",
       "      <td>1</td>\n",
       "      <td>Canada</td>\n",
       "      <td>47.287637</td>\n",
       "      <td>-65.885997</td>\n",
       "      <td>Morning-glories</td>\n",
       "      <td>New Brunswick, most collected: Morning-glories...</td>\n",
       "    </tr>\n",
       "    <tr>\n",
       "      <th>16</th>\n",
       "      <td>New Mexico</td>\n",
       "      <td>C. D. Walcott</td>\n",
       "      <td>12</td>\n",
       "      <td>United States</td>\n",
       "      <td>35.929530</td>\n",
       "      <td>-106.740549</td>\n",
       "      <td>Daisy, Legumes</td>\n",
       "      <td>New Mexico, most collected: Daisy family,Legum...</td>\n",
       "    </tr>\n",
       "    <tr>\n",
       "      <th>18</th>\n",
       "      <td>Oklahoma</td>\n",
       "      <td>C. D. Walcott</td>\n",
       "      <td>1</td>\n",
       "      <td>United States</td>\n",
       "      <td>35.653705</td>\n",
       "      <td>-97.975609</td>\n",
       "      <td>Legumes</td>\n",
       "      <td>Oklahoma, most collected: Legumes, count: 1</td>\n",
       "    </tr>\n",
       "    <tr>\n",
       "      <th>22</th>\n",
       "      <td>Tennessee</td>\n",
       "      <td>C. D. Walcott</td>\n",
       "      <td>7</td>\n",
       "      <td>United States</td>\n",
       "      <td>36.009404</td>\n",
       "      <td>-85.670425</td>\n",
       "      <td>Heather, Loganiacceae</td>\n",
       "      <td>Tennessee, most collected: Heather family, Log...</td>\n",
       "    </tr>\n",
       "    <tr>\n",
       "      <th>23</th>\n",
       "      <td>Utah</td>\n",
       "      <td>C. D. Walcott</td>\n",
       "      <td>1</td>\n",
       "      <td>United States</td>\n",
       "      <td>38.863571</td>\n",
       "      <td>-112.100448</td>\n",
       "      <td>Primroses</td>\n",
       "      <td>Utah, most collected: Primroses, count: 1</td>\n",
       "    </tr>\n",
       "  </tbody>\n",
       "</table>\n",
       "</div>"
      ],
      "text/plain": [
       "          province_state collector_name  ind_count        country        lat  \\\n",
       "0                Alberta  C. D. Walcott          1         Canada  56.529681   \n",
       "2                Arizona  C. D. Walcott          6  United States  34.026561   \n",
       "4               Arkansas  C. D. Walcott          1  United States  35.453516   \n",
       "6             California  C. D. Walcott          8  United States  37.746073   \n",
       "9               Colorado  C. D. Walcott          2  United States  39.073178   \n",
       "11  District of Columbia  C. D. Walcott          1  United States  38.909320   \n",
       "13              Maryland  C. D. Walcott          3  United States  39.630499   \n",
       "14                Nevada  C. D. Walcott          3  United States  39.203409   \n",
       "15         New Brunswick  C. D. Walcott          1         Canada  47.287637   \n",
       "16            New Mexico  C. D. Walcott         12  United States  35.929530   \n",
       "18              Oklahoma  C. D. Walcott          1  United States  35.653705   \n",
       "22             Tennessee  C. D. Walcott          7  United States  36.009404   \n",
       "23                  Utah  C. D. Walcott          1  United States  38.863571   \n",
       "\n",
       "          long          specimen_name  \\\n",
       "0  -112.029586                 Cactus   \n",
       "2  -111.877243          Daisy, Pholox   \n",
       "4   -92.843645                Legumes   \n",
       "6  -121.822755          Pine, Legumes   \n",
       "9  -106.626575     Waterleaf, Legumes   \n",
       "11  -77.014560                Poppies   \n",
       "13  -77.387132           Lillies,Rose   \n",
       "14 -116.386827            Pine, Loasa   \n",
       "15  -65.885997        Morning-glories   \n",
       "16 -106.740549         Daisy, Legumes   \n",
       "18  -97.975609                Legumes   \n",
       "22  -85.670425  Heather, Loganiacceae   \n",
       "23 -112.100448              Primroses   \n",
       "\n",
       "                                                 text  \n",
       "0           Alberta, most collected: Cactus, count: 1  \n",
       "2   Arizona, most collected: Daisy family,Pholox f...  \n",
       "4         Arkansas, most collected: Legumes, count: 1  \n",
       "6   California, most collected: Pine family, Legum...  \n",
       "9   Colorado, most collected: Waterleaf family, Le...  \n",
       "11  District of Columbia, most collected: Poppies,...  \n",
       "13  Maryland, most collected: Lillies,Rose family,...  \n",
       "14  Nevada, most collected: Pine family, Loasa fam...  \n",
       "15  New Brunswick, most collected: Morning-glories...  \n",
       "16  New Mexico, most collected: Daisy family,Legum...  \n",
       "18        Oklahoma, most collected: Legumes, count: 1  \n",
       "22  Tennessee, most collected: Heather family, Log...  \n",
       "23          Utah, most collected: Primroses, count: 1  "
      ]
     },
     "execution_count": 66,
     "metadata": {},
     "output_type": "execute_result"
    }
   ],
   "source": [
    "charles_doolittle_walcott['specimen_name']=['Cactus','Daisy, Pholox','Legumes','Pine, Legumes','Waterleaf, Legumes','Poppies','Lillies,Rose','Pine, Loasa','Morning-glories','Daisy, Legumes','Legumes','Heather, Loganiacceae','Primroses']\n",
    "charles_doolittle_walcott \n"
   ]
  },
  {
   "cell_type": "markdown",
   "metadata": {},
   "source": [
    "# Walcott Scatter Plot Map \n",
    "- sense we want an overall look at the different location they collected data<br>we will use go.scatter instead of mapbox because we do not need a detailed map\n",
    "- we will also add the list of specimens they collected for each researcher "
   ]
  },
  {
   "cell_type": "code",
   "execution_count": 71,
   "metadata": {},
   "outputs": [],
   "source": [
    "#for text on marker\n",
    "mary_vaux_walcott['text']= mary_vaux_walcott['province_state']+', most collected: '+mary_vaux_walcott['specimen_name']+', collection count: '+mary_vaux_walcott['ind_count'].astype(str)\n",
    "\n"
   ]
  },
  {
   "cell_type": "code",
   "execution_count": 72,
   "metadata": {},
   "outputs": [],
   "source": [
    "#for text on marker \n",
    "charles_doolittle_walcott['text']= charles_doolittle_walcott['province_state']+', most collected: '+charles_doolittle_walcott['specimen_name']+', collection count: '+charles_doolittle_walcott['ind_count'].astype(str)\n"
   ]
  },
  {
   "cell_type": "markdown",
   "metadata": {},
   "source": [
    "- ^the .astype(str) function is attached to the column that is an integer to convert it to a str,<br>because you can only add str to str or int to int"
   ]
  },
  {
   "cell_type": "code",
   "execution_count": 74,
   "metadata": {
    "scrolled": false
   },
   "outputs": [
    {
     "data": {
      "application/vnd.plotly.v1+json": {
       "config": {
        "plotlyServerURL": "https://plot.ly"
       },
       "data": [
        {
         "type": "scattergeo"
        },
        {
         "lat": [
          56.529681000000004,
          34.026561,
          54.399416,
          37.746072999999996,
          19.239392000000002,
          39.073178000000006,
          17.970634,
          35.92953,
          49.927078,
          53.687215,
          34.30482,
          38.863571
         ],
         "lon": [
          -112.02958600000001,
          -111.87724299999999,
          -127.88598200000001,
          -121.822755,
          -103.727235,
          -106.626575,
          -66.912939,
          -106.740549,
          -85.67742199999999,
          -107.14141000000001,
          -80.774066,
          -112.100448
         ],
         "marker": {
          "line": {
           "color": "crimson",
           "width": 1.5
          },
          "size": 11,
          "symbol": 35
         },
         "mode": "markers",
         "name": "Mary Vaux<br>Walcott",
         "opacity": 0.9,
         "text": [
          "Alberta, most collected: Daisy, Legumes, collection count: 49",
          "Arizona, most collected: Daisy, Evening primroses, collection count: 5",
          "British Columbia, most collected: Daisy, collection count: 94",
          "California, most collected: Mints,Orchids, collection count: 7",
          "Colima, most collected: Evening primroses, collection count: 1",
          "Colorado, most collected: Pholox ,Legumes, collection count: 2",
          "Guánica, most collected: Ehretiaceae, collection count: 1",
          "New Mexico, most collected: Cactus, collection count: 1",
          "Ontario, most collected: Orchids, collection count: 1",
          "Saskatchewan, most collected: Daisy, collection count: 1",
          "South Carolina, most collected: Heather ,Holly, collection count: 4",
          "Utah, most collected: Evening primroses, Pine, collection count: 6"
         ],
         "type": "scattergeo"
        },
        {
         "lat": [
          56.529681000000004,
          34.026561,
          35.453516,
          37.746072999999996,
          39.073178000000006,
          38.90932,
          39.630499,
          39.203409,
          47.287637,
          35.92953,
          35.653705,
          36.009403999999996,
          38.863571
         ],
         "lon": [
          -112.02958600000001,
          -111.87724299999999,
          -92.843645,
          -121.822755,
          -106.626575,
          -77.01456,
          -77.387132,
          -116.386827,
          -65.885997,
          -106.740549,
          -97.97560899999999,
          -85.670425,
          -112.100448
         ],
         "marker": {
          "color": "indigo",
          "line": {
           "width": 1.5
          },
          "size": 9,
          "symbol": 323
         },
         "mode": "markers",
         "name": "Charles D.<br>Walcott",
         "opacity": 0.9,
         "text": [
          "Alberta, most collected: Cactus, collection count: 1",
          "Arizona, most collected: Daisy, Pholox, collection count: 6",
          "Arkansas, most collected: Legumes, collection count: 1",
          "California, most collected: Pine, Legumes, collection count: 8",
          "Colorado, most collected: Waterleaf, Legumes, collection count: 2",
          "District of Columbia, most collected: Poppies, collection count: 1",
          "Maryland, most collected: Lillies,Rose, collection count: 3",
          "Nevada, most collected: Pine, Loasa, collection count: 3",
          "New Brunswick, most collected: Morning-glories, collection count: 1",
          "New Mexico, most collected: Daisy, Legumes, collection count: 12",
          "Oklahoma, most collected: Legumes, collection count: 1",
          "Tennessee, most collected: Heather, Loganiacceae, collection count: 7",
          "Utah, most collected: Primroses, collection count: 1"
         ],
         "type": "scattergeo"
        }
       ],
       "layout": {
        "geo": {
         "countrycolor": "cornflowerblue",
         "lakecolor": "antiquewhite",
         "landcolor": "burlywood",
         "lataxis": {
          "dtick": 5,
          "gridwidth": 0.5,
          "range": [
           20,
           60
          ]
         },
         "lonaxis": {
          "dtick": 5,
          "gridwidth": 0.5,
          "range": [
           -140,
           -55
          ]
         },
         "projection": {
          "rotation": {
           "lon": -100
          },
          "type": "conic conformal"
         },
         "resolution": 50,
         "scope": "north america",
         "showcountries": true,
         "showlakes": true,
         "showland": true,
         "showocean": false,
         "showsubunits": true,
         "subunitcolor": "cornflowerblue"
        },
        "template": {
         "data": {
          "bar": [
           {
            "error_x": {
             "color": "#2a3f5f"
            },
            "error_y": {
             "color": "#2a3f5f"
            },
            "marker": {
             "line": {
              "color": "#E5ECF6",
              "width": 0.5
             }
            },
            "type": "bar"
           }
          ],
          "barpolar": [
           {
            "marker": {
             "line": {
              "color": "#E5ECF6",
              "width": 0.5
             }
            },
            "type": "barpolar"
           }
          ],
          "carpet": [
           {
            "aaxis": {
             "endlinecolor": "#2a3f5f",
             "gridcolor": "white",
             "linecolor": "white",
             "minorgridcolor": "white",
             "startlinecolor": "#2a3f5f"
            },
            "baxis": {
             "endlinecolor": "#2a3f5f",
             "gridcolor": "white",
             "linecolor": "white",
             "minorgridcolor": "white",
             "startlinecolor": "#2a3f5f"
            },
            "type": "carpet"
           }
          ],
          "choropleth": [
           {
            "colorbar": {
             "outlinewidth": 0,
             "ticks": ""
            },
            "type": "choropleth"
           }
          ],
          "contour": [
           {
            "colorbar": {
             "outlinewidth": 0,
             "ticks": ""
            },
            "colorscale": [
             [
              0,
              "#0d0887"
             ],
             [
              0.1111111111111111,
              "#46039f"
             ],
             [
              0.2222222222222222,
              "#7201a8"
             ],
             [
              0.3333333333333333,
              "#9c179e"
             ],
             [
              0.4444444444444444,
              "#bd3786"
             ],
             [
              0.5555555555555556,
              "#d8576b"
             ],
             [
              0.6666666666666666,
              "#ed7953"
             ],
             [
              0.7777777777777778,
              "#fb9f3a"
             ],
             [
              0.8888888888888888,
              "#fdca26"
             ],
             [
              1,
              "#f0f921"
             ]
            ],
            "type": "contour"
           }
          ],
          "contourcarpet": [
           {
            "colorbar": {
             "outlinewidth": 0,
             "ticks": ""
            },
            "type": "contourcarpet"
           }
          ],
          "heatmap": [
           {
            "colorbar": {
             "outlinewidth": 0,
             "ticks": ""
            },
            "colorscale": [
             [
              0,
              "#0d0887"
             ],
             [
              0.1111111111111111,
              "#46039f"
             ],
             [
              0.2222222222222222,
              "#7201a8"
             ],
             [
              0.3333333333333333,
              "#9c179e"
             ],
             [
              0.4444444444444444,
              "#bd3786"
             ],
             [
              0.5555555555555556,
              "#d8576b"
             ],
             [
              0.6666666666666666,
              "#ed7953"
             ],
             [
              0.7777777777777778,
              "#fb9f3a"
             ],
             [
              0.8888888888888888,
              "#fdca26"
             ],
             [
              1,
              "#f0f921"
             ]
            ],
            "type": "heatmap"
           }
          ],
          "heatmapgl": [
           {
            "colorbar": {
             "outlinewidth": 0,
             "ticks": ""
            },
            "colorscale": [
             [
              0,
              "#0d0887"
             ],
             [
              0.1111111111111111,
              "#46039f"
             ],
             [
              0.2222222222222222,
              "#7201a8"
             ],
             [
              0.3333333333333333,
              "#9c179e"
             ],
             [
              0.4444444444444444,
              "#bd3786"
             ],
             [
              0.5555555555555556,
              "#d8576b"
             ],
             [
              0.6666666666666666,
              "#ed7953"
             ],
             [
              0.7777777777777778,
              "#fb9f3a"
             ],
             [
              0.8888888888888888,
              "#fdca26"
             ],
             [
              1,
              "#f0f921"
             ]
            ],
            "type": "heatmapgl"
           }
          ],
          "histogram": [
           {
            "marker": {
             "colorbar": {
              "outlinewidth": 0,
              "ticks": ""
             }
            },
            "type": "histogram"
           }
          ],
          "histogram2d": [
           {
            "colorbar": {
             "outlinewidth": 0,
             "ticks": ""
            },
            "colorscale": [
             [
              0,
              "#0d0887"
             ],
             [
              0.1111111111111111,
              "#46039f"
             ],
             [
              0.2222222222222222,
              "#7201a8"
             ],
             [
              0.3333333333333333,
              "#9c179e"
             ],
             [
              0.4444444444444444,
              "#bd3786"
             ],
             [
              0.5555555555555556,
              "#d8576b"
             ],
             [
              0.6666666666666666,
              "#ed7953"
             ],
             [
              0.7777777777777778,
              "#fb9f3a"
             ],
             [
              0.8888888888888888,
              "#fdca26"
             ],
             [
              1,
              "#f0f921"
             ]
            ],
            "type": "histogram2d"
           }
          ],
          "histogram2dcontour": [
           {
            "colorbar": {
             "outlinewidth": 0,
             "ticks": ""
            },
            "colorscale": [
             [
              0,
              "#0d0887"
             ],
             [
              0.1111111111111111,
              "#46039f"
             ],
             [
              0.2222222222222222,
              "#7201a8"
             ],
             [
              0.3333333333333333,
              "#9c179e"
             ],
             [
              0.4444444444444444,
              "#bd3786"
             ],
             [
              0.5555555555555556,
              "#d8576b"
             ],
             [
              0.6666666666666666,
              "#ed7953"
             ],
             [
              0.7777777777777778,
              "#fb9f3a"
             ],
             [
              0.8888888888888888,
              "#fdca26"
             ],
             [
              1,
              "#f0f921"
             ]
            ],
            "type": "histogram2dcontour"
           }
          ],
          "mesh3d": [
           {
            "colorbar": {
             "outlinewidth": 0,
             "ticks": ""
            },
            "type": "mesh3d"
           }
          ],
          "parcoords": [
           {
            "line": {
             "colorbar": {
              "outlinewidth": 0,
              "ticks": ""
             }
            },
            "type": "parcoords"
           }
          ],
          "scatter": [
           {
            "marker": {
             "colorbar": {
              "outlinewidth": 0,
              "ticks": ""
             }
            },
            "type": "scatter"
           }
          ],
          "scatter3d": [
           {
            "line": {
             "colorbar": {
              "outlinewidth": 0,
              "ticks": ""
             }
            },
            "marker": {
             "colorbar": {
              "outlinewidth": 0,
              "ticks": ""
             }
            },
            "type": "scatter3d"
           }
          ],
          "scattercarpet": [
           {
            "marker": {
             "colorbar": {
              "outlinewidth": 0,
              "ticks": ""
             }
            },
            "type": "scattercarpet"
           }
          ],
          "scattergeo": [
           {
            "marker": {
             "colorbar": {
              "outlinewidth": 0,
              "ticks": ""
             }
            },
            "type": "scattergeo"
           }
          ],
          "scattergl": [
           {
            "marker": {
             "colorbar": {
              "outlinewidth": 0,
              "ticks": ""
             }
            },
            "type": "scattergl"
           }
          ],
          "scattermapbox": [
           {
            "marker": {
             "colorbar": {
              "outlinewidth": 0,
              "ticks": ""
             }
            },
            "type": "scattermapbox"
           }
          ],
          "scatterpolar": [
           {
            "marker": {
             "colorbar": {
              "outlinewidth": 0,
              "ticks": ""
             }
            },
            "type": "scatterpolar"
           }
          ],
          "scatterpolargl": [
           {
            "marker": {
             "colorbar": {
              "outlinewidth": 0,
              "ticks": ""
             }
            },
            "type": "scatterpolargl"
           }
          ],
          "scatterternary": [
           {
            "marker": {
             "colorbar": {
              "outlinewidth": 0,
              "ticks": ""
             }
            },
            "type": "scatterternary"
           }
          ],
          "surface": [
           {
            "colorbar": {
             "outlinewidth": 0,
             "ticks": ""
            },
            "colorscale": [
             [
              0,
              "#0d0887"
             ],
             [
              0.1111111111111111,
              "#46039f"
             ],
             [
              0.2222222222222222,
              "#7201a8"
             ],
             [
              0.3333333333333333,
              "#9c179e"
             ],
             [
              0.4444444444444444,
              "#bd3786"
             ],
             [
              0.5555555555555556,
              "#d8576b"
             ],
             [
              0.6666666666666666,
              "#ed7953"
             ],
             [
              0.7777777777777778,
              "#fb9f3a"
             ],
             [
              0.8888888888888888,
              "#fdca26"
             ],
             [
              1,
              "#f0f921"
             ]
            ],
            "type": "surface"
           }
          ],
          "table": [
           {
            "cells": {
             "fill": {
              "color": "#EBF0F8"
             },
             "line": {
              "color": "white"
             }
            },
            "header": {
             "fill": {
              "color": "#C8D4E3"
             },
             "line": {
              "color": "white"
             }
            },
            "type": "table"
           }
          ]
         },
         "layout": {
          "annotationdefaults": {
           "arrowcolor": "#2a3f5f",
           "arrowhead": 0,
           "arrowwidth": 1
          },
          "colorscale": {
           "diverging": [
            [
             0,
             "#8e0152"
            ],
            [
             0.1,
             "#c51b7d"
            ],
            [
             0.2,
             "#de77ae"
            ],
            [
             0.3,
             "#f1b6da"
            ],
            [
             0.4,
             "#fde0ef"
            ],
            [
             0.5,
             "#f7f7f7"
            ],
            [
             0.6,
             "#e6f5d0"
            ],
            [
             0.7,
             "#b8e186"
            ],
            [
             0.8,
             "#7fbc41"
            ],
            [
             0.9,
             "#4d9221"
            ],
            [
             1,
             "#276419"
            ]
           ],
           "sequential": [
            [
             0,
             "#0d0887"
            ],
            [
             0.1111111111111111,
             "#46039f"
            ],
            [
             0.2222222222222222,
             "#7201a8"
            ],
            [
             0.3333333333333333,
             "#9c179e"
            ],
            [
             0.4444444444444444,
             "#bd3786"
            ],
            [
             0.5555555555555556,
             "#d8576b"
            ],
            [
             0.6666666666666666,
             "#ed7953"
            ],
            [
             0.7777777777777778,
             "#fb9f3a"
            ],
            [
             0.8888888888888888,
             "#fdca26"
            ],
            [
             1,
             "#f0f921"
            ]
           ],
           "sequentialminus": [
            [
             0,
             "#0d0887"
            ],
            [
             0.1111111111111111,
             "#46039f"
            ],
            [
             0.2222222222222222,
             "#7201a8"
            ],
            [
             0.3333333333333333,
             "#9c179e"
            ],
            [
             0.4444444444444444,
             "#bd3786"
            ],
            [
             0.5555555555555556,
             "#d8576b"
            ],
            [
             0.6666666666666666,
             "#ed7953"
            ],
            [
             0.7777777777777778,
             "#fb9f3a"
            ],
            [
             0.8888888888888888,
             "#fdca26"
            ],
            [
             1,
             "#f0f921"
            ]
           ]
          },
          "colorway": [
           "#636efa",
           "#EF553B",
           "#00cc96",
           "#ab63fa",
           "#FFA15A",
           "#19d3f3",
           "#FF6692",
           "#B6E880",
           "#FF97FF",
           "#FECB52"
          ],
          "font": {
           "color": "#2a3f5f"
          },
          "geo": {
           "bgcolor": "white",
           "lakecolor": "white",
           "landcolor": "#E5ECF6",
           "showlakes": true,
           "showland": true,
           "subunitcolor": "white"
          },
          "hoverlabel": {
           "align": "left"
          },
          "hovermode": "closest",
          "mapbox": {
           "style": "light"
          },
          "paper_bgcolor": "white",
          "plot_bgcolor": "#E5ECF6",
          "polar": {
           "angularaxis": {
            "gridcolor": "white",
            "linecolor": "white",
            "ticks": ""
           },
           "bgcolor": "#E5ECF6",
           "radialaxis": {
            "gridcolor": "white",
            "linecolor": "white",
            "ticks": ""
           }
          },
          "scene": {
           "xaxis": {
            "backgroundcolor": "#E5ECF6",
            "gridcolor": "white",
            "gridwidth": 2,
            "linecolor": "white",
            "showbackground": true,
            "ticks": "",
            "zerolinecolor": "white"
           },
           "yaxis": {
            "backgroundcolor": "#E5ECF6",
            "gridcolor": "white",
            "gridwidth": 2,
            "linecolor": "white",
            "showbackground": true,
            "ticks": "",
            "zerolinecolor": "white"
           },
           "zaxis": {
            "backgroundcolor": "#E5ECF6",
            "gridcolor": "white",
            "gridwidth": 2,
            "linecolor": "white",
            "showbackground": true,
            "ticks": "",
            "zerolinecolor": "white"
           }
          },
          "shapedefaults": {
           "line": {
            "color": "#2a3f5f"
           }
          },
          "ternary": {
           "aaxis": {
            "gridcolor": "white",
            "linecolor": "white",
            "ticks": ""
           },
           "baxis": {
            "gridcolor": "white",
            "linecolor": "white",
            "ticks": ""
           },
           "bgcolor": "#E5ECF6",
           "caxis": {
            "gridcolor": "white",
            "linecolor": "white",
            "ticks": ""
           }
          },
          "title": {
           "x": 0.05
          },
          "xaxis": {
           "automargin": true,
           "gridcolor": "white",
           "linecolor": "white",
           "ticks": "",
           "zerolinecolor": "white",
           "zerolinewidth": 2
          },
          "yaxis": {
           "automargin": true,
           "gridcolor": "white",
           "linecolor": "white",
           "ticks": "",
           "zerolinecolor": "white",
           "zerolinewidth": 2
          }
         }
        },
        "title": {
         "text": "Walcott Scatter Plot Map From the Year 1900 to 1936"
        }
       }
      },
      "text/html": [
       "<div>\n",
       "        \n",
       "        \n",
       "            <div id=\"f3f42f89-9603-4af6-b2a8-fc7cc845a171\" class=\"plotly-graph-div\" style=\"height:525px; width:100%;\"></div>\n",
       "            <script type=\"text/javascript\">\n",
       "                require([\"plotly\"], function(Plotly) {\n",
       "                    window.PLOTLYENV=window.PLOTLYENV || {};\n",
       "                    \n",
       "                if (document.getElementById(\"f3f42f89-9603-4af6-b2a8-fc7cc845a171\")) {\n",
       "                    Plotly.newPlot(\n",
       "                        'f3f42f89-9603-4af6-b2a8-fc7cc845a171',\n",
       "                        [{\"type\": \"scattergeo\"}, {\"lat\": [56.529681000000004, 34.026561, 54.399416, 37.746072999999996, 19.239392000000002, 39.073178000000006, 17.970634, 35.92953, 49.927078, 53.687215, 34.30482, 38.863571], \"lon\": [-112.02958600000001, -111.87724299999999, -127.88598200000001, -121.822755, -103.727235, -106.626575, -66.912939, -106.740549, -85.67742199999999, -107.14141000000001, -80.774066, -112.100448], \"marker\": {\"line\": {\"color\": \"crimson\", \"width\": 1.5}, \"size\": 11, \"symbol\": 35}, \"mode\": \"markers\", \"name\": \"Mary Vaux<br>Walcott\", \"opacity\": 0.9, \"text\": [\"Alberta, most collected: Daisy, Legumes, collection count: 49\", \"Arizona, most collected: Daisy, Evening primroses, collection count: 5\", \"British Columbia, most collected: Daisy, collection count: 94\", \"California, most collected: Mints,Orchids, collection count: 7\", \"Colima, most collected: Evening primroses, collection count: 1\", \"Colorado, most collected: Pholox ,Legumes, collection count: 2\", \"Gu\\u00e1nica, most collected: Ehretiaceae, collection count: 1\", \"New Mexico, most collected: Cactus, collection count: 1\", \"Ontario, most collected: Orchids, collection count: 1\", \"Saskatchewan, most collected: Daisy, collection count: 1\", \"South Carolina, most collected: Heather ,Holly, collection count: 4\", \"Utah, most collected: Evening primroses, Pine, collection count: 6\"], \"type\": \"scattergeo\"}, {\"lat\": [56.529681000000004, 34.026561, 35.453516, 37.746072999999996, 39.073178000000006, 38.90932, 39.630499, 39.203409, 47.287637, 35.92953, 35.653705, 36.009403999999996, 38.863571], \"lon\": [-112.02958600000001, -111.87724299999999, -92.843645, -121.822755, -106.626575, -77.01456, -77.387132, -116.386827, -65.885997, -106.740549, -97.97560899999999, -85.670425, -112.100448], \"marker\": {\"color\": \"indigo\", \"line\": {\"width\": 1.5}, \"size\": 9, \"symbol\": 323}, \"mode\": \"markers\", \"name\": \"Charles D.<br>Walcott\", \"opacity\": 0.9, \"text\": [\"Alberta, most collected: Cactus, collection count: 1\", \"Arizona, most collected: Daisy, Pholox, collection count: 6\", \"Arkansas, most collected: Legumes, collection count: 1\", \"California, most collected: Pine, Legumes, collection count: 8\", \"Colorado, most collected: Waterleaf, Legumes, collection count: 2\", \"District of Columbia, most collected: Poppies, collection count: 1\", \"Maryland, most collected: Lillies,Rose, collection count: 3\", \"Nevada, most collected: Pine, Loasa, collection count: 3\", \"New Brunswick, most collected: Morning-glories, collection count: 1\", \"New Mexico, most collected: Daisy, Legumes, collection count: 12\", \"Oklahoma, most collected: Legumes, collection count: 1\", \"Tennessee, most collected: Heather, Loganiacceae, collection count: 7\", \"Utah, most collected: Primroses, collection count: 1\"], \"type\": \"scattergeo\"}],\n",
       "                        {\"geo\": {\"countrycolor\": \"cornflowerblue\", \"lakecolor\": \"antiquewhite\", \"landcolor\": \"burlywood\", \"lataxis\": {\"dtick\": 5, \"gridwidth\": 0.5, \"range\": [20.0, 60.0]}, \"lonaxis\": {\"dtick\": 5, \"gridwidth\": 0.5, \"range\": [-140.0, -55.0]}, \"projection\": {\"rotation\": {\"lon\": -100}, \"type\": \"conic conformal\"}, \"resolution\": 50, \"scope\": \"north america\", \"showcountries\": true, \"showlakes\": true, \"showland\": true, \"showocean\": false, \"showsubunits\": true, \"subunitcolor\": \"cornflowerblue\"}, \"template\": {\"data\": {\"bar\": [{\"error_x\": {\"color\": \"#2a3f5f\"}, \"error_y\": {\"color\": \"#2a3f5f\"}, \"marker\": {\"line\": {\"color\": \"#E5ECF6\", \"width\": 0.5}}, \"type\": \"bar\"}], \"barpolar\": [{\"marker\": {\"line\": {\"color\": \"#E5ECF6\", \"width\": 0.5}}, \"type\": \"barpolar\"}], \"carpet\": [{\"aaxis\": {\"endlinecolor\": \"#2a3f5f\", \"gridcolor\": \"white\", \"linecolor\": \"white\", \"minorgridcolor\": \"white\", \"startlinecolor\": \"#2a3f5f\"}, \"baxis\": {\"endlinecolor\": \"#2a3f5f\", \"gridcolor\": \"white\", \"linecolor\": \"white\", \"minorgridcolor\": \"white\", \"startlinecolor\": \"#2a3f5f\"}, \"type\": \"carpet\"}], \"choropleth\": [{\"colorbar\": {\"outlinewidth\": 0, \"ticks\": \"\"}, \"type\": \"choropleth\"}], \"contour\": [{\"colorbar\": {\"outlinewidth\": 0, \"ticks\": \"\"}, \"colorscale\": [[0.0, \"#0d0887\"], [0.1111111111111111, \"#46039f\"], [0.2222222222222222, \"#7201a8\"], [0.3333333333333333, \"#9c179e\"], [0.4444444444444444, \"#bd3786\"], [0.5555555555555556, \"#d8576b\"], [0.6666666666666666, \"#ed7953\"], [0.7777777777777778, \"#fb9f3a\"], [0.8888888888888888, \"#fdca26\"], [1.0, \"#f0f921\"]], \"type\": \"contour\"}], \"contourcarpet\": [{\"colorbar\": {\"outlinewidth\": 0, \"ticks\": \"\"}, \"type\": \"contourcarpet\"}], \"heatmap\": [{\"colorbar\": {\"outlinewidth\": 0, \"ticks\": \"\"}, \"colorscale\": [[0.0, \"#0d0887\"], [0.1111111111111111, \"#46039f\"], [0.2222222222222222, \"#7201a8\"], [0.3333333333333333, \"#9c179e\"], [0.4444444444444444, \"#bd3786\"], [0.5555555555555556, \"#d8576b\"], [0.6666666666666666, \"#ed7953\"], [0.7777777777777778, \"#fb9f3a\"], [0.8888888888888888, \"#fdca26\"], [1.0, \"#f0f921\"]], \"type\": \"heatmap\"}], \"heatmapgl\": [{\"colorbar\": {\"outlinewidth\": 0, \"ticks\": \"\"}, \"colorscale\": [[0.0, \"#0d0887\"], [0.1111111111111111, \"#46039f\"], [0.2222222222222222, \"#7201a8\"], [0.3333333333333333, \"#9c179e\"], [0.4444444444444444, \"#bd3786\"], [0.5555555555555556, \"#d8576b\"], [0.6666666666666666, \"#ed7953\"], [0.7777777777777778, \"#fb9f3a\"], [0.8888888888888888, \"#fdca26\"], [1.0, \"#f0f921\"]], \"type\": \"heatmapgl\"}], \"histogram\": [{\"marker\": {\"colorbar\": {\"outlinewidth\": 0, \"ticks\": \"\"}}, \"type\": \"histogram\"}], \"histogram2d\": [{\"colorbar\": {\"outlinewidth\": 0, \"ticks\": \"\"}, \"colorscale\": [[0.0, \"#0d0887\"], [0.1111111111111111, \"#46039f\"], [0.2222222222222222, \"#7201a8\"], [0.3333333333333333, \"#9c179e\"], [0.4444444444444444, \"#bd3786\"], [0.5555555555555556, \"#d8576b\"], [0.6666666666666666, \"#ed7953\"], [0.7777777777777778, \"#fb9f3a\"], [0.8888888888888888, \"#fdca26\"], [1.0, \"#f0f921\"]], \"type\": \"histogram2d\"}], \"histogram2dcontour\": [{\"colorbar\": {\"outlinewidth\": 0, \"ticks\": \"\"}, \"colorscale\": [[0.0, \"#0d0887\"], [0.1111111111111111, \"#46039f\"], [0.2222222222222222, \"#7201a8\"], [0.3333333333333333, \"#9c179e\"], [0.4444444444444444, \"#bd3786\"], [0.5555555555555556, \"#d8576b\"], [0.6666666666666666, \"#ed7953\"], [0.7777777777777778, \"#fb9f3a\"], [0.8888888888888888, \"#fdca26\"], [1.0, \"#f0f921\"]], \"type\": \"histogram2dcontour\"}], \"mesh3d\": [{\"colorbar\": {\"outlinewidth\": 0, \"ticks\": \"\"}, \"type\": \"mesh3d\"}], \"parcoords\": [{\"line\": {\"colorbar\": {\"outlinewidth\": 0, \"ticks\": \"\"}}, \"type\": \"parcoords\"}], \"scatter\": [{\"marker\": {\"colorbar\": {\"outlinewidth\": 0, \"ticks\": \"\"}}, \"type\": \"scatter\"}], \"scatter3d\": [{\"line\": {\"colorbar\": {\"outlinewidth\": 0, \"ticks\": \"\"}}, \"marker\": {\"colorbar\": {\"outlinewidth\": 0, \"ticks\": \"\"}}, \"type\": \"scatter3d\"}], \"scattercarpet\": [{\"marker\": {\"colorbar\": {\"outlinewidth\": 0, \"ticks\": \"\"}}, \"type\": \"scattercarpet\"}], \"scattergeo\": [{\"marker\": {\"colorbar\": {\"outlinewidth\": 0, \"ticks\": \"\"}}, \"type\": \"scattergeo\"}], \"scattergl\": [{\"marker\": {\"colorbar\": {\"outlinewidth\": 0, \"ticks\": \"\"}}, \"type\": \"scattergl\"}], \"scattermapbox\": [{\"marker\": {\"colorbar\": {\"outlinewidth\": 0, \"ticks\": \"\"}}, \"type\": \"scattermapbox\"}], \"scatterpolar\": [{\"marker\": {\"colorbar\": {\"outlinewidth\": 0, \"ticks\": \"\"}}, \"type\": \"scatterpolar\"}], \"scatterpolargl\": [{\"marker\": {\"colorbar\": {\"outlinewidth\": 0, \"ticks\": \"\"}}, \"type\": \"scatterpolargl\"}], \"scatterternary\": [{\"marker\": {\"colorbar\": {\"outlinewidth\": 0, \"ticks\": \"\"}}, \"type\": \"scatterternary\"}], \"surface\": [{\"colorbar\": {\"outlinewidth\": 0, \"ticks\": \"\"}, \"colorscale\": [[0.0, \"#0d0887\"], [0.1111111111111111, \"#46039f\"], [0.2222222222222222, \"#7201a8\"], [0.3333333333333333, \"#9c179e\"], [0.4444444444444444, \"#bd3786\"], [0.5555555555555556, \"#d8576b\"], [0.6666666666666666, \"#ed7953\"], [0.7777777777777778, \"#fb9f3a\"], [0.8888888888888888, \"#fdca26\"], [1.0, \"#f0f921\"]], \"type\": \"surface\"}], \"table\": [{\"cells\": {\"fill\": {\"color\": \"#EBF0F8\"}, \"line\": {\"color\": \"white\"}}, \"header\": {\"fill\": {\"color\": \"#C8D4E3\"}, \"line\": {\"color\": \"white\"}}, \"type\": \"table\"}]}, \"layout\": {\"annotationdefaults\": {\"arrowcolor\": \"#2a3f5f\", \"arrowhead\": 0, \"arrowwidth\": 1}, \"colorscale\": {\"diverging\": [[0, \"#8e0152\"], [0.1, \"#c51b7d\"], [0.2, \"#de77ae\"], [0.3, \"#f1b6da\"], [0.4, \"#fde0ef\"], [0.5, \"#f7f7f7\"], [0.6, \"#e6f5d0\"], [0.7, \"#b8e186\"], [0.8, \"#7fbc41\"], [0.9, \"#4d9221\"], [1, \"#276419\"]], \"sequential\": [[0.0, \"#0d0887\"], [0.1111111111111111, \"#46039f\"], [0.2222222222222222, \"#7201a8\"], [0.3333333333333333, \"#9c179e\"], [0.4444444444444444, \"#bd3786\"], [0.5555555555555556, \"#d8576b\"], [0.6666666666666666, \"#ed7953\"], [0.7777777777777778, \"#fb9f3a\"], [0.8888888888888888, \"#fdca26\"], [1.0, \"#f0f921\"]], \"sequentialminus\": [[0.0, \"#0d0887\"], [0.1111111111111111, \"#46039f\"], [0.2222222222222222, \"#7201a8\"], [0.3333333333333333, \"#9c179e\"], [0.4444444444444444, \"#bd3786\"], [0.5555555555555556, \"#d8576b\"], [0.6666666666666666, \"#ed7953\"], [0.7777777777777778, \"#fb9f3a\"], [0.8888888888888888, \"#fdca26\"], [1.0, \"#f0f921\"]]}, \"colorway\": [\"#636efa\", \"#EF553B\", \"#00cc96\", \"#ab63fa\", \"#FFA15A\", \"#19d3f3\", \"#FF6692\", \"#B6E880\", \"#FF97FF\", \"#FECB52\"], \"font\": {\"color\": \"#2a3f5f\"}, \"geo\": {\"bgcolor\": \"white\", \"lakecolor\": \"white\", \"landcolor\": \"#E5ECF6\", \"showlakes\": true, \"showland\": true, \"subunitcolor\": \"white\"}, \"hoverlabel\": {\"align\": \"left\"}, \"hovermode\": \"closest\", \"mapbox\": {\"style\": \"light\"}, \"paper_bgcolor\": \"white\", \"plot_bgcolor\": \"#E5ECF6\", \"polar\": {\"angularaxis\": {\"gridcolor\": \"white\", \"linecolor\": \"white\", \"ticks\": \"\"}, \"bgcolor\": \"#E5ECF6\", \"radialaxis\": {\"gridcolor\": \"white\", \"linecolor\": \"white\", \"ticks\": \"\"}}, \"scene\": {\"xaxis\": {\"backgroundcolor\": \"#E5ECF6\", \"gridcolor\": \"white\", \"gridwidth\": 2, \"linecolor\": \"white\", \"showbackground\": true, \"ticks\": \"\", \"zerolinecolor\": \"white\"}, \"yaxis\": {\"backgroundcolor\": \"#E5ECF6\", \"gridcolor\": \"white\", \"gridwidth\": 2, \"linecolor\": \"white\", \"showbackground\": true, \"ticks\": \"\", \"zerolinecolor\": \"white\"}, \"zaxis\": {\"backgroundcolor\": \"#E5ECF6\", \"gridcolor\": \"white\", \"gridwidth\": 2, \"linecolor\": \"white\", \"showbackground\": true, \"ticks\": \"\", \"zerolinecolor\": \"white\"}}, \"shapedefaults\": {\"line\": {\"color\": \"#2a3f5f\"}}, \"ternary\": {\"aaxis\": {\"gridcolor\": \"white\", \"linecolor\": \"white\", \"ticks\": \"\"}, \"baxis\": {\"gridcolor\": \"white\", \"linecolor\": \"white\", \"ticks\": \"\"}, \"bgcolor\": \"#E5ECF6\", \"caxis\": {\"gridcolor\": \"white\", \"linecolor\": \"white\", \"ticks\": \"\"}}, \"title\": {\"x\": 0.05}, \"xaxis\": {\"automargin\": true, \"gridcolor\": \"white\", \"linecolor\": \"white\", \"ticks\": \"\", \"zerolinecolor\": \"white\", \"zerolinewidth\": 2}, \"yaxis\": {\"automargin\": true, \"gridcolor\": \"white\", \"linecolor\": \"white\", \"ticks\": \"\", \"zerolinecolor\": \"white\", \"zerolinewidth\": 2}}}, \"title\": {\"text\": \"Walcott Scatter Plot Map From the Year 1900 to 1936\"}},\n",
       "                        {\"responsive\": true}\n",
       "                    ).then(function(){\n",
       "                            \n",
       "var gd = document.getElementById('f3f42f89-9603-4af6-b2a8-fc7cc845a171');\n",
       "var x = new MutationObserver(function (mutations, observer) {{\n",
       "        var display = window.getComputedStyle(gd).display;\n",
       "        if (!display || display === 'none') {{\n",
       "            console.log([gd, 'removed!']);\n",
       "            Plotly.purge(gd);\n",
       "            observer.disconnect();\n",
       "        }}\n",
       "}});\n",
       "\n",
       "// Listen for the removal of the full notebook cells\n",
       "var notebookContainer = gd.closest('#notebook-container');\n",
       "if (notebookContainer) {{\n",
       "    x.observe(notebookContainer, {childList: true});\n",
       "}}\n",
       "\n",
       "// Listen for the clearing of the current output cell\n",
       "var outputEl = gd.closest('.output');\n",
       "if (outputEl) {{\n",
       "    x.observe(outputEl, {childList: true});\n",
       "}}\n",
       "\n",
       "                        })\n",
       "                };\n",
       "                });\n",
       "            </script>\n",
       "        </div>"
      ]
     },
     "metadata": {},
     "output_type": "display_data"
    }
   ],
   "source": [
    "# Walcott Scatter Plot Map \n",
    "\n",
    "#code to create geo plot \n",
    "fig = go.Figure(data=go.Scattergeo())\n",
    "\n",
    "#Mary Vaux Walcott \n",
    "fig.add_trace(go.Scattergeo(\n",
    "            lat = mary_vaux_walcott['lat'],\n",
    "            lon = mary_vaux_walcott['long'],\n",
    "            text = mary_vaux_walcott['text'],\n",
    "            mode = 'markers',\n",
    "            marker = dict(\n",
    "                size = 11,\n",
    "                #color = 'steelblue', #'lightskyblue',\n",
    "                line_color = 'crimson', #aqua\n",
    "                line_width = 1.5,\n",
    "                symbol = 35,\n",
    "            ),\n",
    "            name = \"Mary Vaux<br>Walcott\",\n",
    "            opacity = 0.90\n",
    "            \n",
    "    ))\n",
    "\n",
    "#Charles Doolittle Walcott \n",
    "fig.add_trace(go.Scattergeo(\n",
    "            lat = charles_doolittle_walcott['lat'],\n",
    "            lon = charles_doolittle_walcott['long'],\n",
    "            text = charles_doolittle_walcott['text'],\n",
    "            mode = 'markers',\n",
    "            marker = dict(\n",
    "                size = 9,\n",
    "                color = 'indigo', #'lightseagreen',\n",
    "                #line_color = 'purple', #'maroon', #'lightgreen',\n",
    "                line_width = 1.5,\n",
    "                symbol = 323,\n",
    "            ),\n",
    "            name = \"Charles D.<br>Walcott\",\n",
    "            opacity = 0.90\n",
    "    ))\n",
    "\n",
    "#customize layout\n",
    "fig.update_layout(\n",
    "        title = 'Walcott Scatter Plot Map From the Year 1900 to 1936',\n",
    "        geo_scope='north america',\n",
    "        #showlegend=True,\n",
    "    \n",
    "               \n",
    "        geo = dict(\n",
    "            #landcolor = \"rgb(181, 130, 55)\", #rich light brown\n",
    "            #landcolor = \"rgb(222, 206, 187)\", #option2 looks grey\n",
    "            #landcolor = 'wheat', #navajowhite\n",
    "            \n",
    "            showland = True,\n",
    "            landcolor = 'burlywood',     #\"rgb(212, 212, 212)\",\n",
    "            subunitcolor = 'cornflowerblue',      #\"rgb(255, 255, 255)\",\n",
    "            countrycolor = 'cornflowerblue',             #\"rgb(255, 255, 255)\",\n",
    "            showlakes = True,\n",
    "            lakecolor = \"antiquewhite\",       #\"rgb(255, 255, 255)\",\n",
    "            showsubunits = True,\n",
    "            showcountries = True,\n",
    "            showocean = False,\n",
    "            #oceancolor = 'lightblue',\n",
    "            resolution = 50,                #give a detailed map with state line and small island \n",
    "            projection = dict(\n",
    "                type = 'conic conformal',   #type works best for north america scope\n",
    "                rotation = dict(\n",
    "                    lon = -100\n",
    "            )\n",
    "        ),\n",
    "            \n",
    "        lonaxis = dict(\n",
    "            #showgrid = True,\n",
    "            gridwidth = 0.5,\n",
    "            range= [ -140.0, -55.0 ],\n",
    "            dtick = 5\n",
    "        ),\n",
    "        lataxis = dict (\n",
    "            #showgrid = True,\n",
    "            gridwidth = 0.5,\n",
    "            range= [ 20.0, 60.0 ],\n",
    "            dtick = 5\n",
    "        ),\n",
    "        \n",
    "            \n",
    "            \n",
    "            \n",
    "        \n",
    "           \n",
    "            \n",
    "        ),\n",
    "\n",
    "    )\n",
    "\n",
    "fig.show()\n"
   ]
  },
  {
   "cell_type": "markdown",
   "metadata": {},
   "source": [
    "### Link resources: \n",
    "- https://pandas.pydata.org/pandas-docs/stable/reference/api/pandas.DataFrame.astype.html\n",
    "- https://stackoverflow.com/questions/33086881/merge-two-python-pandas-data-frames-of-different-length-but-keep-all-rows-in-out\n",
    "- https://pandas.pydata.org/pandas-docs/stable/reference/api/pandas.DataFrame.merge.html\n",
    "- https://stackoverflow.com/questions/50649853/trying-to-merge-2-dataframes-but-get-valueerror\n",
    "- https://datatofish.com/export-dataframe-to-csv/\n",
    "- https://appleinsider.com/articles/18/03/16/how-to-type-accented-letters-in-macos-three-different-ways"
   ]
  },
  {
   "cell_type": "code",
   "execution_count": null,
   "metadata": {},
   "outputs": [],
   "source": []
  }
 ],
 "metadata": {
  "kernelspec": {
   "display_name": "Python 3",
   "language": "python",
   "name": "python3"
  },
  "language_info": {
   "codemirror_mode": {
    "name": "ipython",
    "version": 3
   },
   "file_extension": ".py",
   "mimetype": "text/x-python",
   "name": "python",
   "nbconvert_exporter": "python",
   "pygments_lexer": "ipython3",
   "version": "3.7.3"
  }
 },
 "nbformat": 4,
 "nbformat_minor": 2
}
