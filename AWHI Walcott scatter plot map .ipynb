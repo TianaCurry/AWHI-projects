{
 "cells": [
  {
   "cell_type": "markdown",
   "metadata": {},
   "source": [
    "# Scatter plot map for Walcott \n",
    "- will use Rathbun scatter plot for reference \n",
    "- but will more detailed hovertext that includes specimen family name and year (but dates on file seem to be wrong)\n",
    "- if there were fewer points or more time, could use mapbox\n",
    "    - will us go.Scatter in plotly instead \n",
    "- using example from plotly \n",
    "    - link: https://plot.ly/pandas/scatter-plots-on-maps/"
   ]
  },
  {
   "cell_type": "code",
   "execution_count": 262,
   "metadata": {},
   "outputs": [],
   "source": [
    "import pandas as pd \n",
    "import plotly.graph_objects as go\n",
    "import numpy as np"
   ]
  },
  {
   "cell_type": "markdown",
   "metadata": {},
   "source": [
    "### clean dataframe from original xlsx file\n",
    "- need to create \"sub\" dataframe with only the columns I need for my scatter plot map \n",
    "- can use example from jones scatter plot map "
   ]
  },
  {
   "cell_type": "code",
   "execution_count": 2,
   "metadata": {},
   "outputs": [
    {
     "data": {
      "text/html": [
       "<div>\n",
       "<style scoped>\n",
       "    .dataframe tbody tr th:only-of-type {\n",
       "        vertical-align: middle;\n",
       "    }\n",
       "\n",
       "    .dataframe tbody tr th {\n",
       "        vertical-align: top;\n",
       "    }\n",
       "\n",
       "    .dataframe thead th {\n",
       "        text-align: right;\n",
       "    }\n",
       "</style>\n",
       "<table border=\"1\" class=\"dataframe\">\n",
       "  <thead>\n",
       "    <tr style=\"text-align: right;\">\n",
       "      <th></th>\n",
       "      <th>barcode</th>\n",
       "      <th>catalog_no</th>\n",
       "      <th>order</th>\n",
       "      <th>family</th>\n",
       "      <th>family_name</th>\n",
       "      <th>collector_name</th>\n",
       "      <th>year_collected</th>\n",
       "      <th>country</th>\n",
       "      <th>province_state</th>\n",
       "      <th>ezid</th>\n",
       "    </tr>\n",
       "  </thead>\n",
       "  <tbody>\n",
       "    <tr>\n",
       "      <th>0</th>\n",
       "      <td>1160457</td>\n",
       "      <td>99194.0</td>\n",
       "      <td>Solanales</td>\n",
       "      <td>Hydrophyllaceae</td>\n",
       "      <td>Waterleaf family</td>\n",
       "      <td>C. D. Walcott</td>\n",
       "      <td>1900.0</td>\n",
       "      <td>United States</td>\n",
       "      <td>Colorado</td>\n",
       "      <td>http://n2t.net/ark:/65665/30a751787-3a18-4f16-...</td>\n",
       "    </tr>\n",
       "    <tr>\n",
       "      <th>1</th>\n",
       "      <td>3089925</td>\n",
       "      <td>80416.0</td>\n",
       "      <td>Apiales</td>\n",
       "      <td>Apiaceae</td>\n",
       "      <td>Umbellifers</td>\n",
       "      <td>C. D. Walcott</td>\n",
       "      <td>1900.0</td>\n",
       "      <td>United States</td>\n",
       "      <td>New Mexico</td>\n",
       "      <td>http://n2t.net/ark:/65665/3d8b58966-9a8b-4b3b-...</td>\n",
       "    </tr>\n",
       "    <tr>\n",
       "      <th>2</th>\n",
       "      <td>3088994</td>\n",
       "      <td>80403.0</td>\n",
       "      <td>Apiales</td>\n",
       "      <td>Apiaceae</td>\n",
       "      <td>Umbellifers</td>\n",
       "      <td>C. D. Walcott</td>\n",
       "      <td>1900.0</td>\n",
       "      <td>United States</td>\n",
       "      <td>New Mexico</td>\n",
       "      <td>http://n2t.net/ark:/65665/3c0f352f5-2101-4057-...</td>\n",
       "    </tr>\n",
       "    <tr>\n",
       "      <th>3</th>\n",
       "      <td>1805301</td>\n",
       "      <td>27505.0</td>\n",
       "      <td>Asterales</td>\n",
       "      <td>Asteraceae</td>\n",
       "      <td>Daisy family</td>\n",
       "      <td>C. D. Walcott</td>\n",
       "      <td>1900.0</td>\n",
       "      <td>United States</td>\n",
       "      <td>New Mexico</td>\n",
       "      <td>http://n2t.net/ark:/65665/3db47f2f9-1144-47d3-...</td>\n",
       "    </tr>\n",
       "    <tr>\n",
       "      <th>4</th>\n",
       "      <td>2180001</td>\n",
       "      <td>NaN</td>\n",
       "      <td>Asterales</td>\n",
       "      <td>Asteraceae</td>\n",
       "      <td>Daisy family</td>\n",
       "      <td>C. D. Walcott</td>\n",
       "      <td>1900.0</td>\n",
       "      <td>United States</td>\n",
       "      <td>New Mexico</td>\n",
       "      <td>http://n2t.net/ark:/65665/3cd015798-9922-4328-...</td>\n",
       "    </tr>\n",
       "  </tbody>\n",
       "</table>\n",
       "</div>"
      ],
      "text/plain": [
       "   barcode  catalog_no      order           family       family_name  \\\n",
       "0  1160457     99194.0  Solanales  Hydrophyllaceae  Waterleaf family   \n",
       "1  3089925     80416.0    Apiales         Apiaceae      Umbellifers    \n",
       "2  3088994     80403.0    Apiales         Apiaceae       Umbellifers   \n",
       "3  1805301     27505.0  Asterales       Asteraceae     Daisy family    \n",
       "4  2180001         NaN  Asterales       Asteraceae     Daisy family    \n",
       "\n",
       "  collector_name  year_collected        country province_state  \\\n",
       "0  C. D. Walcott          1900.0  United States       Colorado   \n",
       "1  C. D. Walcott          1900.0  United States     New Mexico   \n",
       "2  C. D. Walcott          1900.0  United States     New Mexico   \n",
       "3  C. D. Walcott          1900.0  United States     New Mexico   \n",
       "4  C. D. Walcott          1900.0  United States     New Mexico   \n",
       "\n",
       "                                                ezid  \n",
       "0  http://n2t.net/ark:/65665/30a751787-3a18-4f16-...  \n",
       "1  http://n2t.net/ark:/65665/3d8b58966-9a8b-4b3b-...  \n",
       "2  http://n2t.net/ark:/65665/3c0f352f5-2101-4057-...  \n",
       "3  http://n2t.net/ark:/65665/3db47f2f9-1144-47d3-...  \n",
       "4  http://n2t.net/ark:/65665/3cd015798-9922-4328-...  "
      ]
     },
     "execution_count": 2,
     "metadata": {},
     "output_type": "execute_result"
    }
   ],
   "source": [
    "walcott_df = pd.read_csv('AWHI_Walcott_dataset.csv')\n",
    "walcott_df.head()"
   ]
  },
  {
   "cell_type": "markdown",
   "metadata": {},
   "source": [
    "### Pulling information from the imported dataframe \n",
    "- this information will be useful for determining how to restructure the dataframe,<br>recreate sub dataframe, and figure out what type of plot and map will be most useful \n",
    "- instead of creating new csv files or eliminating information from the main csv file, it's better to make those changes using pandas "
   ]
  },
  {
   "cell_type": "code",
   "execution_count": 3,
   "metadata": {},
   "outputs": [
    {
     "name": "stdout",
     "output_type": "stream",
     "text": [
      "<class 'pandas.core.frame.DataFrame'>\n",
      "RangeIndex: 219 entries, 0 to 218\n",
      "Data columns (total 10 columns):\n",
      "barcode           219 non-null int64\n",
      "catalog_no        209 non-null float64\n",
      "order             219 non-null object\n",
      "family            219 non-null object\n",
      "family_name       219 non-null object\n",
      "collector_name    219 non-null object\n",
      "year_collected    193 non-null float64\n",
      "country           219 non-null object\n",
      "province_state    219 non-null object\n",
      "ezid              219 non-null object\n",
      "dtypes: float64(2), int64(1), object(7)\n",
      "memory usage: 17.2+ KB\n"
     ]
    }
   ],
   "source": [
    "walcott_df.info()"
   ]
  },
  {
   "cell_type": "code",
   "execution_count": 4,
   "metadata": {},
   "outputs": [
    {
     "data": {
      "text/plain": [
       "array(['Colorado', 'New Mexico', 'Alberta', 'Arizona', 'California',\n",
       "       'Nevada', 'New Brunswick', 'Tennessee', 'Maryland',\n",
       "       'District of Columbia', 'Oklahoma', 'Arkansas', 'Utah', 'Colima',\n",
       "       'British Columbia', 'Ontario', 'Saskatchewan', 'Guánica',\n",
       "       'South Carolina'], dtype=object)"
      ]
     },
     "execution_count": 4,
     "metadata": {},
     "output_type": "execute_result"
    }
   ],
   "source": [
    "province_state = walcott_df.province_state.unique()\n",
    "province_state"
   ]
  },
  {
   "cell_type": "code",
   "execution_count": 5,
   "metadata": {},
   "outputs": [
    {
     "data": {
      "text/plain": [
       "M. V. Walcott    172\n",
       "C. D. Walcott     47\n",
       "Name: collector_name, dtype: int64"
      ]
     },
     "execution_count": 5,
     "metadata": {},
     "output_type": "execute_result"
    }
   ],
   "source": [
    "#number of specimens collected by each collector\n",
    "walcott_df['collector_name'].value_counts()"
   ]
  },
  {
   "cell_type": "code",
   "execution_count": 6,
   "metadata": {},
   "outputs": [
    {
     "data": {
      "text/plain": [
       "British Columbia        94\n",
       "Alberta                 50\n",
       "California              15\n",
       "New Mexico              13\n",
       "Arizona                 11\n",
       "Utah                     7\n",
       "Tennessee                7\n",
       "South Carolina           4\n",
       "Colorado                 4\n",
       "Maryland                 3\n",
       "Nevada                   3\n",
       "Oklahoma                 1\n",
       "Arkansas                 1\n",
       "Colima                   1\n",
       "New Brunswick            1\n",
       "District of Columbia     1\n",
       "Saskatchewan             1\n",
       "Ontario                  1\n",
       "Guánica                  1\n",
       "Name: province_state, dtype: int64"
      ]
     },
     "execution_count": 6,
     "metadata": {},
     "output_type": "execute_result"
    }
   ],
   "source": [
    "# number of specimens collected each location\n",
    "walcott_df['province_state'].value_counts()"
   ]
  },
  {
   "cell_type": "code",
   "execution_count": 264,
   "metadata": {},
   "outputs": [
    {
     "data": {
      "text/plain": [
       "province_state    collector_name  family_name       \n",
       "Alberta           C. D. Walcott   Cactus                 1\n",
       "                  M. V. Walcott   Borages                3\n",
       "                                  Cactus                 1\n",
       "                                  Daisy family          11\n",
       "                                  Gentians               6\n",
       "                                  Heather family         4\n",
       "                                  Honeysuckle family     1\n",
       "                                  Madder family          1\n",
       "                                  Orchids                2\n",
       "                                  Pine family            2\n",
       "                                  Primroses              2\n",
       "                                  Sedges                 1\n",
       "                                  Spleenworts            1\n",
       "                                  Violet family          1\n",
       "                                  Waterleaf family       3\n",
       "                                  legumes               10\n",
       "Arizona           C. D. Walcott   Cactus                 1\n",
       "                                  Daisy family           1\n",
       "                                  Pholox family          1\n",
       "                                  Umbellifers            1\n",
       "                                  Vervain family         1\n",
       "                                  legumes                1\n",
       "                  M. V. Walcott   Daisy family           2\n",
       "                                  Evening primroses      1\n",
       "                                  Orchids                1\n",
       "                                  legumes                1\n",
       "Arkansas          C. D. Walcott   legumes                1\n",
       "British Columbia  M. V. Walcott   Bellflower family      4\n",
       "                                  Borages                2\n",
       "                                  Brake family           1\n",
       "                                                        ..\n",
       "Maryland          C. D. Walcott   Rose family            2\n",
       "Nevada            C. D. Walcott   Loasa family           1\n",
       "                                  Pine family            2\n",
       "New Brunswick     C. D. Walcott   Morning-glories        1\n",
       "New Mexico        C. D. Walcott   Bellflower family      1\n",
       "                                  Daisy family           4\n",
       "                                  Evening primroses      1\n",
       "                                  Rose family            1\n",
       "                                  Umbellifers            1\n",
       "                                  Umbellifers            1\n",
       "                                  legumes                3\n",
       "                  M. V. Walcott   Cactus                 1\n",
       "Oklahoma          C. D. Walcott   legumes                1\n",
       "Ontario           M. V. Walcott   Orchids                1\n",
       "Saskatchewan      M. V. Walcott   Daisy family           1\n",
       "South Carolina    M. V. Walcott   Heather family         1\n",
       "                                  Holly                  1\n",
       "                                  Maple family           1\n",
       "                                  Pine family            1\n",
       "Tennessee         C. D. Walcott   Acanthus Family        1\n",
       "                                  Heather family         2\n",
       "                                  Loganiaceae            1\n",
       "                                  Mints                  1\n",
       "                                  Orchids                1\n",
       "                                  Pine family            1\n",
       "Utah              C. D. Walcott   Primroses              1\n",
       "                  M. V. Walcott   Bellflower family      1\n",
       "                                  Evening primroses      2\n",
       "                                  Pholox family          1\n",
       "                                  Pine family            2\n",
       "Length: 102, dtype: int64"
      ]
     },
     "execution_count": 264,
     "metadata": {},
     "output_type": "execute_result"
    }
   ],
   "source": [
    "# I want to add a specimens list collected at each location for each collector then use this to add to the text option in the map\n",
    "walcott_df.groupby(['province_state','collector_name','family_name']).size()"
   ]
  },
  {
   "cell_type": "code",
   "execution_count": 7,
   "metadata": {},
   "outputs": [
    {
     "data": {
      "text/plain": [
       "province_state        collector_name\n",
       "Alberta               C. D. Walcott      1\n",
       "                      M. V. Walcott     49\n",
       "Arizona               C. D. Walcott      6\n",
       "                      M. V. Walcott      5\n",
       "Arkansas              C. D. Walcott      1\n",
       "British Columbia      M. V. Walcott     94\n",
       "California            C. D. Walcott      8\n",
       "                      M. V. Walcott      7\n",
       "Colima                M. V. Walcott      1\n",
       "Colorado              C. D. Walcott      2\n",
       "                      M. V. Walcott      2\n",
       "District of Columbia  C. D. Walcott      1\n",
       "Guánica               M. V. Walcott      1\n",
       "Maryland              C. D. Walcott      3\n",
       "Nevada                C. D. Walcott      3\n",
       "New Brunswick         C. D. Walcott      1\n",
       "New Mexico            C. D. Walcott     12\n",
       "                      M. V. Walcott      1\n",
       "Oklahoma              C. D. Walcott      1\n",
       "Ontario               M. V. Walcott      1\n",
       "Saskatchewan          M. V. Walcott      1\n",
       "South Carolina        M. V. Walcott      4\n",
       "Tennessee             C. D. Walcott      7\n",
       "Utah                  C. D. Walcott      1\n",
       "                      M. V. Walcott      6\n",
       "dtype: int64"
      ]
     },
     "execution_count": 7,
     "metadata": {},
     "output_type": "execute_result"
    }
   ],
   "source": [
    "#number of specimens in each location for each collector\n",
    "walcott_df.groupby(['province_state','collector_name']).size()"
   ]
  },
  {
   "cell_type": "markdown",
   "metadata": {},
   "source": [
    "### sub dataframe location_walcott_df data use\n",
    "- this dataframe will be used to create the trace for each collector to make their location\n",
    "- each location will have a marker size relative to the ind_count number "
   ]
  },
  {
   "cell_type": "code",
   "execution_count": 8,
   "metadata": {},
   "outputs": [
    {
     "data": {
      "text/html": [
       "<div>\n",
       "<style scoped>\n",
       "    .dataframe tbody tr th:only-of-type {\n",
       "        vertical-align: middle;\n",
       "    }\n",
       "\n",
       "    .dataframe tbody tr th {\n",
       "        vertical-align: top;\n",
       "    }\n",
       "\n",
       "    .dataframe thead th {\n",
       "        text-align: right;\n",
       "    }\n",
       "</style>\n",
       "<table border=\"1\" class=\"dataframe\">\n",
       "  <thead>\n",
       "    <tr style=\"text-align: right;\">\n",
       "      <th></th>\n",
       "      <th>province_state</th>\n",
       "      <th>collector_name</th>\n",
       "      <th>ind_count</th>\n",
       "    </tr>\n",
       "  </thead>\n",
       "  <tbody>\n",
       "    <tr>\n",
       "      <th>0</th>\n",
       "      <td>Alberta</td>\n",
       "      <td>C. D. Walcott</td>\n",
       "      <td>1</td>\n",
       "    </tr>\n",
       "    <tr>\n",
       "      <th>1</th>\n",
       "      <td>Alberta</td>\n",
       "      <td>M. V. Walcott</td>\n",
       "      <td>49</td>\n",
       "    </tr>\n",
       "    <tr>\n",
       "      <th>2</th>\n",
       "      <td>Arizona</td>\n",
       "      <td>C. D. Walcott</td>\n",
       "      <td>6</td>\n",
       "    </tr>\n",
       "    <tr>\n",
       "      <th>3</th>\n",
       "      <td>Arizona</td>\n",
       "      <td>M. V. Walcott</td>\n",
       "      <td>5</td>\n",
       "    </tr>\n",
       "    <tr>\n",
       "      <th>4</th>\n",
       "      <td>Arkansas</td>\n",
       "      <td>C. D. Walcott</td>\n",
       "      <td>1</td>\n",
       "    </tr>\n",
       "    <tr>\n",
       "      <th>5</th>\n",
       "      <td>British Columbia</td>\n",
       "      <td>M. V. Walcott</td>\n",
       "      <td>94</td>\n",
       "    </tr>\n",
       "    <tr>\n",
       "      <th>6</th>\n",
       "      <td>California</td>\n",
       "      <td>C. D. Walcott</td>\n",
       "      <td>8</td>\n",
       "    </tr>\n",
       "    <tr>\n",
       "      <th>7</th>\n",
       "      <td>California</td>\n",
       "      <td>M. V. Walcott</td>\n",
       "      <td>7</td>\n",
       "    </tr>\n",
       "    <tr>\n",
       "      <th>8</th>\n",
       "      <td>Colima</td>\n",
       "      <td>M. V. Walcott</td>\n",
       "      <td>1</td>\n",
       "    </tr>\n",
       "    <tr>\n",
       "      <th>9</th>\n",
       "      <td>Colorado</td>\n",
       "      <td>C. D. Walcott</td>\n",
       "      <td>2</td>\n",
       "    </tr>\n",
       "    <tr>\n",
       "      <th>10</th>\n",
       "      <td>Colorado</td>\n",
       "      <td>M. V. Walcott</td>\n",
       "      <td>2</td>\n",
       "    </tr>\n",
       "    <tr>\n",
       "      <th>11</th>\n",
       "      <td>District of Columbia</td>\n",
       "      <td>C. D. Walcott</td>\n",
       "      <td>1</td>\n",
       "    </tr>\n",
       "    <tr>\n",
       "      <th>12</th>\n",
       "      <td>Guánica</td>\n",
       "      <td>M. V. Walcott</td>\n",
       "      <td>1</td>\n",
       "    </tr>\n",
       "    <tr>\n",
       "      <th>13</th>\n",
       "      <td>Maryland</td>\n",
       "      <td>C. D. Walcott</td>\n",
       "      <td>3</td>\n",
       "    </tr>\n",
       "    <tr>\n",
       "      <th>14</th>\n",
       "      <td>Nevada</td>\n",
       "      <td>C. D. Walcott</td>\n",
       "      <td>3</td>\n",
       "    </tr>\n",
       "    <tr>\n",
       "      <th>15</th>\n",
       "      <td>New Brunswick</td>\n",
       "      <td>C. D. Walcott</td>\n",
       "      <td>1</td>\n",
       "    </tr>\n",
       "    <tr>\n",
       "      <th>16</th>\n",
       "      <td>New Mexico</td>\n",
       "      <td>C. D. Walcott</td>\n",
       "      <td>12</td>\n",
       "    </tr>\n",
       "    <tr>\n",
       "      <th>17</th>\n",
       "      <td>New Mexico</td>\n",
       "      <td>M. V. Walcott</td>\n",
       "      <td>1</td>\n",
       "    </tr>\n",
       "    <tr>\n",
       "      <th>18</th>\n",
       "      <td>Oklahoma</td>\n",
       "      <td>C. D. Walcott</td>\n",
       "      <td>1</td>\n",
       "    </tr>\n",
       "    <tr>\n",
       "      <th>19</th>\n",
       "      <td>Ontario</td>\n",
       "      <td>M. V. Walcott</td>\n",
       "      <td>1</td>\n",
       "    </tr>\n",
       "    <tr>\n",
       "      <th>20</th>\n",
       "      <td>Saskatchewan</td>\n",
       "      <td>M. V. Walcott</td>\n",
       "      <td>1</td>\n",
       "    </tr>\n",
       "    <tr>\n",
       "      <th>21</th>\n",
       "      <td>South Carolina</td>\n",
       "      <td>M. V. Walcott</td>\n",
       "      <td>4</td>\n",
       "    </tr>\n",
       "    <tr>\n",
       "      <th>22</th>\n",
       "      <td>Tennessee</td>\n",
       "      <td>C. D. Walcott</td>\n",
       "      <td>7</td>\n",
       "    </tr>\n",
       "    <tr>\n",
       "      <th>23</th>\n",
       "      <td>Utah</td>\n",
       "      <td>C. D. Walcott</td>\n",
       "      <td>1</td>\n",
       "    </tr>\n",
       "    <tr>\n",
       "      <th>24</th>\n",
       "      <td>Utah</td>\n",
       "      <td>M. V. Walcott</td>\n",
       "      <td>6</td>\n",
       "    </tr>\n",
       "  </tbody>\n",
       "</table>\n",
       "</div>"
      ],
      "text/plain": [
       "          province_state collector_name  ind_count\n",
       "0                Alberta  C. D. Walcott          1\n",
       "1                Alberta  M. V. Walcott         49\n",
       "2                Arizona  C. D. Walcott          6\n",
       "3                Arizona  M. V. Walcott          5\n",
       "4               Arkansas  C. D. Walcott          1\n",
       "5       British Columbia  M. V. Walcott         94\n",
       "6             California  C. D. Walcott          8\n",
       "7             California  M. V. Walcott          7\n",
       "8                 Colima  M. V. Walcott          1\n",
       "9               Colorado  C. D. Walcott          2\n",
       "10              Colorado  M. V. Walcott          2\n",
       "11  District of Columbia  C. D. Walcott          1\n",
       "12               Guánica  M. V. Walcott          1\n",
       "13              Maryland  C. D. Walcott          3\n",
       "14                Nevada  C. D. Walcott          3\n",
       "15         New Brunswick  C. D. Walcott          1\n",
       "16            New Mexico  C. D. Walcott         12\n",
       "17            New Mexico  M. V. Walcott          1\n",
       "18              Oklahoma  C. D. Walcott          1\n",
       "19               Ontario  M. V. Walcott          1\n",
       "20          Saskatchewan  M. V. Walcott          1\n",
       "21        South Carolina  M. V. Walcott          4\n",
       "22             Tennessee  C. D. Walcott          7\n",
       "23                  Utah  C. D. Walcott          1\n",
       "24                  Utah  M. V. Walcott          6"
      ]
     },
     "execution_count": 8,
     "metadata": {},
     "output_type": "execute_result"
    }
   ],
   "source": [
    "#creating dataframe for previous groupby function\n",
    "location_walcott_df = walcott_df.groupby(['province_state','collector_name']).size().to_frame().reset_index()\n",
    "#renaming last column in groupby function above \n",
    "location_walcott_df = location_walcott_df.rename(columns={0: 'ind_count'})\n",
    "location_walcott_df "
   ]
  },
  {
   "cell_type": "code",
   "execution_count": 9,
   "metadata": {},
   "outputs": [
    {
     "data": {
      "text/plain": [
       "collector_name  country        province_state      \n",
       "C. D. Walcott   Canada         Alberta                  1\n",
       "                               New Brunswick            1\n",
       "                United States  Arizona                  6\n",
       "                               Arkansas                 1\n",
       "                               California               8\n",
       "                               Colorado                 2\n",
       "                               District of Columbia     1\n",
       "                               Maryland                 3\n",
       "                               Nevada                   3\n",
       "                               New Mexico              12\n",
       "                               Oklahoma                 1\n",
       "                               Tennessee                7\n",
       "                               Utah                     1\n",
       "M. V. Walcott   Canada         Alberta                 49\n",
       "                               British Columbia        94\n",
       "                               Ontario                  1\n",
       "                               Saskatchewan             1\n",
       "                Mexico         Colima                   1\n",
       "                Puerto Rico    Guánica                  1\n",
       "                United States  Arizona                  5\n",
       "                               California               7\n",
       "                               Colorado                 2\n",
       "                               New Mexico               1\n",
       "                               South Carolina           4\n",
       "                               Utah                     6\n",
       "dtype: int64"
      ]
     },
     "execution_count": 9,
     "metadata": {},
     "output_type": "execute_result"
    }
   ],
   "source": [
    "#list the location and province and count of specimen for each collector \n",
    "walcott_df.groupby(['collector_name','country','province_state']).size()"
   ]
  },
  {
   "cell_type": "code",
   "execution_count": 10,
   "metadata": {},
   "outputs": [
    {
     "data": {
      "text/plain": [
       "country        province_state      \n",
       "Canada         Alberta                 50\n",
       "               British Columbia        94\n",
       "               New Brunswick            1\n",
       "               Ontario                  1\n",
       "               Saskatchewan             1\n",
       "Mexico         Colima                   1\n",
       "Puerto Rico    Guánica                  1\n",
       "United States  Arizona                 11\n",
       "               Arkansas                 1\n",
       "               California              15\n",
       "               Colorado                 4\n",
       "               District of Columbia     1\n",
       "               Maryland                 3\n",
       "               Nevada                   3\n",
       "               New Mexico              13\n",
       "               Oklahoma                 1\n",
       "               South Carolina           4\n",
       "               Tennessee                7\n",
       "               Utah                     7\n",
       "dtype: int64"
      ]
     },
     "execution_count": 10,
     "metadata": {},
     "output_type": "execute_result"
    }
   ],
   "source": [
    "#list of countries and the province/state loaction with the frequency \n",
    "walcott_df.groupby(['country','province_state']).size()"
   ]
  },
  {
   "cell_type": "code",
   "execution_count": 11,
   "metadata": {},
   "outputs": [
    {
     "data": {
      "text/html": [
       "<div>\n",
       "<style scoped>\n",
       "    .dataframe tbody tr th:only-of-type {\n",
       "        vertical-align: middle;\n",
       "    }\n",
       "\n",
       "    .dataframe tbody tr th {\n",
       "        vertical-align: top;\n",
       "    }\n",
       "\n",
       "    .dataframe thead th {\n",
       "        text-align: right;\n",
       "    }\n",
       "</style>\n",
       "<table border=\"1\" class=\"dataframe\">\n",
       "  <thead>\n",
       "    <tr style=\"text-align: right;\">\n",
       "      <th></th>\n",
       "      <th>country</th>\n",
       "      <th>province_state</th>\n",
       "      <th>lat</th>\n",
       "      <th>long</th>\n",
       "    </tr>\n",
       "  </thead>\n",
       "  <tbody>\n",
       "    <tr>\n",
       "      <th>0</th>\n",
       "      <td>Canada</td>\n",
       "      <td>Alberta</td>\n",
       "      <td>56.529681</td>\n",
       "      <td>-112.029586</td>\n",
       "    </tr>\n",
       "    <tr>\n",
       "      <th>1</th>\n",
       "      <td>Canada</td>\n",
       "      <td>British Columbia</td>\n",
       "      <td>54.399416</td>\n",
       "      <td>-127.885982</td>\n",
       "    </tr>\n",
       "    <tr>\n",
       "      <th>2</th>\n",
       "      <td>Canada</td>\n",
       "      <td>New brunswick</td>\n",
       "      <td>47.287637</td>\n",
       "      <td>-65.885997</td>\n",
       "    </tr>\n",
       "    <tr>\n",
       "      <th>3</th>\n",
       "      <td>Canada</td>\n",
       "      <td>Ontario</td>\n",
       "      <td>49.927078</td>\n",
       "      <td>-85.677422</td>\n",
       "    </tr>\n",
       "    <tr>\n",
       "      <th>4</th>\n",
       "      <td>Canada</td>\n",
       "      <td>Saskatchewan</td>\n",
       "      <td>53.687215</td>\n",
       "      <td>-107.141410</td>\n",
       "    </tr>\n",
       "    <tr>\n",
       "      <th>5</th>\n",
       "      <td>Mexico</td>\n",
       "      <td>Colima</td>\n",
       "      <td>19.239392</td>\n",
       "      <td>-103.727235</td>\n",
       "    </tr>\n",
       "    <tr>\n",
       "      <th>6</th>\n",
       "      <td>Puerto Rico</td>\n",
       "      <td>Guanica</td>\n",
       "      <td>17.970634</td>\n",
       "      <td>-66.912939</td>\n",
       "    </tr>\n",
       "    <tr>\n",
       "      <th>7</th>\n",
       "      <td>United States</td>\n",
       "      <td>Arizona</td>\n",
       "      <td>34.026561</td>\n",
       "      <td>-111.877243</td>\n",
       "    </tr>\n",
       "    <tr>\n",
       "      <th>8</th>\n",
       "      <td>United States</td>\n",
       "      <td>Arkansas</td>\n",
       "      <td>35.453516</td>\n",
       "      <td>-92.843645</td>\n",
       "    </tr>\n",
       "    <tr>\n",
       "      <th>9</th>\n",
       "      <td>United States</td>\n",
       "      <td>California</td>\n",
       "      <td>37.746073</td>\n",
       "      <td>-121.822755</td>\n",
       "    </tr>\n",
       "    <tr>\n",
       "      <th>10</th>\n",
       "      <td>United States</td>\n",
       "      <td>Colorado</td>\n",
       "      <td>39.073178</td>\n",
       "      <td>-106.626575</td>\n",
       "    </tr>\n",
       "    <tr>\n",
       "      <th>11</th>\n",
       "      <td>United States</td>\n",
       "      <td>District of Columbia</td>\n",
       "      <td>38.909320</td>\n",
       "      <td>-77.014560</td>\n",
       "    </tr>\n",
       "    <tr>\n",
       "      <th>12</th>\n",
       "      <td>United States</td>\n",
       "      <td>Maryland</td>\n",
       "      <td>39.630499</td>\n",
       "      <td>-77.387132</td>\n",
       "    </tr>\n",
       "    <tr>\n",
       "      <th>13</th>\n",
       "      <td>United States</td>\n",
       "      <td>Nevada</td>\n",
       "      <td>39.203409</td>\n",
       "      <td>-116.386827</td>\n",
       "    </tr>\n",
       "    <tr>\n",
       "      <th>14</th>\n",
       "      <td>United States</td>\n",
       "      <td>New Mexico</td>\n",
       "      <td>35.929530</td>\n",
       "      <td>-106.740549</td>\n",
       "    </tr>\n",
       "    <tr>\n",
       "      <th>15</th>\n",
       "      <td>United States</td>\n",
       "      <td>Oklahoma</td>\n",
       "      <td>35.653705</td>\n",
       "      <td>-97.975609</td>\n",
       "    </tr>\n",
       "    <tr>\n",
       "      <th>16</th>\n",
       "      <td>United States</td>\n",
       "      <td>South Carolina</td>\n",
       "      <td>34.304820</td>\n",
       "      <td>-80.774066</td>\n",
       "    </tr>\n",
       "    <tr>\n",
       "      <th>17</th>\n",
       "      <td>United States</td>\n",
       "      <td>Tennessee</td>\n",
       "      <td>36.009404</td>\n",
       "      <td>-85.670425</td>\n",
       "    </tr>\n",
       "    <tr>\n",
       "      <th>18</th>\n",
       "      <td>United States</td>\n",
       "      <td>Utah</td>\n",
       "      <td>38.863571</td>\n",
       "      <td>-112.100448</td>\n",
       "    </tr>\n",
       "  </tbody>\n",
       "</table>\n",
       "</div>"
      ],
      "text/plain": [
       "          country        province_state        lat        long\n",
       "0          Canada               Alberta  56.529681 -112.029586\n",
       "1          Canada      British Columbia  54.399416 -127.885982\n",
       "2          Canada         New brunswick  47.287637  -65.885997\n",
       "3          Canada               Ontario  49.927078  -85.677422\n",
       "4          Canada          Saskatchewan  53.687215 -107.141410\n",
       "5          Mexico                Colima  19.239392 -103.727235\n",
       "6     Puerto Rico               Guanica  17.970634  -66.912939\n",
       "7   United States               Arizona  34.026561 -111.877243\n",
       "8   United States              Arkansas  35.453516  -92.843645\n",
       "9   United States            California  37.746073 -121.822755\n",
       "10  United States              Colorado  39.073178 -106.626575\n",
       "11  United States  District of Columbia  38.909320  -77.014560\n",
       "12  United States              Maryland  39.630499  -77.387132\n",
       "13  United States                Nevada  39.203409 -116.386827\n",
       "14  United States            New Mexico  35.929530 -106.740549\n",
       "15  United States              Oklahoma  35.653705  -97.975609\n",
       "16  United States        South Carolina  34.304820  -80.774066\n",
       "17  United States             Tennessee  36.009404  -85.670425\n",
       "18  United States                  Utah  38.863571 -112.100448"
      ]
     },
     "execution_count": 11,
     "metadata": {},
     "output_type": "execute_result"
    }
   ],
   "source": [
    "walcott_coordinates = pd.read_csv('walcott_location.csv')\n",
    "walcott_coordinates "
   ]
  },
  {
   "cell_type": "code",
   "execution_count": 12,
   "metadata": {},
   "outputs": [
    {
     "data": {
      "text/html": [
       "<div>\n",
       "<style scoped>\n",
       "    .dataframe tbody tr th:only-of-type {\n",
       "        vertical-align: middle;\n",
       "    }\n",
       "\n",
       "    .dataframe tbody tr th {\n",
       "        vertical-align: top;\n",
       "    }\n",
       "\n",
       "    .dataframe thead th {\n",
       "        text-align: right;\n",
       "    }\n",
       "</style>\n",
       "<table border=\"1\" class=\"dataframe\">\n",
       "  <thead>\n",
       "    <tr style=\"text-align: right;\">\n",
       "      <th></th>\n",
       "      <th>country</th>\n",
       "      <th>province_state</th>\n",
       "      <th>lat</th>\n",
       "      <th>long</th>\n",
       "      <th>collector_name</th>\n",
       "      <th>ind_count</th>\n",
       "    </tr>\n",
       "  </thead>\n",
       "  <tbody>\n",
       "    <tr>\n",
       "      <th>0</th>\n",
       "      <td>Canada</td>\n",
       "      <td>Alberta</td>\n",
       "      <td>56.529681</td>\n",
       "      <td>-112.029586</td>\n",
       "      <td>C. D. Walcott</td>\n",
       "      <td>1</td>\n",
       "    </tr>\n",
       "    <tr>\n",
       "      <th>1</th>\n",
       "      <td>Canada</td>\n",
       "      <td>Alberta</td>\n",
       "      <td>56.529681</td>\n",
       "      <td>-112.029586</td>\n",
       "      <td>M. V. Walcott</td>\n",
       "      <td>49</td>\n",
       "    </tr>\n",
       "    <tr>\n",
       "      <th>2</th>\n",
       "      <td>Canada</td>\n",
       "      <td>British Columbia</td>\n",
       "      <td>54.399416</td>\n",
       "      <td>-127.885982</td>\n",
       "      <td>M. V. Walcott</td>\n",
       "      <td>94</td>\n",
       "    </tr>\n",
       "    <tr>\n",
       "      <th>3</th>\n",
       "      <td>Canada</td>\n",
       "      <td>Ontario</td>\n",
       "      <td>49.927078</td>\n",
       "      <td>-85.677422</td>\n",
       "      <td>M. V. Walcott</td>\n",
       "      <td>1</td>\n",
       "    </tr>\n",
       "    <tr>\n",
       "      <th>4</th>\n",
       "      <td>Canada</td>\n",
       "      <td>Saskatchewan</td>\n",
       "      <td>53.687215</td>\n",
       "      <td>-107.141410</td>\n",
       "      <td>M. V. Walcott</td>\n",
       "      <td>1</td>\n",
       "    </tr>\n",
       "    <tr>\n",
       "      <th>5</th>\n",
       "      <td>Mexico</td>\n",
       "      <td>Colima</td>\n",
       "      <td>19.239392</td>\n",
       "      <td>-103.727235</td>\n",
       "      <td>M. V. Walcott</td>\n",
       "      <td>1</td>\n",
       "    </tr>\n",
       "    <tr>\n",
       "      <th>6</th>\n",
       "      <td>United States</td>\n",
       "      <td>Arizona</td>\n",
       "      <td>34.026561</td>\n",
       "      <td>-111.877243</td>\n",
       "      <td>C. D. Walcott</td>\n",
       "      <td>6</td>\n",
       "    </tr>\n",
       "    <tr>\n",
       "      <th>7</th>\n",
       "      <td>United States</td>\n",
       "      <td>Arizona</td>\n",
       "      <td>34.026561</td>\n",
       "      <td>-111.877243</td>\n",
       "      <td>M. V. Walcott</td>\n",
       "      <td>5</td>\n",
       "    </tr>\n",
       "    <tr>\n",
       "      <th>8</th>\n",
       "      <td>United States</td>\n",
       "      <td>Arkansas</td>\n",
       "      <td>35.453516</td>\n",
       "      <td>-92.843645</td>\n",
       "      <td>C. D. Walcott</td>\n",
       "      <td>1</td>\n",
       "    </tr>\n",
       "    <tr>\n",
       "      <th>9</th>\n",
       "      <td>United States</td>\n",
       "      <td>California</td>\n",
       "      <td>37.746073</td>\n",
       "      <td>-121.822755</td>\n",
       "      <td>C. D. Walcott</td>\n",
       "      <td>8</td>\n",
       "    </tr>\n",
       "    <tr>\n",
       "      <th>10</th>\n",
       "      <td>United States</td>\n",
       "      <td>California</td>\n",
       "      <td>37.746073</td>\n",
       "      <td>-121.822755</td>\n",
       "      <td>M. V. Walcott</td>\n",
       "      <td>7</td>\n",
       "    </tr>\n",
       "    <tr>\n",
       "      <th>11</th>\n",
       "      <td>United States</td>\n",
       "      <td>Colorado</td>\n",
       "      <td>39.073178</td>\n",
       "      <td>-106.626575</td>\n",
       "      <td>C. D. Walcott</td>\n",
       "      <td>2</td>\n",
       "    </tr>\n",
       "    <tr>\n",
       "      <th>12</th>\n",
       "      <td>United States</td>\n",
       "      <td>Colorado</td>\n",
       "      <td>39.073178</td>\n",
       "      <td>-106.626575</td>\n",
       "      <td>M. V. Walcott</td>\n",
       "      <td>2</td>\n",
       "    </tr>\n",
       "    <tr>\n",
       "      <th>13</th>\n",
       "      <td>United States</td>\n",
       "      <td>District of Columbia</td>\n",
       "      <td>38.909320</td>\n",
       "      <td>-77.014560</td>\n",
       "      <td>C. D. Walcott</td>\n",
       "      <td>1</td>\n",
       "    </tr>\n",
       "    <tr>\n",
       "      <th>14</th>\n",
       "      <td>United States</td>\n",
       "      <td>Maryland</td>\n",
       "      <td>39.630499</td>\n",
       "      <td>-77.387132</td>\n",
       "      <td>C. D. Walcott</td>\n",
       "      <td>3</td>\n",
       "    </tr>\n",
       "    <tr>\n",
       "      <th>15</th>\n",
       "      <td>United States</td>\n",
       "      <td>Nevada</td>\n",
       "      <td>39.203409</td>\n",
       "      <td>-116.386827</td>\n",
       "      <td>C. D. Walcott</td>\n",
       "      <td>3</td>\n",
       "    </tr>\n",
       "    <tr>\n",
       "      <th>16</th>\n",
       "      <td>United States</td>\n",
       "      <td>New Mexico</td>\n",
       "      <td>35.929530</td>\n",
       "      <td>-106.740549</td>\n",
       "      <td>C. D. Walcott</td>\n",
       "      <td>12</td>\n",
       "    </tr>\n",
       "    <tr>\n",
       "      <th>17</th>\n",
       "      <td>United States</td>\n",
       "      <td>New Mexico</td>\n",
       "      <td>35.929530</td>\n",
       "      <td>-106.740549</td>\n",
       "      <td>M. V. Walcott</td>\n",
       "      <td>1</td>\n",
       "    </tr>\n",
       "    <tr>\n",
       "      <th>18</th>\n",
       "      <td>United States</td>\n",
       "      <td>Oklahoma</td>\n",
       "      <td>35.653705</td>\n",
       "      <td>-97.975609</td>\n",
       "      <td>C. D. Walcott</td>\n",
       "      <td>1</td>\n",
       "    </tr>\n",
       "    <tr>\n",
       "      <th>19</th>\n",
       "      <td>United States</td>\n",
       "      <td>South Carolina</td>\n",
       "      <td>34.304820</td>\n",
       "      <td>-80.774066</td>\n",
       "      <td>M. V. Walcott</td>\n",
       "      <td>4</td>\n",
       "    </tr>\n",
       "    <tr>\n",
       "      <th>20</th>\n",
       "      <td>United States</td>\n",
       "      <td>Tennessee</td>\n",
       "      <td>36.009404</td>\n",
       "      <td>-85.670425</td>\n",
       "      <td>C. D. Walcott</td>\n",
       "      <td>7</td>\n",
       "    </tr>\n",
       "    <tr>\n",
       "      <th>21</th>\n",
       "      <td>United States</td>\n",
       "      <td>Utah</td>\n",
       "      <td>38.863571</td>\n",
       "      <td>-112.100448</td>\n",
       "      <td>C. D. Walcott</td>\n",
       "      <td>1</td>\n",
       "    </tr>\n",
       "    <tr>\n",
       "      <th>22</th>\n",
       "      <td>United States</td>\n",
       "      <td>Utah</td>\n",
       "      <td>38.863571</td>\n",
       "      <td>-112.100448</td>\n",
       "      <td>M. V. Walcott</td>\n",
       "      <td>6</td>\n",
       "    </tr>\n",
       "  </tbody>\n",
       "</table>\n",
       "</div>"
      ],
      "text/plain": [
       "          country        province_state        lat        long collector_name  \\\n",
       "0          Canada               Alberta  56.529681 -112.029586  C. D. Walcott   \n",
       "1          Canada               Alberta  56.529681 -112.029586  M. V. Walcott   \n",
       "2          Canada      British Columbia  54.399416 -127.885982  M. V. Walcott   \n",
       "3          Canada               Ontario  49.927078  -85.677422  M. V. Walcott   \n",
       "4          Canada          Saskatchewan  53.687215 -107.141410  M. V. Walcott   \n",
       "5          Mexico                Colima  19.239392 -103.727235  M. V. Walcott   \n",
       "6   United States               Arizona  34.026561 -111.877243  C. D. Walcott   \n",
       "7   United States               Arizona  34.026561 -111.877243  M. V. Walcott   \n",
       "8   United States              Arkansas  35.453516  -92.843645  C. D. Walcott   \n",
       "9   United States            California  37.746073 -121.822755  C. D. Walcott   \n",
       "10  United States            California  37.746073 -121.822755  M. V. Walcott   \n",
       "11  United States              Colorado  39.073178 -106.626575  C. D. Walcott   \n",
       "12  United States              Colorado  39.073178 -106.626575  M. V. Walcott   \n",
       "13  United States  District of Columbia  38.909320  -77.014560  C. D. Walcott   \n",
       "14  United States              Maryland  39.630499  -77.387132  C. D. Walcott   \n",
       "15  United States                Nevada  39.203409 -116.386827  C. D. Walcott   \n",
       "16  United States            New Mexico  35.929530 -106.740549  C. D. Walcott   \n",
       "17  United States            New Mexico  35.929530 -106.740549  M. V. Walcott   \n",
       "18  United States              Oklahoma  35.653705  -97.975609  C. D. Walcott   \n",
       "19  United States        South Carolina  34.304820  -80.774066  M. V. Walcott   \n",
       "20  United States             Tennessee  36.009404  -85.670425  C. D. Walcott   \n",
       "21  United States                  Utah  38.863571 -112.100448  C. D. Walcott   \n",
       "22  United States                  Utah  38.863571 -112.100448  M. V. Walcott   \n",
       "\n",
       "    ind_count  \n",
       "0           1  \n",
       "1          49  \n",
       "2          94  \n",
       "3           1  \n",
       "4           1  \n",
       "5           1  \n",
       "6           6  \n",
       "7           5  \n",
       "8           1  \n",
       "9           8  \n",
       "10          7  \n",
       "11          2  \n",
       "12          2  \n",
       "13          1  \n",
       "14          3  \n",
       "15          3  \n",
       "16         12  \n",
       "17          1  \n",
       "18          1  \n",
       "19          4  \n",
       "20          7  \n",
       "21          1  \n",
       "22          6  "
      ]
     },
     "execution_count": 12,
     "metadata": {},
     "output_type": "execute_result"
    }
   ],
   "source": [
    "#combinding walcott_coordinates dataframe with location_walcott dataframe \n",
    "combine_walcott_location = walcott_coordinates[['country','province_state','lat','long']].merge(location_walcott_df,on= 'province_state')\n",
    "combine_walcott_location\n"
   ]
  },
  {
   "cell_type": "markdown",
   "metadata": {},
   "source": [
    "- ^ note: if the columns arent the same length you won't be able to<br>merge right_on= and left_on=you'll need to use on=\n",
    "- resource link for merge function: https://stackoverflow.com/questions/53026827/pandas-merge-function-only-giving-column-headers-update"
   ]
  },
  {
   "cell_type": "markdown",
   "metadata": {},
   "source": [
    "### Sub dataframe Mary_walcott and Charles_walcott \n",
    "- creating sub dataframe for each collector_name \n",
    "- this will give you an option to make a trace for each collector "
   ]
  },
  {
   "cell_type": "code",
   "execution_count": 13,
   "metadata": {},
   "outputs": [
    {
     "data": {
      "text/html": [
       "<div>\n",
       "<style scoped>\n",
       "    .dataframe tbody tr th:only-of-type {\n",
       "        vertical-align: middle;\n",
       "    }\n",
       "\n",
       "    .dataframe tbody tr th {\n",
       "        vertical-align: top;\n",
       "    }\n",
       "\n",
       "    .dataframe thead th {\n",
       "        text-align: right;\n",
       "    }\n",
       "</style>\n",
       "<table border=\"1\" class=\"dataframe\">\n",
       "  <thead>\n",
       "    <tr style=\"text-align: right;\">\n",
       "      <th></th>\n",
       "      <th>country</th>\n",
       "      <th>province_state</th>\n",
       "      <th>lat</th>\n",
       "      <th>long</th>\n",
       "      <th>collector_name</th>\n",
       "      <th>ind_count</th>\n",
       "    </tr>\n",
       "  </thead>\n",
       "  <tbody>\n",
       "    <tr>\n",
       "      <th>1</th>\n",
       "      <td>Canada</td>\n",
       "      <td>Alberta</td>\n",
       "      <td>56.529681</td>\n",
       "      <td>-112.029586</td>\n",
       "      <td>M. V. Walcott</td>\n",
       "      <td>49</td>\n",
       "    </tr>\n",
       "    <tr>\n",
       "      <th>2</th>\n",
       "      <td>Canada</td>\n",
       "      <td>British Columbia</td>\n",
       "      <td>54.399416</td>\n",
       "      <td>-127.885982</td>\n",
       "      <td>M. V. Walcott</td>\n",
       "      <td>94</td>\n",
       "    </tr>\n",
       "    <tr>\n",
       "      <th>3</th>\n",
       "      <td>Canada</td>\n",
       "      <td>Ontario</td>\n",
       "      <td>49.927078</td>\n",
       "      <td>-85.677422</td>\n",
       "      <td>M. V. Walcott</td>\n",
       "      <td>1</td>\n",
       "    </tr>\n",
       "    <tr>\n",
       "      <th>4</th>\n",
       "      <td>Canada</td>\n",
       "      <td>Saskatchewan</td>\n",
       "      <td>53.687215</td>\n",
       "      <td>-107.141410</td>\n",
       "      <td>M. V. Walcott</td>\n",
       "      <td>1</td>\n",
       "    </tr>\n",
       "    <tr>\n",
       "      <th>5</th>\n",
       "      <td>Mexico</td>\n",
       "      <td>Colima</td>\n",
       "      <td>19.239392</td>\n",
       "      <td>-103.727235</td>\n",
       "      <td>M. V. Walcott</td>\n",
       "      <td>1</td>\n",
       "    </tr>\n",
       "    <tr>\n",
       "      <th>7</th>\n",
       "      <td>United States</td>\n",
       "      <td>Arizona</td>\n",
       "      <td>34.026561</td>\n",
       "      <td>-111.877243</td>\n",
       "      <td>M. V. Walcott</td>\n",
       "      <td>5</td>\n",
       "    </tr>\n",
       "    <tr>\n",
       "      <th>10</th>\n",
       "      <td>United States</td>\n",
       "      <td>California</td>\n",
       "      <td>37.746073</td>\n",
       "      <td>-121.822755</td>\n",
       "      <td>M. V. Walcott</td>\n",
       "      <td>7</td>\n",
       "    </tr>\n",
       "    <tr>\n",
       "      <th>12</th>\n",
       "      <td>United States</td>\n",
       "      <td>Colorado</td>\n",
       "      <td>39.073178</td>\n",
       "      <td>-106.626575</td>\n",
       "      <td>M. V. Walcott</td>\n",
       "      <td>2</td>\n",
       "    </tr>\n",
       "    <tr>\n",
       "      <th>17</th>\n",
       "      <td>United States</td>\n",
       "      <td>New Mexico</td>\n",
       "      <td>35.929530</td>\n",
       "      <td>-106.740549</td>\n",
       "      <td>M. V. Walcott</td>\n",
       "      <td>1</td>\n",
       "    </tr>\n",
       "    <tr>\n",
       "      <th>19</th>\n",
       "      <td>United States</td>\n",
       "      <td>South Carolina</td>\n",
       "      <td>34.304820</td>\n",
       "      <td>-80.774066</td>\n",
       "      <td>M. V. Walcott</td>\n",
       "      <td>4</td>\n",
       "    </tr>\n",
       "    <tr>\n",
       "      <th>22</th>\n",
       "      <td>United States</td>\n",
       "      <td>Utah</td>\n",
       "      <td>38.863571</td>\n",
       "      <td>-112.100448</td>\n",
       "      <td>M. V. Walcott</td>\n",
       "      <td>6</td>\n",
       "    </tr>\n",
       "  </tbody>\n",
       "</table>\n",
       "</div>"
      ],
      "text/plain": [
       "          country    province_state        lat        long collector_name  \\\n",
       "1          Canada           Alberta  56.529681 -112.029586  M. V. Walcott   \n",
       "2          Canada  British Columbia  54.399416 -127.885982  M. V. Walcott   \n",
       "3          Canada           Ontario  49.927078  -85.677422  M. V. Walcott   \n",
       "4          Canada      Saskatchewan  53.687215 -107.141410  M. V. Walcott   \n",
       "5          Mexico            Colima  19.239392 -103.727235  M. V. Walcott   \n",
       "7   United States           Arizona  34.026561 -111.877243  M. V. Walcott   \n",
       "10  United States        California  37.746073 -121.822755  M. V. Walcott   \n",
       "12  United States          Colorado  39.073178 -106.626575  M. V. Walcott   \n",
       "17  United States        New Mexico  35.929530 -106.740549  M. V. Walcott   \n",
       "19  United States    South Carolina  34.304820  -80.774066  M. V. Walcott   \n",
       "22  United States              Utah  38.863571 -112.100448  M. V. Walcott   \n",
       "\n",
       "    ind_count  \n",
       "1          49  \n",
       "2          94  \n",
       "3           1  \n",
       "4           1  \n",
       "5           1  \n",
       "7           5  \n",
       "10          7  \n",
       "12          2  \n",
       "17          1  \n",
       "19          4  \n",
       "22          6  "
      ]
     },
     "execution_count": 13,
     "metadata": {},
     "output_type": "execute_result"
    }
   ],
   "source": [
    "#creating mary vaux walcott sub dataframe \n",
    "mary_vaux_walcott = combine_walcott_location[combine_walcott_location['collector_name'] == 'M. V. Walcott'].copy()\n",
    "mary_vaux_walcott\n"
   ]
  },
  {
   "cell_type": "code",
   "execution_count": 14,
   "metadata": {},
   "outputs": [
    {
     "data": {
      "text/html": [
       "<div>\n",
       "<style scoped>\n",
       "    .dataframe tbody tr th:only-of-type {\n",
       "        vertical-align: middle;\n",
       "    }\n",
       "\n",
       "    .dataframe tbody tr th {\n",
       "        vertical-align: top;\n",
       "    }\n",
       "\n",
       "    .dataframe thead th {\n",
       "        text-align: right;\n",
       "    }\n",
       "</style>\n",
       "<table border=\"1\" class=\"dataframe\">\n",
       "  <thead>\n",
       "    <tr style=\"text-align: right;\">\n",
       "      <th></th>\n",
       "      <th>country</th>\n",
       "      <th>province_state</th>\n",
       "      <th>lat</th>\n",
       "      <th>long</th>\n",
       "      <th>collector_name</th>\n",
       "      <th>ind_count</th>\n",
       "    </tr>\n",
       "  </thead>\n",
       "  <tbody>\n",
       "    <tr>\n",
       "      <th>0</th>\n",
       "      <td>Canada</td>\n",
       "      <td>Alberta</td>\n",
       "      <td>56.529681</td>\n",
       "      <td>-112.029586</td>\n",
       "      <td>C. D. Walcott</td>\n",
       "      <td>1</td>\n",
       "    </tr>\n",
       "    <tr>\n",
       "      <th>6</th>\n",
       "      <td>United States</td>\n",
       "      <td>Arizona</td>\n",
       "      <td>34.026561</td>\n",
       "      <td>-111.877243</td>\n",
       "      <td>C. D. Walcott</td>\n",
       "      <td>6</td>\n",
       "    </tr>\n",
       "    <tr>\n",
       "      <th>8</th>\n",
       "      <td>United States</td>\n",
       "      <td>Arkansas</td>\n",
       "      <td>35.453516</td>\n",
       "      <td>-92.843645</td>\n",
       "      <td>C. D. Walcott</td>\n",
       "      <td>1</td>\n",
       "    </tr>\n",
       "    <tr>\n",
       "      <th>9</th>\n",
       "      <td>United States</td>\n",
       "      <td>California</td>\n",
       "      <td>37.746073</td>\n",
       "      <td>-121.822755</td>\n",
       "      <td>C. D. Walcott</td>\n",
       "      <td>8</td>\n",
       "    </tr>\n",
       "    <tr>\n",
       "      <th>11</th>\n",
       "      <td>United States</td>\n",
       "      <td>Colorado</td>\n",
       "      <td>39.073178</td>\n",
       "      <td>-106.626575</td>\n",
       "      <td>C. D. Walcott</td>\n",
       "      <td>2</td>\n",
       "    </tr>\n",
       "    <tr>\n",
       "      <th>13</th>\n",
       "      <td>United States</td>\n",
       "      <td>District of Columbia</td>\n",
       "      <td>38.909320</td>\n",
       "      <td>-77.014560</td>\n",
       "      <td>C. D. Walcott</td>\n",
       "      <td>1</td>\n",
       "    </tr>\n",
       "    <tr>\n",
       "      <th>14</th>\n",
       "      <td>United States</td>\n",
       "      <td>Maryland</td>\n",
       "      <td>39.630499</td>\n",
       "      <td>-77.387132</td>\n",
       "      <td>C. D. Walcott</td>\n",
       "      <td>3</td>\n",
       "    </tr>\n",
       "    <tr>\n",
       "      <th>15</th>\n",
       "      <td>United States</td>\n",
       "      <td>Nevada</td>\n",
       "      <td>39.203409</td>\n",
       "      <td>-116.386827</td>\n",
       "      <td>C. D. Walcott</td>\n",
       "      <td>3</td>\n",
       "    </tr>\n",
       "    <tr>\n",
       "      <th>16</th>\n",
       "      <td>United States</td>\n",
       "      <td>New Mexico</td>\n",
       "      <td>35.929530</td>\n",
       "      <td>-106.740549</td>\n",
       "      <td>C. D. Walcott</td>\n",
       "      <td>12</td>\n",
       "    </tr>\n",
       "    <tr>\n",
       "      <th>18</th>\n",
       "      <td>United States</td>\n",
       "      <td>Oklahoma</td>\n",
       "      <td>35.653705</td>\n",
       "      <td>-97.975609</td>\n",
       "      <td>C. D. Walcott</td>\n",
       "      <td>1</td>\n",
       "    </tr>\n",
       "    <tr>\n",
       "      <th>20</th>\n",
       "      <td>United States</td>\n",
       "      <td>Tennessee</td>\n",
       "      <td>36.009404</td>\n",
       "      <td>-85.670425</td>\n",
       "      <td>C. D. Walcott</td>\n",
       "      <td>7</td>\n",
       "    </tr>\n",
       "    <tr>\n",
       "      <th>21</th>\n",
       "      <td>United States</td>\n",
       "      <td>Utah</td>\n",
       "      <td>38.863571</td>\n",
       "      <td>-112.100448</td>\n",
       "      <td>C. D. Walcott</td>\n",
       "      <td>1</td>\n",
       "    </tr>\n",
       "  </tbody>\n",
       "</table>\n",
       "</div>"
      ],
      "text/plain": [
       "          country        province_state        lat        long collector_name  \\\n",
       "0          Canada               Alberta  56.529681 -112.029586  C. D. Walcott   \n",
       "6   United States               Arizona  34.026561 -111.877243  C. D. Walcott   \n",
       "8   United States              Arkansas  35.453516  -92.843645  C. D. Walcott   \n",
       "9   United States            California  37.746073 -121.822755  C. D. Walcott   \n",
       "11  United States              Colorado  39.073178 -106.626575  C. D. Walcott   \n",
       "13  United States  District of Columbia  38.909320  -77.014560  C. D. Walcott   \n",
       "14  United States              Maryland  39.630499  -77.387132  C. D. Walcott   \n",
       "15  United States                Nevada  39.203409 -116.386827  C. D. Walcott   \n",
       "16  United States            New Mexico  35.929530 -106.740549  C. D. Walcott   \n",
       "18  United States              Oklahoma  35.653705  -97.975609  C. D. Walcott   \n",
       "20  United States             Tennessee  36.009404  -85.670425  C. D. Walcott   \n",
       "21  United States                  Utah  38.863571 -112.100448  C. D. Walcott   \n",
       "\n",
       "    ind_count  \n",
       "0           1  \n",
       "6           6  \n",
       "8           1  \n",
       "9           8  \n",
       "11          2  \n",
       "13          1  \n",
       "14          3  \n",
       "15          3  \n",
       "16         12  \n",
       "18          1  \n",
       "20          7  \n",
       "21          1  "
      ]
     },
     "execution_count": 14,
     "metadata": {},
     "output_type": "execute_result"
    }
   ],
   "source": [
    "# creating charles doolittle walcott sub dataframe \n",
    "charles_doolittle_walcott = combine_walcott_location[combine_walcott_location['collector_name']=='C. D. Walcott'].copy()\n",
    "charles_doolittle_walcott \n"
   ]
  },
  {
   "cell_type": "markdown",
   "metadata": {},
   "source": [
    "# Walcott Scatter Plot Map \n",
    "- sense we want an overall look at the different location they collected data<br>we will use go.scatter instead of mapbox because we do not need a detailed map\n",
    "- we will also add the list of specimens they collected for each researcher "
   ]
  },
  {
   "cell_type": "code",
   "execution_count": 259,
   "metadata": {
    "scrolled": false
   },
   "outputs": [
    {
     "data": {
      "application/vnd.plotly.v1+json": {
       "config": {
        "plotlyServerURL": "https://plot.ly"
       },
       "data": [
        {
         "type": "scattergeo"
        },
        {
         "lat": [
          56.529681000000004,
          54.399416,
          49.927078,
          53.687215,
          19.239392000000002,
          34.026561,
          37.746072999999996,
          39.073178000000006,
          35.92953,
          34.30482,
          38.863571
         ],
         "lon": [
          -112.02958600000001,
          -127.88598200000001,
          -85.67742199999999,
          -107.14141000000001,
          -103.727235,
          -111.87724299999999,
          -121.822755,
          -106.626575,
          -106.740549,
          -80.774066,
          -112.100448
         ],
         "marker": {
          "line": {
           "color": "crimson",
           "width": 1.5
          },
          "size": 11,
          "symbol": 35
         },
         "mode": "markers",
         "name": "Mary Vaux<br>Walcott",
         "opacity": 0.9,
         "text": [
          "Alberta",
          "British Columbia",
          "Ontario",
          "Saskatchewan",
          "Colima",
          "Arizona",
          "California",
          "Colorado",
          "New Mexico",
          "South Carolina",
          "Utah"
         ],
         "type": "scattergeo"
        },
        {
         "lat": [
          56.529681000000004,
          34.026561,
          35.453516,
          37.746072999999996,
          39.073178000000006,
          38.90932,
          39.630499,
          39.203409,
          35.92953,
          35.653705,
          36.009403999999996,
          38.863571
         ],
         "lon": [
          -112.02958600000001,
          -111.87724299999999,
          -92.843645,
          -121.822755,
          -106.626575,
          -77.01456,
          -77.387132,
          -116.386827,
          -106.740549,
          -97.97560899999999,
          -85.670425,
          -112.100448
         ],
         "marker": {
          "color": "indigo",
          "line": {
           "width": 1.5
          },
          "size": 9,
          "symbol": 323
         },
         "mode": "markers",
         "name": "Charles D<br>Walcott",
         "opacity": 0.9,
         "text": [
          "Alberta",
          "Arizona",
          "Arkansas",
          "California",
          "Colorado",
          "District of Columbia",
          "Maryland",
          "Nevada",
          "New Mexico",
          "Oklahoma",
          "Tennessee",
          "Utah"
         ],
         "type": "scattergeo"
        }
       ],
       "layout": {
        "geo": {
         "countrycolor": "cornflowerblue",
         "lakecolor": "antiquewhite",
         "landcolor": "burlywood",
         "lataxis": {
          "dtick": 5,
          "gridwidth": 0.5,
          "range": [
           20,
           60
          ]
         },
         "lonaxis": {
          "dtick": 5,
          "gridwidth": 0.5,
          "range": [
           -140,
           -55
          ]
         },
         "projection": {
          "rotation": {
           "lon": -100
          },
          "type": "conic conformal"
         },
         "resolution": 50,
         "scope": "north america",
         "showcountries": true,
         "showlakes": true,
         "showland": true,
         "showocean": false,
         "showsubunits": true,
         "subunitcolor": "cornflowerblue"
        },
        "template": {
         "data": {
          "bar": [
           {
            "error_x": {
             "color": "#2a3f5f"
            },
            "error_y": {
             "color": "#2a3f5f"
            },
            "marker": {
             "line": {
              "color": "#E5ECF6",
              "width": 0.5
             }
            },
            "type": "bar"
           }
          ],
          "barpolar": [
           {
            "marker": {
             "line": {
              "color": "#E5ECF6",
              "width": 0.5
             }
            },
            "type": "barpolar"
           }
          ],
          "carpet": [
           {
            "aaxis": {
             "endlinecolor": "#2a3f5f",
             "gridcolor": "white",
             "linecolor": "white",
             "minorgridcolor": "white",
             "startlinecolor": "#2a3f5f"
            },
            "baxis": {
             "endlinecolor": "#2a3f5f",
             "gridcolor": "white",
             "linecolor": "white",
             "minorgridcolor": "white",
             "startlinecolor": "#2a3f5f"
            },
            "type": "carpet"
           }
          ],
          "choropleth": [
           {
            "colorbar": {
             "outlinewidth": 0,
             "ticks": ""
            },
            "type": "choropleth"
           }
          ],
          "contour": [
           {
            "colorbar": {
             "outlinewidth": 0,
             "ticks": ""
            },
            "colorscale": [
             [
              0,
              "#0d0887"
             ],
             [
              0.1111111111111111,
              "#46039f"
             ],
             [
              0.2222222222222222,
              "#7201a8"
             ],
             [
              0.3333333333333333,
              "#9c179e"
             ],
             [
              0.4444444444444444,
              "#bd3786"
             ],
             [
              0.5555555555555556,
              "#d8576b"
             ],
             [
              0.6666666666666666,
              "#ed7953"
             ],
             [
              0.7777777777777778,
              "#fb9f3a"
             ],
             [
              0.8888888888888888,
              "#fdca26"
             ],
             [
              1,
              "#f0f921"
             ]
            ],
            "type": "contour"
           }
          ],
          "contourcarpet": [
           {
            "colorbar": {
             "outlinewidth": 0,
             "ticks": ""
            },
            "type": "contourcarpet"
           }
          ],
          "heatmap": [
           {
            "colorbar": {
             "outlinewidth": 0,
             "ticks": ""
            },
            "colorscale": [
             [
              0,
              "#0d0887"
             ],
             [
              0.1111111111111111,
              "#46039f"
             ],
             [
              0.2222222222222222,
              "#7201a8"
             ],
             [
              0.3333333333333333,
              "#9c179e"
             ],
             [
              0.4444444444444444,
              "#bd3786"
             ],
             [
              0.5555555555555556,
              "#d8576b"
             ],
             [
              0.6666666666666666,
              "#ed7953"
             ],
             [
              0.7777777777777778,
              "#fb9f3a"
             ],
             [
              0.8888888888888888,
              "#fdca26"
             ],
             [
              1,
              "#f0f921"
             ]
            ],
            "type": "heatmap"
           }
          ],
          "heatmapgl": [
           {
            "colorbar": {
             "outlinewidth": 0,
             "ticks": ""
            },
            "colorscale": [
             [
              0,
              "#0d0887"
             ],
             [
              0.1111111111111111,
              "#46039f"
             ],
             [
              0.2222222222222222,
              "#7201a8"
             ],
             [
              0.3333333333333333,
              "#9c179e"
             ],
             [
              0.4444444444444444,
              "#bd3786"
             ],
             [
              0.5555555555555556,
              "#d8576b"
             ],
             [
              0.6666666666666666,
              "#ed7953"
             ],
             [
              0.7777777777777778,
              "#fb9f3a"
             ],
             [
              0.8888888888888888,
              "#fdca26"
             ],
             [
              1,
              "#f0f921"
             ]
            ],
            "type": "heatmapgl"
           }
          ],
          "histogram": [
           {
            "marker": {
             "colorbar": {
              "outlinewidth": 0,
              "ticks": ""
             }
            },
            "type": "histogram"
           }
          ],
          "histogram2d": [
           {
            "colorbar": {
             "outlinewidth": 0,
             "ticks": ""
            },
            "colorscale": [
             [
              0,
              "#0d0887"
             ],
             [
              0.1111111111111111,
              "#46039f"
             ],
             [
              0.2222222222222222,
              "#7201a8"
             ],
             [
              0.3333333333333333,
              "#9c179e"
             ],
             [
              0.4444444444444444,
              "#bd3786"
             ],
             [
              0.5555555555555556,
              "#d8576b"
             ],
             [
              0.6666666666666666,
              "#ed7953"
             ],
             [
              0.7777777777777778,
              "#fb9f3a"
             ],
             [
              0.8888888888888888,
              "#fdca26"
             ],
             [
              1,
              "#f0f921"
             ]
            ],
            "type": "histogram2d"
           }
          ],
          "histogram2dcontour": [
           {
            "colorbar": {
             "outlinewidth": 0,
             "ticks": ""
            },
            "colorscale": [
             [
              0,
              "#0d0887"
             ],
             [
              0.1111111111111111,
              "#46039f"
             ],
             [
              0.2222222222222222,
              "#7201a8"
             ],
             [
              0.3333333333333333,
              "#9c179e"
             ],
             [
              0.4444444444444444,
              "#bd3786"
             ],
             [
              0.5555555555555556,
              "#d8576b"
             ],
             [
              0.6666666666666666,
              "#ed7953"
             ],
             [
              0.7777777777777778,
              "#fb9f3a"
             ],
             [
              0.8888888888888888,
              "#fdca26"
             ],
             [
              1,
              "#f0f921"
             ]
            ],
            "type": "histogram2dcontour"
           }
          ],
          "mesh3d": [
           {
            "colorbar": {
             "outlinewidth": 0,
             "ticks": ""
            },
            "type": "mesh3d"
           }
          ],
          "parcoords": [
           {
            "line": {
             "colorbar": {
              "outlinewidth": 0,
              "ticks": ""
             }
            },
            "type": "parcoords"
           }
          ],
          "scatter": [
           {
            "marker": {
             "colorbar": {
              "outlinewidth": 0,
              "ticks": ""
             }
            },
            "type": "scatter"
           }
          ],
          "scatter3d": [
           {
            "line": {
             "colorbar": {
              "outlinewidth": 0,
              "ticks": ""
             }
            },
            "marker": {
             "colorbar": {
              "outlinewidth": 0,
              "ticks": ""
             }
            },
            "type": "scatter3d"
           }
          ],
          "scattercarpet": [
           {
            "marker": {
             "colorbar": {
              "outlinewidth": 0,
              "ticks": ""
             }
            },
            "type": "scattercarpet"
           }
          ],
          "scattergeo": [
           {
            "marker": {
             "colorbar": {
              "outlinewidth": 0,
              "ticks": ""
             }
            },
            "type": "scattergeo"
           }
          ],
          "scattergl": [
           {
            "marker": {
             "colorbar": {
              "outlinewidth": 0,
              "ticks": ""
             }
            },
            "type": "scattergl"
           }
          ],
          "scattermapbox": [
           {
            "marker": {
             "colorbar": {
              "outlinewidth": 0,
              "ticks": ""
             }
            },
            "type": "scattermapbox"
           }
          ],
          "scatterpolar": [
           {
            "marker": {
             "colorbar": {
              "outlinewidth": 0,
              "ticks": ""
             }
            },
            "type": "scatterpolar"
           }
          ],
          "scatterpolargl": [
           {
            "marker": {
             "colorbar": {
              "outlinewidth": 0,
              "ticks": ""
             }
            },
            "type": "scatterpolargl"
           }
          ],
          "scatterternary": [
           {
            "marker": {
             "colorbar": {
              "outlinewidth": 0,
              "ticks": ""
             }
            },
            "type": "scatterternary"
           }
          ],
          "surface": [
           {
            "colorbar": {
             "outlinewidth": 0,
             "ticks": ""
            },
            "colorscale": [
             [
              0,
              "#0d0887"
             ],
             [
              0.1111111111111111,
              "#46039f"
             ],
             [
              0.2222222222222222,
              "#7201a8"
             ],
             [
              0.3333333333333333,
              "#9c179e"
             ],
             [
              0.4444444444444444,
              "#bd3786"
             ],
             [
              0.5555555555555556,
              "#d8576b"
             ],
             [
              0.6666666666666666,
              "#ed7953"
             ],
             [
              0.7777777777777778,
              "#fb9f3a"
             ],
             [
              0.8888888888888888,
              "#fdca26"
             ],
             [
              1,
              "#f0f921"
             ]
            ],
            "type": "surface"
           }
          ],
          "table": [
           {
            "cells": {
             "fill": {
              "color": "#EBF0F8"
             },
             "line": {
              "color": "white"
             }
            },
            "header": {
             "fill": {
              "color": "#C8D4E3"
             },
             "line": {
              "color": "white"
             }
            },
            "type": "table"
           }
          ]
         },
         "layout": {
          "annotationdefaults": {
           "arrowcolor": "#2a3f5f",
           "arrowhead": 0,
           "arrowwidth": 1
          },
          "colorscale": {
           "diverging": [
            [
             0,
             "#8e0152"
            ],
            [
             0.1,
             "#c51b7d"
            ],
            [
             0.2,
             "#de77ae"
            ],
            [
             0.3,
             "#f1b6da"
            ],
            [
             0.4,
             "#fde0ef"
            ],
            [
             0.5,
             "#f7f7f7"
            ],
            [
             0.6,
             "#e6f5d0"
            ],
            [
             0.7,
             "#b8e186"
            ],
            [
             0.8,
             "#7fbc41"
            ],
            [
             0.9,
             "#4d9221"
            ],
            [
             1,
             "#276419"
            ]
           ],
           "sequential": [
            [
             0,
             "#0d0887"
            ],
            [
             0.1111111111111111,
             "#46039f"
            ],
            [
             0.2222222222222222,
             "#7201a8"
            ],
            [
             0.3333333333333333,
             "#9c179e"
            ],
            [
             0.4444444444444444,
             "#bd3786"
            ],
            [
             0.5555555555555556,
             "#d8576b"
            ],
            [
             0.6666666666666666,
             "#ed7953"
            ],
            [
             0.7777777777777778,
             "#fb9f3a"
            ],
            [
             0.8888888888888888,
             "#fdca26"
            ],
            [
             1,
             "#f0f921"
            ]
           ],
           "sequentialminus": [
            [
             0,
             "#0d0887"
            ],
            [
             0.1111111111111111,
             "#46039f"
            ],
            [
             0.2222222222222222,
             "#7201a8"
            ],
            [
             0.3333333333333333,
             "#9c179e"
            ],
            [
             0.4444444444444444,
             "#bd3786"
            ],
            [
             0.5555555555555556,
             "#d8576b"
            ],
            [
             0.6666666666666666,
             "#ed7953"
            ],
            [
             0.7777777777777778,
             "#fb9f3a"
            ],
            [
             0.8888888888888888,
             "#fdca26"
            ],
            [
             1,
             "#f0f921"
            ]
           ]
          },
          "colorway": [
           "#636efa",
           "#EF553B",
           "#00cc96",
           "#ab63fa",
           "#FFA15A",
           "#19d3f3",
           "#FF6692",
           "#B6E880",
           "#FF97FF",
           "#FECB52"
          ],
          "font": {
           "color": "#2a3f5f"
          },
          "geo": {
           "bgcolor": "white",
           "lakecolor": "white",
           "landcolor": "#E5ECF6",
           "showlakes": true,
           "showland": true,
           "subunitcolor": "white"
          },
          "hoverlabel": {
           "align": "left"
          },
          "hovermode": "closest",
          "mapbox": {
           "style": "light"
          },
          "paper_bgcolor": "white",
          "plot_bgcolor": "#E5ECF6",
          "polar": {
           "angularaxis": {
            "gridcolor": "white",
            "linecolor": "white",
            "ticks": ""
           },
           "bgcolor": "#E5ECF6",
           "radialaxis": {
            "gridcolor": "white",
            "linecolor": "white",
            "ticks": ""
           }
          },
          "scene": {
           "xaxis": {
            "backgroundcolor": "#E5ECF6",
            "gridcolor": "white",
            "gridwidth": 2,
            "linecolor": "white",
            "showbackground": true,
            "ticks": "",
            "zerolinecolor": "white"
           },
           "yaxis": {
            "backgroundcolor": "#E5ECF6",
            "gridcolor": "white",
            "gridwidth": 2,
            "linecolor": "white",
            "showbackground": true,
            "ticks": "",
            "zerolinecolor": "white"
           },
           "zaxis": {
            "backgroundcolor": "#E5ECF6",
            "gridcolor": "white",
            "gridwidth": 2,
            "linecolor": "white",
            "showbackground": true,
            "ticks": "",
            "zerolinecolor": "white"
           }
          },
          "shapedefaults": {
           "line": {
            "color": "#2a3f5f"
           }
          },
          "ternary": {
           "aaxis": {
            "gridcolor": "white",
            "linecolor": "white",
            "ticks": ""
           },
           "baxis": {
            "gridcolor": "white",
            "linecolor": "white",
            "ticks": ""
           },
           "bgcolor": "#E5ECF6",
           "caxis": {
            "gridcolor": "white",
            "linecolor": "white",
            "ticks": ""
           }
          },
          "title": {
           "x": 0.05
          },
          "xaxis": {
           "automargin": true,
           "gridcolor": "white",
           "linecolor": "white",
           "ticks": "",
           "zerolinecolor": "white",
           "zerolinewidth": 2
          },
          "yaxis": {
           "automargin": true,
           "gridcolor": "white",
           "linecolor": "white",
           "ticks": "",
           "zerolinecolor": "white",
           "zerolinewidth": 2
          }
         }
        },
        "title": {
         "text": "Walcott Scatter Plot Map From the Year 1900 to 1936"
        }
       }
      },
      "text/html": [
       "<div>\n",
       "        \n",
       "        \n",
       "            <div id=\"388b0cdc-682a-43d6-a43a-e9608788f5c6\" class=\"plotly-graph-div\" style=\"height:525px; width:100%;\"></div>\n",
       "            <script type=\"text/javascript\">\n",
       "                require([\"plotly\"], function(Plotly) {\n",
       "                    window.PLOTLYENV=window.PLOTLYENV || {};\n",
       "                    \n",
       "                if (document.getElementById(\"388b0cdc-682a-43d6-a43a-e9608788f5c6\")) {\n",
       "                    Plotly.newPlot(\n",
       "                        '388b0cdc-682a-43d6-a43a-e9608788f5c6',\n",
       "                        [{\"type\": \"scattergeo\"}, {\"lat\": [56.529681000000004, 54.399416, 49.927078, 53.687215, 19.239392000000002, 34.026561, 37.746072999999996, 39.073178000000006, 35.92953, 34.30482, 38.863571], \"lon\": [-112.02958600000001, -127.88598200000001, -85.67742199999999, -107.14141000000001, -103.727235, -111.87724299999999, -121.822755, -106.626575, -106.740549, -80.774066, -112.100448], \"marker\": {\"line\": {\"color\": \"crimson\", \"width\": 1.5}, \"size\": 11, \"symbol\": 35}, \"mode\": \"markers\", \"name\": \"Mary Vaux<br>Walcott\", \"opacity\": 0.9, \"text\": [\"Alberta\", \"British Columbia\", \"Ontario\", \"Saskatchewan\", \"Colima\", \"Arizona\", \"California\", \"Colorado\", \"New Mexico\", \"South Carolina\", \"Utah\"], \"type\": \"scattergeo\"}, {\"lat\": [56.529681000000004, 34.026561, 35.453516, 37.746072999999996, 39.073178000000006, 38.90932, 39.630499, 39.203409, 35.92953, 35.653705, 36.009403999999996, 38.863571], \"lon\": [-112.02958600000001, -111.87724299999999, -92.843645, -121.822755, -106.626575, -77.01456, -77.387132, -116.386827, -106.740549, -97.97560899999999, -85.670425, -112.100448], \"marker\": {\"color\": \"indigo\", \"line\": {\"width\": 1.5}, \"size\": 9, \"symbol\": 323}, \"mode\": \"markers\", \"name\": \"Charles D<br>Walcott\", \"opacity\": 0.9, \"text\": [\"Alberta\", \"Arizona\", \"Arkansas\", \"California\", \"Colorado\", \"District of Columbia\", \"Maryland\", \"Nevada\", \"New Mexico\", \"Oklahoma\", \"Tennessee\", \"Utah\"], \"type\": \"scattergeo\"}],\n",
       "                        {\"geo\": {\"countrycolor\": \"cornflowerblue\", \"lakecolor\": \"antiquewhite\", \"landcolor\": \"burlywood\", \"lataxis\": {\"dtick\": 5, \"gridwidth\": 0.5, \"range\": [20.0, 60.0]}, \"lonaxis\": {\"dtick\": 5, \"gridwidth\": 0.5, \"range\": [-140.0, -55.0]}, \"projection\": {\"rotation\": {\"lon\": -100}, \"type\": \"conic conformal\"}, \"resolution\": 50, \"scope\": \"north america\", \"showcountries\": true, \"showlakes\": true, \"showland\": true, \"showocean\": false, \"showsubunits\": true, \"subunitcolor\": \"cornflowerblue\"}, \"template\": {\"data\": {\"bar\": [{\"error_x\": {\"color\": \"#2a3f5f\"}, \"error_y\": {\"color\": \"#2a3f5f\"}, \"marker\": {\"line\": {\"color\": \"#E5ECF6\", \"width\": 0.5}}, \"type\": \"bar\"}], \"barpolar\": [{\"marker\": {\"line\": {\"color\": \"#E5ECF6\", \"width\": 0.5}}, \"type\": \"barpolar\"}], \"carpet\": [{\"aaxis\": {\"endlinecolor\": \"#2a3f5f\", \"gridcolor\": \"white\", \"linecolor\": \"white\", \"minorgridcolor\": \"white\", \"startlinecolor\": \"#2a3f5f\"}, \"baxis\": {\"endlinecolor\": \"#2a3f5f\", \"gridcolor\": \"white\", \"linecolor\": \"white\", \"minorgridcolor\": \"white\", \"startlinecolor\": \"#2a3f5f\"}, \"type\": \"carpet\"}], \"choropleth\": [{\"colorbar\": {\"outlinewidth\": 0, \"ticks\": \"\"}, \"type\": \"choropleth\"}], \"contour\": [{\"colorbar\": {\"outlinewidth\": 0, \"ticks\": \"\"}, \"colorscale\": [[0.0, \"#0d0887\"], [0.1111111111111111, \"#46039f\"], [0.2222222222222222, \"#7201a8\"], [0.3333333333333333, \"#9c179e\"], [0.4444444444444444, \"#bd3786\"], [0.5555555555555556, \"#d8576b\"], [0.6666666666666666, \"#ed7953\"], [0.7777777777777778, \"#fb9f3a\"], [0.8888888888888888, \"#fdca26\"], [1.0, \"#f0f921\"]], \"type\": \"contour\"}], \"contourcarpet\": [{\"colorbar\": {\"outlinewidth\": 0, \"ticks\": \"\"}, \"type\": \"contourcarpet\"}], \"heatmap\": [{\"colorbar\": {\"outlinewidth\": 0, \"ticks\": \"\"}, \"colorscale\": [[0.0, \"#0d0887\"], [0.1111111111111111, \"#46039f\"], [0.2222222222222222, \"#7201a8\"], [0.3333333333333333, \"#9c179e\"], [0.4444444444444444, \"#bd3786\"], [0.5555555555555556, \"#d8576b\"], [0.6666666666666666, \"#ed7953\"], [0.7777777777777778, \"#fb9f3a\"], [0.8888888888888888, \"#fdca26\"], [1.0, \"#f0f921\"]], \"type\": \"heatmap\"}], \"heatmapgl\": [{\"colorbar\": {\"outlinewidth\": 0, \"ticks\": \"\"}, \"colorscale\": [[0.0, \"#0d0887\"], [0.1111111111111111, \"#46039f\"], [0.2222222222222222, \"#7201a8\"], [0.3333333333333333, \"#9c179e\"], [0.4444444444444444, \"#bd3786\"], [0.5555555555555556, \"#d8576b\"], [0.6666666666666666, \"#ed7953\"], [0.7777777777777778, \"#fb9f3a\"], [0.8888888888888888, \"#fdca26\"], [1.0, \"#f0f921\"]], \"type\": \"heatmapgl\"}], \"histogram\": [{\"marker\": {\"colorbar\": {\"outlinewidth\": 0, \"ticks\": \"\"}}, \"type\": \"histogram\"}], \"histogram2d\": [{\"colorbar\": {\"outlinewidth\": 0, \"ticks\": \"\"}, \"colorscale\": [[0.0, \"#0d0887\"], [0.1111111111111111, \"#46039f\"], [0.2222222222222222, \"#7201a8\"], [0.3333333333333333, \"#9c179e\"], [0.4444444444444444, \"#bd3786\"], [0.5555555555555556, \"#d8576b\"], [0.6666666666666666, \"#ed7953\"], [0.7777777777777778, \"#fb9f3a\"], [0.8888888888888888, \"#fdca26\"], [1.0, \"#f0f921\"]], \"type\": \"histogram2d\"}], \"histogram2dcontour\": [{\"colorbar\": {\"outlinewidth\": 0, \"ticks\": \"\"}, \"colorscale\": [[0.0, \"#0d0887\"], [0.1111111111111111, \"#46039f\"], [0.2222222222222222, \"#7201a8\"], [0.3333333333333333, \"#9c179e\"], [0.4444444444444444, \"#bd3786\"], [0.5555555555555556, \"#d8576b\"], [0.6666666666666666, \"#ed7953\"], [0.7777777777777778, \"#fb9f3a\"], [0.8888888888888888, \"#fdca26\"], [1.0, \"#f0f921\"]], \"type\": \"histogram2dcontour\"}], \"mesh3d\": [{\"colorbar\": {\"outlinewidth\": 0, \"ticks\": \"\"}, \"type\": \"mesh3d\"}], \"parcoords\": [{\"line\": {\"colorbar\": {\"outlinewidth\": 0, \"ticks\": \"\"}}, \"type\": \"parcoords\"}], \"scatter\": [{\"marker\": {\"colorbar\": {\"outlinewidth\": 0, \"ticks\": \"\"}}, \"type\": \"scatter\"}], \"scatter3d\": [{\"line\": {\"colorbar\": {\"outlinewidth\": 0, \"ticks\": \"\"}}, \"marker\": {\"colorbar\": {\"outlinewidth\": 0, \"ticks\": \"\"}}, \"type\": \"scatter3d\"}], \"scattercarpet\": [{\"marker\": {\"colorbar\": {\"outlinewidth\": 0, \"ticks\": \"\"}}, \"type\": \"scattercarpet\"}], \"scattergeo\": [{\"marker\": {\"colorbar\": {\"outlinewidth\": 0, \"ticks\": \"\"}}, \"type\": \"scattergeo\"}], \"scattergl\": [{\"marker\": {\"colorbar\": {\"outlinewidth\": 0, \"ticks\": \"\"}}, \"type\": \"scattergl\"}], \"scattermapbox\": [{\"marker\": {\"colorbar\": {\"outlinewidth\": 0, \"ticks\": \"\"}}, \"type\": \"scattermapbox\"}], \"scatterpolar\": [{\"marker\": {\"colorbar\": {\"outlinewidth\": 0, \"ticks\": \"\"}}, \"type\": \"scatterpolar\"}], \"scatterpolargl\": [{\"marker\": {\"colorbar\": {\"outlinewidth\": 0, \"ticks\": \"\"}}, \"type\": \"scatterpolargl\"}], \"scatterternary\": [{\"marker\": {\"colorbar\": {\"outlinewidth\": 0, \"ticks\": \"\"}}, \"type\": \"scatterternary\"}], \"surface\": [{\"colorbar\": {\"outlinewidth\": 0, \"ticks\": \"\"}, \"colorscale\": [[0.0, \"#0d0887\"], [0.1111111111111111, \"#46039f\"], [0.2222222222222222, \"#7201a8\"], [0.3333333333333333, \"#9c179e\"], [0.4444444444444444, \"#bd3786\"], [0.5555555555555556, \"#d8576b\"], [0.6666666666666666, \"#ed7953\"], [0.7777777777777778, \"#fb9f3a\"], [0.8888888888888888, \"#fdca26\"], [1.0, \"#f0f921\"]], \"type\": \"surface\"}], \"table\": [{\"cells\": {\"fill\": {\"color\": \"#EBF0F8\"}, \"line\": {\"color\": \"white\"}}, \"header\": {\"fill\": {\"color\": \"#C8D4E3\"}, \"line\": {\"color\": \"white\"}}, \"type\": \"table\"}]}, \"layout\": {\"annotationdefaults\": {\"arrowcolor\": \"#2a3f5f\", \"arrowhead\": 0, \"arrowwidth\": 1}, \"colorscale\": {\"diverging\": [[0, \"#8e0152\"], [0.1, \"#c51b7d\"], [0.2, \"#de77ae\"], [0.3, \"#f1b6da\"], [0.4, \"#fde0ef\"], [0.5, \"#f7f7f7\"], [0.6, \"#e6f5d0\"], [0.7, \"#b8e186\"], [0.8, \"#7fbc41\"], [0.9, \"#4d9221\"], [1, \"#276419\"]], \"sequential\": [[0.0, \"#0d0887\"], [0.1111111111111111, \"#46039f\"], [0.2222222222222222, \"#7201a8\"], [0.3333333333333333, \"#9c179e\"], [0.4444444444444444, \"#bd3786\"], [0.5555555555555556, \"#d8576b\"], [0.6666666666666666, \"#ed7953\"], [0.7777777777777778, \"#fb9f3a\"], [0.8888888888888888, \"#fdca26\"], [1.0, \"#f0f921\"]], \"sequentialminus\": [[0.0, \"#0d0887\"], [0.1111111111111111, \"#46039f\"], [0.2222222222222222, \"#7201a8\"], [0.3333333333333333, \"#9c179e\"], [0.4444444444444444, \"#bd3786\"], [0.5555555555555556, \"#d8576b\"], [0.6666666666666666, \"#ed7953\"], [0.7777777777777778, \"#fb9f3a\"], [0.8888888888888888, \"#fdca26\"], [1.0, \"#f0f921\"]]}, \"colorway\": [\"#636efa\", \"#EF553B\", \"#00cc96\", \"#ab63fa\", \"#FFA15A\", \"#19d3f3\", \"#FF6692\", \"#B6E880\", \"#FF97FF\", \"#FECB52\"], \"font\": {\"color\": \"#2a3f5f\"}, \"geo\": {\"bgcolor\": \"white\", \"lakecolor\": \"white\", \"landcolor\": \"#E5ECF6\", \"showlakes\": true, \"showland\": true, \"subunitcolor\": \"white\"}, \"hoverlabel\": {\"align\": \"left\"}, \"hovermode\": \"closest\", \"mapbox\": {\"style\": \"light\"}, \"paper_bgcolor\": \"white\", \"plot_bgcolor\": \"#E5ECF6\", \"polar\": {\"angularaxis\": {\"gridcolor\": \"white\", \"linecolor\": \"white\", \"ticks\": \"\"}, \"bgcolor\": \"#E5ECF6\", \"radialaxis\": {\"gridcolor\": \"white\", \"linecolor\": \"white\", \"ticks\": \"\"}}, \"scene\": {\"xaxis\": {\"backgroundcolor\": \"#E5ECF6\", \"gridcolor\": \"white\", \"gridwidth\": 2, \"linecolor\": \"white\", \"showbackground\": true, \"ticks\": \"\", \"zerolinecolor\": \"white\"}, \"yaxis\": {\"backgroundcolor\": \"#E5ECF6\", \"gridcolor\": \"white\", \"gridwidth\": 2, \"linecolor\": \"white\", \"showbackground\": true, \"ticks\": \"\", \"zerolinecolor\": \"white\"}, \"zaxis\": {\"backgroundcolor\": \"#E5ECF6\", \"gridcolor\": \"white\", \"gridwidth\": 2, \"linecolor\": \"white\", \"showbackground\": true, \"ticks\": \"\", \"zerolinecolor\": \"white\"}}, \"shapedefaults\": {\"line\": {\"color\": \"#2a3f5f\"}}, \"ternary\": {\"aaxis\": {\"gridcolor\": \"white\", \"linecolor\": \"white\", \"ticks\": \"\"}, \"baxis\": {\"gridcolor\": \"white\", \"linecolor\": \"white\", \"ticks\": \"\"}, \"bgcolor\": \"#E5ECF6\", \"caxis\": {\"gridcolor\": \"white\", \"linecolor\": \"white\", \"ticks\": \"\"}}, \"title\": {\"x\": 0.05}, \"xaxis\": {\"automargin\": true, \"gridcolor\": \"white\", \"linecolor\": \"white\", \"ticks\": \"\", \"zerolinecolor\": \"white\", \"zerolinewidth\": 2}, \"yaxis\": {\"automargin\": true, \"gridcolor\": \"white\", \"linecolor\": \"white\", \"ticks\": \"\", \"zerolinecolor\": \"white\", \"zerolinewidth\": 2}}}, \"title\": {\"text\": \"Walcott Scatter Plot Map From the Year 1900 to 1936\"}},\n",
       "                        {\"responsive\": true}\n",
       "                    ).then(function(){\n",
       "                            \n",
       "var gd = document.getElementById('388b0cdc-682a-43d6-a43a-e9608788f5c6');\n",
       "var x = new MutationObserver(function (mutations, observer) {{\n",
       "        var display = window.getComputedStyle(gd).display;\n",
       "        if (!display || display === 'none') {{\n",
       "            console.log([gd, 'removed!']);\n",
       "            Plotly.purge(gd);\n",
       "            observer.disconnect();\n",
       "        }}\n",
       "}});\n",
       "\n",
       "// Listen for the removal of the full notebook cells\n",
       "var notebookContainer = gd.closest('#notebook-container');\n",
       "if (notebookContainer) {{\n",
       "    x.observe(notebookContainer, {childList: true});\n",
       "}}\n",
       "\n",
       "// Listen for the clearing of the current output cell\n",
       "var outputEl = gd.closest('.output');\n",
       "if (outputEl) {{\n",
       "    x.observe(outputEl, {childList: true});\n",
       "}}\n",
       "\n",
       "                        })\n",
       "                };\n",
       "                });\n",
       "            </script>\n",
       "        </div>"
      ]
     },
     "metadata": {},
     "output_type": "display_data"
    }
   ],
   "source": [
    "# Walcott Scatter Plot Map \n",
    "\n",
    "#adding column to Mary Vaux \n",
    "mary_vaux_walcott['text']='location:'+mary_vaux_walcott['province_state']+'count: '+mary_vaux_walcott['ind_count']+'specimens: '+mary_vaux_walcott['specimen_name'].astype(str)\n",
    "\n",
    "#adding column to Charles Doolittle \n",
    "charles_doolittle_walcott['text']='location:'+charles_doolittle_walcott['province_state']+'count: '+charles_doolittle_walcott['ind_count']+'specimens: '+charles_doolittle_walcott['specimen_name'].astype(str)\n",
    "\n",
    "#code to create geo plot \n",
    "fig = go.Figure(data=go.Scattergeo())\n",
    "\n",
    "#Mary Vaux Walcott \n",
    "fig.add_trace(go.Scattergeo(\n",
    "            lat = mary_vaux_walcott['lat'],\n",
    "            lon = mary_vaux_walcott['long'],\n",
    "            text = mary_vaux_walcott['text'],\n",
    "            mode = 'markers',\n",
    "            marker = dict(\n",
    "                size = 11,\n",
    "                #color = 'steelblue', #'lightskyblue',\n",
    "                line_color = 'crimson', #aqua\n",
    "                line_width = 1.5,\n",
    "                symbol = 35,\n",
    "            ),\n",
    "            name = \"Mary Vaux<br>Walcott\",\n",
    "            opacity = 0.90\n",
    "            \n",
    "    ))\n",
    "\n",
    "#Charles Doolittle Walcott \n",
    "fig.add_trace(go.Scattergeo(\n",
    "            lat = charles_doolittle_walcott['lat'],\n",
    "            lon = charles_doolittle_walcott['long'],\n",
    "            text = charles_doolittle_walcott['text'],\n",
    "            mode = 'markers',\n",
    "            marker = dict(\n",
    "                size = 9,\n",
    "                color = 'indigo', #'lightseagreen',\n",
    "                #line_color = 'purple', #'maroon', #'lightgreen',\n",
    "                line_width = 1.5,\n",
    "                symbol = 323,\n",
    "            ),\n",
    "            name = \"Charles D<br>Walcott\",\n",
    "            opacity = 0.90\n",
    "    ))\n",
    "\n",
    "#customize layout\n",
    "fig.update_layout(\n",
    "        title = 'Walcott Scatter Plot Map From the Year 1900 to 1936',\n",
    "        geo_scope='north america',\n",
    "        #showlegend=True,\n",
    "    \n",
    "               \n",
    "        geo = dict(\n",
    "            #landcolor = \"rgb(181, 130, 55)\", #rich light brown\n",
    "            #landcolor = \"rgb(222, 206, 187)\", #option2 looks grey\n",
    "            #landcolor = 'wheat', #navajowhite\n",
    "            \n",
    "            showland = True,\n",
    "            landcolor = 'burlywood',     #\"rgb(212, 212, 212)\",\n",
    "            subunitcolor = 'cornflowerblue',      #\"rgb(255, 255, 255)\",\n",
    "            countrycolor = 'cornflowerblue',             #\"rgb(255, 255, 255)\",\n",
    "            showlakes = True,\n",
    "            lakecolor = \"antiquewhite\",       #\"rgb(255, 255, 255)\",\n",
    "            showsubunits = True,\n",
    "            showcountries = True,\n",
    "            showocean = False,\n",
    "            #oceancolor = 'lightblue',\n",
    "            resolution = 50,                #give a detailed map with state line and small island \n",
    "            projection = dict(\n",
    "                type = 'conic conformal',   #type works best for north america scope\n",
    "                rotation = dict(\n",
    "                    lon = -100\n",
    "            )\n",
    "        ),\n",
    "            \n",
    "        lonaxis = dict(\n",
    "            #showgrid = True,\n",
    "            gridwidth = 0.5,\n",
    "            range= [ -140.0, -55.0 ],\n",
    "            dtick = 5\n",
    "        ),\n",
    "        lataxis = dict (\n",
    "            #showgrid = True,\n",
    "            gridwidth = 0.5,\n",
    "            range= [ 20.0, 60.0 ],\n",
    "            dtick = 5\n",
    "        ),\n",
    "        \n",
    "            \n",
    "            \n",
    "            \n",
    "        \n",
    "           \n",
    "            \n",
    "        ),\n",
    "\n",
    "    )\n",
    "\n",
    "fig.show()\n"
   ]
  },
  {
   "cell_type": "code",
   "execution_count": null,
   "metadata": {},
   "outputs": [],
   "source": []
  },
  {
   "cell_type": "code",
   "execution_count": null,
   "metadata": {},
   "outputs": [],
   "source": []
  }
 ],
 "metadata": {
  "kernelspec": {
   "display_name": "Python 3",
   "language": "python",
   "name": "python3"
  },
  "language_info": {
   "codemirror_mode": {
    "name": "ipython",
    "version": 3
   },
   "file_extension": ".py",
   "mimetype": "text/x-python",
   "name": "python",
   "nbconvert_exporter": "python",
   "pygments_lexer": "ipython3",
   "version": "3.7.3"
  }
 },
 "nbformat": 4,
 "nbformat_minor": 2
}
