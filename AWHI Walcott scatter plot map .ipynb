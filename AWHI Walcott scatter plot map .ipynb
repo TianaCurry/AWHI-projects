{
 "cells": [
  {
   "cell_type": "markdown",
   "metadata": {},
   "source": [
    "# Scatter plot map for Walcott \n",
    "- will use Rathbun scatter plot for reference \n",
    "- but will more detailed hovertext that includes specimen family name and year (but dates on file seem to be wrong)\n",
    "- if there were fewer points or more time, could use mapbox\n",
    "    - will us go.Scatter in plotly instead "
   ]
  },
  {
   "cell_type": "code",
   "execution_count": 1,
   "metadata": {},
   "outputs": [],
   "source": [
    "import pandas as pd \n",
    "import plotly.graph_objects as go\n",
    "from collections import Counter\n",
    "import numpy as np"
   ]
  },
  {
   "cell_type": "markdown",
   "metadata": {},
   "source": [
    "### clean dataframe from original xlsx file\n",
    "- need to create \"sub\" dataframe with only the columns I need for my scatter plot map \n",
    "- can use example from jones scatter plot map "
   ]
  },
  {
   "cell_type": "code",
   "execution_count": 6,
   "metadata": {},
   "outputs": [
    {
     "data": {
      "text/html": [
       "<div>\n",
       "<style scoped>\n",
       "    .dataframe tbody tr th:only-of-type {\n",
       "        vertical-align: middle;\n",
       "    }\n",
       "\n",
       "    .dataframe tbody tr th {\n",
       "        vertical-align: top;\n",
       "    }\n",
       "\n",
       "    .dataframe thead th {\n",
       "        text-align: right;\n",
       "    }\n",
       "</style>\n",
       "<table border=\"1\" class=\"dataframe\">\n",
       "  <thead>\n",
       "    <tr style=\"text-align: right;\">\n",
       "      <th></th>\n",
       "      <th>Barcode</th>\n",
       "      <th>Catalog Number</th>\n",
       "      <th>Order</th>\n",
       "      <th>Family</th>\n",
       "      <th>family_name</th>\n",
       "      <th>Collector(s)</th>\n",
       "      <th>year_collected</th>\n",
       "      <th>Country</th>\n",
       "      <th>Province/State</th>\n",
       "      <th>EZID</th>\n",
       "    </tr>\n",
       "  </thead>\n",
       "  <tbody>\n",
       "    <tr>\n",
       "      <th>0</th>\n",
       "      <td>1355660</td>\n",
       "      <td>208828.0</td>\n",
       "      <td>Myrtales</td>\n",
       "      <td>Onagraceae</td>\n",
       "      <td>Evening primroses</td>\n",
       "      <td>Walcott, M. V.</td>\n",
       "      <td>1900.0</td>\n",
       "      <td>Mexico</td>\n",
       "      <td>Colima</td>\n",
       "      <td>http://n2t.net/ark:/65665/38d98265a-6fb0-4c82-...</td>\n",
       "    </tr>\n",
       "    <tr>\n",
       "      <th>1</th>\n",
       "      <td>1160457</td>\n",
       "      <td>99194.0</td>\n",
       "      <td>Solanales</td>\n",
       "      <td>Hydrophyllaceae</td>\n",
       "      <td>Waterleaf family</td>\n",
       "      <td>Walcott, C. D.</td>\n",
       "      <td>1900.0</td>\n",
       "      <td>United States</td>\n",
       "      <td>Colorado</td>\n",
       "      <td>http://n2t.net/ark:/65665/30a751787-3a18-4f16-...</td>\n",
       "    </tr>\n",
       "    <tr>\n",
       "      <th>2</th>\n",
       "      <td>3089925</td>\n",
       "      <td>80416.0</td>\n",
       "      <td>Apiales</td>\n",
       "      <td>Apiaceae</td>\n",
       "      <td>Umbellifers</td>\n",
       "      <td>Walcott, C. D.</td>\n",
       "      <td>1900.0</td>\n",
       "      <td>United States</td>\n",
       "      <td>New Mexico</td>\n",
       "      <td>http://n2t.net/ark:/65665/3d8b58966-9a8b-4b3b-...</td>\n",
       "    </tr>\n",
       "    <tr>\n",
       "      <th>3</th>\n",
       "      <td>3088994</td>\n",
       "      <td>80403.0</td>\n",
       "      <td>Apiales</td>\n",
       "      <td>Apiaceae</td>\n",
       "      <td>Umbellifers</td>\n",
       "      <td>Walcott, C. D.</td>\n",
       "      <td>1900.0</td>\n",
       "      <td>United States</td>\n",
       "      <td>New Mexico</td>\n",
       "      <td>http://n2t.net/ark:/65665/3c0f352f5-2101-4057-...</td>\n",
       "    </tr>\n",
       "    <tr>\n",
       "      <th>4</th>\n",
       "      <td>1805301</td>\n",
       "      <td>27505.0</td>\n",
       "      <td>Asterales</td>\n",
       "      <td>Asteraceae</td>\n",
       "      <td>Daisy family</td>\n",
       "      <td>Walcott, C. D.</td>\n",
       "      <td>1900.0</td>\n",
       "      <td>United States</td>\n",
       "      <td>New Mexico</td>\n",
       "      <td>http://n2t.net/ark:/65665/3db47f2f9-1144-47d3-...</td>\n",
       "    </tr>\n",
       "  </tbody>\n",
       "</table>\n",
       "</div>"
      ],
      "text/plain": [
       "   Barcode  Catalog Number      Order           Family        family_name  \\\n",
       "0  1355660        208828.0   Myrtales       Onagraceae  Evening primroses   \n",
       "1  1160457         99194.0  Solanales  Hydrophyllaceae   Waterleaf family   \n",
       "2  3089925         80416.0    Apiales         Apiaceae       Umbellifers    \n",
       "3  3088994         80403.0    Apiales         Apiaceae        Umbellifers   \n",
       "4  1805301         27505.0  Asterales       Asteraceae      Daisy family    \n",
       "\n",
       "     Collector(s)  year_collected        Country Province/State  \\\n",
       "0  Walcott, M. V.          1900.0         Mexico         Colima   \n",
       "1  Walcott, C. D.          1900.0  United States       Colorado   \n",
       "2  Walcott, C. D.          1900.0  United States     New Mexico   \n",
       "3  Walcott, C. D.          1900.0  United States     New Mexico   \n",
       "4  Walcott, C. D.          1900.0  United States     New Mexico   \n",
       "\n",
       "                                                EZID  \n",
       "0  http://n2t.net/ark:/65665/38d98265a-6fb0-4c82-...  \n",
       "1  http://n2t.net/ark:/65665/30a751787-3a18-4f16-...  \n",
       "2  http://n2t.net/ark:/65665/3d8b58966-9a8b-4b3b-...  \n",
       "3  http://n2t.net/ark:/65665/3c0f352f5-2101-4057-...  \n",
       "4  http://n2t.net/ark:/65665/3db47f2f9-1144-47d3-...  "
      ]
     },
     "execution_count": 6,
     "metadata": {},
     "output_type": "execute_result"
    }
   ],
   "source": [
    "walcott_df = pd.read_csv('AWHI_Walcott_dataset.csv')\n",
    "walcott_df.head()"
   ]
  },
  {
   "cell_type": "code",
   "execution_count": null,
   "metadata": {},
   "outputs": [],
   "source": []
  }
 ],
 "metadata": {
  "kernelspec": {
   "display_name": "Python 3",
   "language": "python",
   "name": "python3"
  },
  "language_info": {
   "codemirror_mode": {
    "name": "ipython",
    "version": 3
   },
   "file_extension": ".py",
   "mimetype": "text/x-python",
   "name": "python",
   "nbconvert_exporter": "python",
   "pygments_lexer": "ipython3",
   "version": "3.7.3"
  }
 },
 "nbformat": 4,
 "nbformat_minor": 2
}
