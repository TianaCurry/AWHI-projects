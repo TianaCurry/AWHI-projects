{
 "cells": [
  {
   "cell_type": "markdown",
   "metadata": {},
   "source": [
    "## Using spaCy on annual report files \n",
    "- testing spaCy to do text analysis \n",
    "- starting with a single file, then write code to include all files from annual report google shared folder "
   ]
  },
  {
   "cell_type": "code",
   "execution_count": 2,
   "metadata": {},
   "outputs": [],
   "source": [
    "import pandas as pd\n",
    "import math as m \n",
    "import os , sys\n",
    "import spacy\n",
    "from collections import Counter \n",
    "from tqdm import tqdm_notebook\n",
    "\n",
    "nlp = spacy.load(\"en_core_web_sm\")"
   ]
  },
  {
   "cell_type": "markdown",
   "metadata": {},
   "source": [
    "# opening files test "
   ]
  },
  {
   "cell_type": "code",
   "execution_count": 2,
   "metadata": {},
   "outputs": [
    {
     "name": "stdout",
     "output_type": "stream",
     "text": [
      "\n",
      "\n",
      "\n",
      "AUTHOR-SUBJECT INDEX \n",
      "\n",
      "TO ARTICLES IN \n",
      "\n",
      "SMITHSONIAN ANNUAL REPORTS \n",
      "1849-1961 \n",
      "\n",
      "\n",
      "\n",
      "Compiled by \n",
      "\n",
      "RUTH M. STEMPLE \n",
      "\n",
      "Florida State University Library \n",
      "\n",
      "and \n",
      "\n",
      "THE EDITORIAL AND PUBLICATIONS DIVISION \n",
      "\n",
      "SMITHSONIAN INSTITUTION \n",
      "\n",
      "\n",
      "\n",
      "\n",
      "(Publication 4503) \n",
      "\n",
      "\n",
      "\n",
      "SMITHSONIAN INSTITUTION \n",
      "WASHINGTON 1 1963 \n",
      "\n",
      "\n",
      "\n",
      "\n",
      "PREFACE \n",
      "\n",
      "The Smithsonian Institution was established in 1846 as the result of \n",
      "the bequest of James Smithson, an English scientist. He bequeathed \n",
      "his entire fortune to the United States of America for the purpose \n",
      "of founding \"an establishment for the increase and diffusion of \n",
      "knowledge among men.\" For the increase of knowledge, the Insti- \n",
      "tution is continuously engaged in research in many branches of science, \n",
      "as well as scientific expeditions to all parts of the world; the diffusion \n",
      "of knowledge is accomplished principally by the extensive exhibits \n",
      "in its museums, its art galleries, and its zoological park, and by several \n",
      "series of publications which are distributed throughout the w\n"
     ]
    }
   ],
   "source": [
    "#open/read a text file , no output \n",
    "annual_report_1963 = open(\"annualreporto18491961smit_djvu.txt\",\"r\")\n",
    "\n",
    "#prints entire file in output\n",
    "#[:0000] used to determine how many words to display \n",
    "print(annual_report_1963.read()[:1000])\n",
    "\n"
   ]
  },
  {
   "cell_type": "markdown",
   "metadata": {},
   "source": [
    "^I had issues with reading my text file \n",
    "- found my directory using os (import os) \n",
    "- next two steps helps you find your directory and files in your current directory\n",
    "- link: https://stackoverflow.com/questions/12201928/python-open-gives-ioerror-errno-2-no-such-file-or-directory\n",
    "- built-in functions in python: https://docs.python.org/3/library/functions.html"
   ]
  },
  {
   "cell_type": "markdown",
   "metadata": {},
   "source": [
    "# finding directory"
   ]
  },
  {
   "cell_type": "code",
   "execution_count": 3,
   "metadata": {},
   "outputs": [
    {
     "data": {
      "text/plain": [
       "['AWHI_job_title_tidy_data_frame.csv',\n",
       " 'AWHI_cleaned_dataframe.csv',\n",
       " '.DS_Store',\n",
       " 'Annual Report Data',\n",
       " 'AWHI_testing_plotly_graphics_line_charts.ipynb',\n",
       " 'annualreporto18491961smit_djvu.txt',\n",
       " 'AWHI_install_spaCy.ipynb',\n",
       " '.gitignore',\n",
       " 'AWHI_spaCy_annual_reports.ipynb',\n",
       " '.ipynb_checkpoints',\n",
       " '.git',\n",
       " 'Install_plotly_testing_graphics_line_charts.ipynb',\n",
       " 'AWHI_job_titles_plotly_graphics.ipynb',\n",
       " 'job_titles_graph']"
      ]
     },
     "execution_count": 3,
     "metadata": {},
     "output_type": "execute_result"
    }
   ],
   "source": [
    "#to list files in current working directory\n",
    "os.listdir()"
   ]
  },
  {
   "cell_type": "code",
   "execution_count": 4,
   "metadata": {},
   "outputs": [
    {
     "data": {
      "text/plain": [
       "'/Users/curryt/Documents/GitHub/AWHI-projects'"
      ]
     },
     "execution_count": 4,
     "metadata": {},
     "output_type": "execute_result"
    }
   ],
   "source": [
    "#to check what directory you're in \n",
    "os.getcwd()"
   ]
  },
  {
   "cell_type": "markdown",
   "metadata": {},
   "source": [
    "# Word Frequency test\n",
    "\n",
    "- using methods and examples from soaCy for beginners - NLP\n",
    "- link: https://blog.ekbana.com/nlp-for-beninners-using-spacy-6161cf48a229\n"
   ]
  },
  {
   "cell_type": "code",
   "execution_count": 5,
   "metadata": {},
   "outputs": [
    {
     "name": "stdout",
     "output_type": "stream",
     "text": [
      "[('outlay', 1), ('home', 1), ('surprise', 1), ('Samsung', 1), ('expanded', 1)]\n"
     ]
    }
   ],
   "source": [
    "#example from website \n",
    "#7. Get word frequnecy \n",
    "#testing to see if it runs \n",
    "\n",
    "import spacy\n",
    "from collections import Counter\n",
    "\n",
    "nlp = spacy.load(\"en_core_web_sm\")\n",
    "\n",
    "text = \"\"\"Most of the outlay will be at home. No surprise there, either. While Samsung has expanded overseas, South Korea is still host to most of its factories and research engineers.\"\"\"\n",
    "\n",
    "doc = nlp(text)\n",
    "\n",
    "#remove stopwords and punctuations\n",
    "\n",
    "words = [token.text for token in doc if token.is_stop != True and token.is_punct != True]\n",
    "\n",
    "word_freq = Counter(words)\n",
    "\n",
    "common_words = word_freq.most_common(5)\n",
    "\n",
    "print (common_words)\n"
   ]
  },
  {
   "cell_type": "markdown",
   "metadata": {},
   "source": [
    "- link: https://spacy.io/api/token\n",
    "    - shows the use and extensions for different containers, pipelines and functions "
   ]
  },
  {
   "cell_type": "code",
   "execution_count": 6,
   "metadata": {},
   "outputs": [],
   "source": [
    "nlp = spacy.load(\"en_core_web_sm\")"
   ]
  },
  {
   "cell_type": "markdown",
   "metadata": {},
   "source": [
    "# most common word count using spaCy test"
   ]
  },
  {
   "cell_type": "code",
   "execution_count": 7,
   "metadata": {},
   "outputs": [
    {
     "name": "stdout",
     "output_type": "stream",
     "text": [
      "Common words by text function\n",
      "[('W.', 576), ('H.', 551), ('A.', 550), ('J.', 547), ('1', 451), ('E.', 414), ('F.', 355), ('S.', 339), ('M.', 326), ('C.', 315), ('R.', 305), ('G.', 304), ('L.', 263), ('William', 241), ('B.', 236), ('P.', 205), ('Charles', 204), ('19', 200), ('County', 195), ('T.', 192), ('America', 191), ('George', 176), ('Henry', 176), ('John', 173), ('3', 168), ('New', 162), ('1961', 159), ('D.', 153), ('Antiquities', 144), ('James', 136), ('man', 134), ('North', 129), ('1903', 128), ('1904', 127), ('191', 124), ('Indians', 122), ('Indian', 121), ('life', 120), ('States', 118), ('2', 116), ('history', 115), ('1867', 114), ('earth', 113), ('Robert', 109), ('N.', 107), ('Jr.', 106), ('SMITHSONIAN', 105), ('United', 105), ('REPORTS', 103), ('INSTITUTION', 103)]\n",
      "Common words by norm function\n",
      "[('w.', 576), ('h.', 551), ('a.', 550), ('j.', 547), ('1', 451), ('e.', 414), ('f.', 355), ('s.', 339), ('m.', 326), ('c.', 315), ('r.', 305), ('g.', 304), ('l.', 263), ('william', 241), ('b.', 236), ('p.', 205), ('charles', 204), ('new', 204), ('19', 200), ('county', 195), ('history', 193), ('t.', 192), ('america', 191), ('henry', 179), ('george', 176), ('john', 173), ('3', 168), ('antiquities', 166), ('smithsonian', 162), ('ancient', 160), ('1961', 159), ('life', 153), ('d.', 153), ('man', 153), ('mounds', 150), ('institution', 146), ('earth', 143), ('progress', 141), ('recent', 138), ('north', 138), ('james', 136), ('1903', 128), ('1904', 127), ('191', 124), ('indians', 122), ('states', 121), ('indian', 121), ('index', 117), ('sun', 117), ('2', 116)]\n",
      "Common words by lemma function\n",
      "[('W.', 576), ('H.', 548), ('J.', 547), ('1', 451), ('A.', 416), ('E.', 409), ('F.', 353), ('S.', 339), ('M.', 326), ('C.', 312), ('G.', 304), ('R.', 304), ('L.', 263), ('William', 241), ('B.', 236), ('Charles', 204), ('P.', 203), ('19', 200), ('County', 195), ('T.', 192), ('America', 191), ('history', 185), ('George', 176), ('Henry', 176), ('John', 173), ('3', 168), ('1961', 159), ('D.', 153), ('man', 149), ('Antiquities', 144), ('New', 139), ('James', 136), ('recent', 136), ('life', 135), ('a.', 134), ('plant', 128), ('1903', 128), ('1904', 127), ('191', 124), ('Indians', 122), ('earth', 120), ('States', 117), ('progress', 117), ('ancient', 117), ('2', 116), ('North', 115), ('1867', 114), ('subject', 112), ('index', 112), ('tion', 112)]\n"
     ]
    }
   ],
   "source": [
    "#example from website\n",
    "#modified with Mike 8/11/19\n",
    "\n",
    "#need to test with a file saved on your own computer, so the information in open() will change\n",
    "#this information will be different for each computer in open()\n",
    "\n",
    "#open the file you want to do word fequency\n",
    "#with open function will close files once the function is done running\n",
    "#directory is imported from github in the same directory so no need to include /Desktop/User\n",
    "with open(\"annualreporto18491961smit_djvu.txt\",\"r\") as annual_report_1963:\n",
    "\n",
    "    #need to add \".read()\" so that it will look at the text in the open file\n",
    "    doc = nlp(annual_report_1963.read())\n",
    "\n",
    "#testing the results of \n",
    "#results using text ext. funciton\n",
    "#useful to make words token to cut white space len(), stop code token.is_stop , and punction token.is_punct \n",
    "words_text = [token.text for token in doc if token.is_stop != True and token.is_punct != True and len(token.text.strip()) > 0]\n",
    "\n",
    "word_text_freq = Counter(words_text)\n",
    "\n",
    "common_words_text = word_text_freq.most_common(50)\n",
    "print(\"Common words by text function\")\n",
    "print(common_words_text)\n",
    "\n",
    "#results using norm_ ext. function\n",
    "#grouping variation of words i.e (dog, DOG,Dog, dogs, dog's)\n",
    "#everything is searchable by lowercase\n",
    "words_norm = [token.norm_ for token in doc if token.is_stop != True and token.is_punct != True and len(token.text.strip()) > 0]\n",
    "\n",
    "word_norm_freq = Counter(words_norm)\n",
    "\n",
    "common_words_norm = word_norm_freq.most_common(50)\n",
    "print(\"Common words by norm function\")\n",
    "print(common_words_norm)\n",
    "\n",
    "#results using lemma_ ext. function \n",
    "#grouping variation of words and tense on verbs i.e (see, saw, seen), (dog, DOG,Dog, dogs, dog's)\n",
    "#everything is searchable by lowercase \n",
    "words_lemma = [token.lemma_ for token in doc if token.is_stop != True and token.is_punct != True and len(token.text.strip()) > 0]\n",
    "\n",
    "word_lemma_freq = Counter(words_lemma)\n",
    "\n",
    "common_words_lemma = word_lemma_freq.most_common(50)\n",
    "print(\"Common words by lemma function\")\n",
    "print(common_words_lemma)\n"
   ]
  },
  {
   "cell_type": "markdown",
   "metadata": {},
   "source": [
    "# word count specific word given using spaCy test"
   ]
  },
  {
   "cell_type": "code",
   "execution_count": 8,
   "metadata": {},
   "outputs": [
    {
     "data": {
      "text/plain": [
       "0"
      ]
     },
     "execution_count": 8,
     "metadata": {},
     "output_type": "execute_result"
    }
   ],
   "source": [
    "#imput word you want to count, not counted with spacy token so doesn't count variations\n",
    "#only counts words like \"Smithsonian\" as it's typed\n",
    "#input which word to count using text word \n",
    "word_freq['Smithsonian']"
   ]
  },
  {
   "cell_type": "code",
   "execution_count": 9,
   "metadata": {},
   "outputs": [
    {
     "data": {
      "text/plain": [
       "4"
      ]
     },
     "execution_count": 9,
     "metadata": {},
     "output_type": "execute_result"
    }
   ],
   "source": [
    "word_lemma_freq['smithsonian']"
   ]
  },
  {
   "cell_type": "code",
   "execution_count": 10,
   "metadata": {},
   "outputs": [
    {
     "data": {
      "text/plain": [
       "162"
      ]
     },
     "execution_count": 10,
     "metadata": {},
     "output_type": "execute_result"
    }
   ],
   "source": [
    "word_norm_freq['smithsonian']"
   ]
  },
  {
   "cell_type": "markdown",
   "metadata": {},
   "source": [
    "^ websites reference: https://github.com/explosion/spaCy/issues/1851\n"
   ]
  },
  {
   "cell_type": "markdown",
   "metadata": {},
   "source": [
    "# word count using io and spaCy test"
   ]
  },
  {
   "cell_type": "code",
   "execution_count": 11,
   "metadata": {},
   "outputs": [],
   "source": [
    "#trying to do the same thing in a different way\n",
    "#this is an older way of writing this code\n",
    "#example with io\n",
    "\n",
    "import io\n",
    "\n",
    "ff = io.open(\"annualreporto18491961smit_djvu.txt\",\"r\", encoding='utf-8')\n",
    "doc = nlp(ff.read())\n",
    "words = [token.text for token in doc if token.is_stop != True and token.is_punct != True]\n",
    "\n",
    "word_freq = Counter(words)"
   ]
  },
  {
   "cell_type": "code",
   "execution_count": 12,
   "metadata": {},
   "outputs": [
    {
     "name": "stdout",
     "output_type": "stream",
     "text": [
      "[('\\n', 11270), ('\\n\\n', 7495), ('\\n\\n\\n\\n', 802), ('W.', 576), ('H.', 551)]\n"
     ]
    }
   ],
   "source": [
    "common_words = word_freq.most_common(5)\n",
    "\n",
    "print (common_words)\n",
    "\n",
    "ff.close()\n",
    "\n",
    "#this gives the same results as above"
   ]
  },
  {
   "cell_type": "markdown",
   "metadata": {},
   "source": [
    "^ websites reference: https://github.com/explosion/spaCy/issues/1851"
   ]
  },
  {
   "cell_type": "markdown",
   "metadata": {},
   "source": [
    "testing word counts without installed package  "
   ]
  },
  {
   "cell_type": "markdown",
   "metadata": {},
   "source": [
    "# word count with no packages test"
   ]
  },
  {
   "cell_type": "code",
   "execution_count": 13,
   "metadata": {
    "scrolled": true
   },
   "outputs": [
    {
     "name": "stdout",
     "output_type": "stream",
     "text": [
      "word count =  162\n"
     ]
    }
   ],
   "source": [
    "#word count for \"Smithsonian\" annual report 1963\n",
    "counts = 0\n",
    "with open (\"annualreporto18491961smit_djvu.txt\") as openfile:\n",
    "    for line in openfile:\n",
    "        if \"Smithsonian\" in line:\n",
    "        #for part in line.split():\n",
    "            #if \"Smithsonian\" in part: \n",
    "            counts += 1 \n",
    "           # print(line)\n",
    "        if \"SMITHSONIAN\" in line:\n",
    "            counts += 1\n",
    "    #else:\n",
    "        #print(\"not found\")\n",
    "    print(\"word count = \",counts)\n",
    "# I need to write code so that Smithsonian and SMITHSONIAN and smithsonian match    \n",
    "              \n",
    "            "
   ]
  },
  {
   "cell_type": "markdown",
   "metadata": {},
   "source": [
    "^website reference: https://stackoverflow.com/questions/38101704/how-to-count-items-boolean-after-if-statements-python"
   ]
  },
  {
   "cell_type": "markdown",
   "metadata": {},
   "source": [
    "# Opening multiple files and counting words test\n",
    "## code will not run properly, missing inputs\n",
    "- website reference:https://stackoverflow.com/questions/16997165/unique-word-frequency-in-multiple-files "
   ]
  },
  {
   "cell_type": "code",
   "execution_count": 14,
   "metadata": {},
   "outputs": [],
   "source": [
    "#this will not run properly without change input, just a sample from a website\n",
    "\n",
    "\"\"\"\n",
    "from collections import Counter\n",
    "from glob import iglob\n",
    "import re\n",
    "import os\n",
    "\n",
    "def remove_garbage(text):\n",
    "    #Replace non-word (non-alphanumeric) chars in text with spaces,\n",
    "    #then convert and return a lowercase version of the result.\n",
    "    \n",
    "    text = re.sub(r'\\W+', ' ', text)\n",
    "    text = text.lower()\n",
    "    return text\n",
    "\n",
    "topwords = 100\n",
    "folderpath = 'path/to/directory'\n",
    "counter = Counter()\n",
    "for filepath in iglob(os.path.join(folderpath, '*.txt')):\n",
    "    with open(filepath) as file:\n",
    "        counter.update(remove_garbage(file.read()).split())\n",
    "\n",
    "for word, count in counter.most_common(topwords):\n",
    "    print('{}: {}'.format(count, word))\n",
    "\"\"\""
   ]
  },
  {
   "cell_type": "markdown",
   "metadata": {},
   "source": [
    "\n",
    "# web searches \n",
    "- libraries in python: https://www.edureka.co/blog/python-libraries/\n",
    "- best NLP libraries for python: https://elitedatascience.com/python-nlp-libraries\n",
    "- def functions: https://www.codementor.io/kaushikpal/user-defined-functions-in-python-8s7wyc8k2\n",
    "- opening multiple files using context manager: https://stackoverflow.com/questions/21680473/how-can-i-open-multiple-files-number-of-files-unknown-beforehand-using-with-o\n",
    "- counting word frequency with python: https://programminghistorian.org/en/lessons/counting-frequencies\n",
    "- functions in spacy: https://spacy.io/api/top-level\n",
    "- using spacy examples: https://www.analyticsvidhya.com/blog/2017/04/natural-language-processing-made-easy-using-spacy-%E2%80%8Bin-python/\n",
    "- using unicodedata: https://github.com/LightTable/Python/issues/24\n",
    "- text classifications in spacy: https://www.dataquest.io/blog/tutorial-text-classification-in-python-using-spacy/\n",
    "- read,open,write,add to files: https://www.geeksforgeeks.org/reading-writing-text-files-python/\n",
    "- using io: https://github.com/explosion/spaCy/issues/1851\n",
    "- using io: https://stackoverflow.com/questions/37530891/python-pandas-nameerror-stringio-is-not-defined\n",
    "- how to count/ boolean: https://stackoverflow.com/questions/38101704/how-to-count-items-boolean-after-if-statements-python\n",
    "- opening files: https://codereview.stackexchange.com/questions/31395/python-open-multiple-files\n",
    "- opening files: https://stackoverflow.com/questions/38991923/how-to-open-multiple-files-in-a-directory/38992988\n",
    "- using countermanager: https://stackoverflow.com/questions/21680473/how-can-i-open-multiple-files-number-of-files-unknown-beforehand-using-with-o\n",
    "- what is contextlib: https://docs.python.org/3/library/contextlib.html\n",
    "- word frequency with multiple files: https://stackoverflow.com/questions/16997165/unique-word-frequency-in-multiple-files"
   ]
  },
  {
   "cell_type": "markdown",
   "metadata": {},
   "source": [
    "# Word count on multiple files \n",
    "- Using annual reports\n",
    "- With spaCy, os, and pandas "
   ]
  },
  {
   "cell_type": "code",
   "execution_count": 15,
   "metadata": {},
   "outputs": [],
   "source": [
    "#code for counting and storing all token to a list called words_lemma\n",
    "#words_lemma = [token.lemma_ for token in doc if token.is_stop != True and token.is_punct != True and len(token.text.strip()) > 0]\n",
    "        \n",
    "        #word_lemma_freq = Counter(words_lemma)\n",
    "\n",
    "        #women_word_count = word_lemma_freq['woman']\n",
    "\n",
    "        #print(annual_report, \"count for token women\", women_word_count)"
   ]
  },
  {
   "cell_type": "markdown",
   "metadata": {},
   "source": [
    "# Lemmatizer \n",
    "- assign based forms of words \n",
    "- lemma woman:women,Women,Woman,woman \n",
    "    - want to create WOMEN, WOMAN, women's, woman's with lemma\n",
    "    - these words are currently missinh from the count "
   ]
  },
  {
   "cell_type": "code",
   "execution_count": 43,
   "metadata": {},
   "outputs": [],
   "source": [
    "from spacy.lemmatizer import Lemmatizer"
   ]
  },
  {
   "cell_type": "code",
   "execution_count": 42,
   "metadata": {},
   "outputs": [
    {
     "data": {
      "text/plain": [
       "<spacy.lemmatizer.Lemmatizer at 0x12e343ef0>"
      ]
     },
     "execution_count": 42,
     "metadata": {},
     "output_type": "execute_result"
    }
   ],
   "source": [
    "lemmatizer = Lemmatizer()\n",
    "lemma = lemmatizer()"
   ]
  },
  {
   "cell_type": "code",
   "execution_count": 49,
   "metadata": {},
   "outputs": [],
   "source": [
    "from spacy.lemmatizer import Lemmatizer\n",
    "from spacy.lang.en import LEMMA_INDEX, LEMMA_EXC, LEMMA_RULES\n"
   ]
  },
  {
   "cell_type": "code",
   "execution_count": 54,
   "metadata": {},
   "outputs": [],
   "source": [
    "lemmatizer = Lemmatizer(LEMMA_INDEX, LEMMA_EXC, LEMMA_RULES)\n",
    "\n",
    "lemmas = lemmatizer(u\"womens\", u\"NOUN\")\n",
    "assert lemmas == [u\"women\"]"
   ]
  },
  {
   "cell_type": "code",
   "execution_count": 47,
   "metadata": {},
   "outputs": [
    {
     "data": {
      "text/plain": [
       "<spacy.lemmatizer.Lemmatizer at 0x12ab847b8>"
      ]
     },
     "execution_count": 47,
     "metadata": {},
     "output_type": "execute_result"
    }
   ],
   "source": [
    "lookup = {u\"going\": u\"go\"}\n",
    "lemmatizer = Lemmatizer(lookup=lookup)\n",
    "assert lemmatizer.lookup(u\"going\") == u\"go\"\n",
    "#print(lookup)\n"
   ]
  },
  {
   "cell_type": "markdown",
   "metadata": {},
   "source": [
    "# Word count on multiple files \n",
    "- Using annual reports\n",
    "- With spaCy, os, and pandas "
   ]
  },
  {
   "cell_type": "code",
   "execution_count": null,
   "metadata": {},
   "outputs": [],
   "source": [
    "#code for counting and storing all token to a list called words_lemma\n",
    "\n",
    "\"\"\"\n",
    "words_lemma = [token.lemma_ for token in doc if token.is_stop != True and token.is_punct != True and len(token.text.strip()) > 0]\n",
    "        \n",
    "        word_lemma_freq = Counter(words_lemma)\n",
    "\n",
    "        women_word_count = word_lemma_freq['woman']\n",
    "\n",
    "        print(annual_report, \"count for token women\", women_word_count)\n",
    "\"\"\""
   ]
  },
  {
   "cell_type": "markdown",
   "metadata": {},
   "source": [
    "- Counts word women and total words in each file in Annual Report Data folder "
   ]
  },
  {
   "cell_type": "code",
   "execution_count": 71,
   "metadata": {},
   "outputs": [
    {
     "data": {
      "application/vnd.jupyter.widget-view+json": {
       "model_id": "fbe94706f18f4d3ea0b1ac8912e0c8ac",
       "version_major": 2,
       "version_minor": 0
      },
      "text/plain": [
       "HBox(children=(IntProgress(value=0, max=150), HTML(value='')))"
      ]
     },
     "metadata": {},
     "output_type": "display_data"
    }
   ],
   "source": [
    "# code for word count on annual reports with lemma token:\"woman\" \n",
    "\n",
    "reports = os.listdir(\"Annual Report Data\")              #creating a list of reports in the Annual Report Data folder \n",
    "results = []                                            #create empty list to store to store words and count from dictionary \n",
    "nlp.max_length = 5000000\n",
    "for annual_report in tqdm_notebook(reports):       #tqdm() adds timer to know how long things are taking to run                                                             \n",
    "    with open(os.path.join(\"Annual Report Data\", annual_report)) as report_path: #opening one file at a time in a loop using with open(), auto close    \n",
    "        result_dict = {'filename':annual_report}        #create dictionary, track filenames and add to result list \n",
    "        doc = nlp(report_path.read())                   #using spacy nlp on text files as doc  \n",
    "        woman_words = [token.text for token in doc if token.lemma_ == 'woman'] #tracking token.text of lemma token 'woman'\n",
    "        result_dict['woman_count'] = len(woman_words)                          #adding woman_count to dictionary to add to dict           \n",
    "        total_words = [token.text for token in doc if token.is_stop != True and token.is_punct != True and len(token.text.strip()) > 0]\n",
    "        result_dict['word_count'] = len(total_words)  \n",
    "        results.append(result_dict)                     #updates results list after every run\n",
    "        #print(len(total_words))"
   ]
  },
  {
   "cell_type": "markdown",
   "metadata": {},
   "source": [
    "- Counts word women and total words for first 3 files in Annual Report Data folder \n",
    "- use for testing changes without waiting hours for orginal code above to run "
   ]
  },
  {
   "cell_type": "code",
   "execution_count": 60,
   "metadata": {},
   "outputs": [],
   "source": [
    "# testing on first 3 files \n",
    "# code for word count on annual reports with lemma token:\"woman\" \n",
    "\n",
    "\"\"\"\n",
    "reports = os.listdir(\"Annual Report Data\")              #creating a list of reports in the Annual Report Data folder \n",
    "results = []                                            #create empty list to store to store words and count from dictionary \n",
    "nlp.max_length = 5000000\n",
    "for annual_report in reports[0:3]:       #tqdm() adds timer to know how long things are taking to run                                                             \n",
    "    with open(os.path.join(\"Annual Report Data\", annual_report)) as report_path: #opening one file at a time in a loop using with open(), auto close    \n",
    "        result_dict = {'filename':annual_report}        #create dictionary, track filenames and add to result list \n",
    "        doc = nlp(report_path.read())                   #using spacy nlp on text files as doc \n",
    "         \n",
    "        woman_words = [token.text for token in doc if token.lemma_ == 'woman'] #tracking token.text of lemma token 'woman'\n",
    "        result_dict['woman_count'] = len(woman_words)                          #adding woman_count to dictionary to add to dict        \n",
    "        \n",
    "        \n",
    "        total_words = [token.text for token in doc if token.is_stop != True and token.is_punct != True and len(token.text.strip()) > 0]\n",
    "        result_dict['word_count'] = len(total_words)\n",
    "        \n",
    "        results.append(result_dict)                     #updates results list after every run\n",
    "        #print(len(total_words))\n",
    "\"\"\""
   ]
  },
  {
   "cell_type": "code",
   "execution_count": 72,
   "metadata": {},
   "outputs": [
    {
     "data": {
      "text/html": [
       "<div>\n",
       "<style scoped>\n",
       "    .dataframe tbody tr th:only-of-type {\n",
       "        vertical-align: middle;\n",
       "    }\n",
       "\n",
       "    .dataframe tbody tr th {\n",
       "        vertical-align: top;\n",
       "    }\n",
       "\n",
       "    .dataframe thead th {\n",
       "        text-align: right;\n",
       "    }\n",
       "</style>\n",
       "<table border=\"1\" class=\"dataframe\">\n",
       "  <thead>\n",
       "    <tr style=\"text-align: right;\">\n",
       "      <th></th>\n",
       "      <th>filename</th>\n",
       "      <th>woman_count</th>\n",
       "      <th>word_count</th>\n",
       "    </tr>\n",
       "  </thead>\n",
       "  <tbody>\n",
       "    <tr>\n",
       "      <th>0</th>\n",
       "      <td>smithsonianyeara1999smit_djvu.txt</td>\n",
       "      <td>3</td>\n",
       "      <td>41687</td>\n",
       "    </tr>\n",
       "    <tr>\n",
       "      <th>1</th>\n",
       "      <td>annualreportofbo1892smith_djvu.txt</td>\n",
       "      <td>27</td>\n",
       "      <td>170295</td>\n",
       "    </tr>\n",
       "    <tr>\n",
       "      <th>2</th>\n",
       "      <td>annualreportofbo1954smit_djvu.txt</td>\n",
       "      <td>14</td>\n",
       "      <td>114360</td>\n",
       "    </tr>\n",
       "    <tr>\n",
       "      <th>3</th>\n",
       "      <td>annualreportofbo1901smit_djvu.txt</td>\n",
       "      <td>42</td>\n",
       "      <td>188025</td>\n",
       "    </tr>\n",
       "    <tr>\n",
       "      <th>4</th>\n",
       "      <td>annualreportofbo1876smit_djvu.txt</td>\n",
       "      <td>25</td>\n",
       "      <td>122603</td>\n",
       "    </tr>\n",
       "    <tr>\n",
       "      <th>5</th>\n",
       "      <td>annualreportofbo1889smit_djvu.txt</td>\n",
       "      <td>15</td>\n",
       "      <td>221295</td>\n",
       "    </tr>\n",
       "    <tr>\n",
       "      <th>6</th>\n",
       "      <td>annualreportofbo1953smit_djvu.txt</td>\n",
       "      <td>15</td>\n",
       "      <td>121109</td>\n",
       "    </tr>\n",
       "    <tr>\n",
       "      <th>7</th>\n",
       "      <td>annualreportofbo1906smit_djvu.txt</td>\n",
       "      <td>2</td>\n",
       "      <td>43819</td>\n",
       "    </tr>\n",
       "    <tr>\n",
       "      <th>8</th>\n",
       "      <td>annualreportofbo1871smit_djvu.txt</td>\n",
       "      <td>34</td>\n",
       "      <td>112299</td>\n",
       "    </tr>\n",
       "    <tr>\n",
       "      <th>9</th>\n",
       "      <td>annualreportofbo1864smit_djvu.txt</td>\n",
       "      <td>28</td>\n",
       "      <td>129098</td>\n",
       "    </tr>\n",
       "    <tr>\n",
       "      <th>10</th>\n",
       "      <td>annualreportofbo1946smit_djvu.txt</td>\n",
       "      <td>20</td>\n",
       "      <td>102277</td>\n",
       "    </tr>\n",
       "    <tr>\n",
       "      <th>11</th>\n",
       "      <td>annualreportofbo1913smit_djvu.txt</td>\n",
       "      <td>27</td>\n",
       "      <td>187004</td>\n",
       "    </tr>\n",
       "    <tr>\n",
       "      <th>12</th>\n",
       "      <td>annualreportofbo1863smit_djvu.txt</td>\n",
       "      <td>15</td>\n",
       "      <td>122710</td>\n",
       "    </tr>\n",
       "    <tr>\n",
       "      <th>13</th>\n",
       "      <td>annualreportofbo1941smit_djvu.txt</td>\n",
       "      <td>55</td>\n",
       "      <td>144270</td>\n",
       "    </tr>\n",
       "    <tr>\n",
       "      <th>14</th>\n",
       "      <td>annualreportofbo1922smit_djvu.txt</td>\n",
       "      <td>19</td>\n",
       "      <td>128083</td>\n",
       "    </tr>\n",
       "    <tr>\n",
       "      <th>15</th>\n",
       "      <td>annualreportofbo1925smit_djvu.txt</td>\n",
       "      <td>6</td>\n",
       "      <td>147133</td>\n",
       "    </tr>\n",
       "    <tr>\n",
       "      <th>16</th>\n",
       "      <td>annualreportofbo1930smit_djvu.txt</td>\n",
       "      <td>31</td>\n",
       "      <td>151417</td>\n",
       "    </tr>\n",
       "    <tr>\n",
       "      <th>17</th>\n",
       "      <td>annualreportofbo1962smit_djvu.txt</td>\n",
       "      <td>8</td>\n",
       "      <td>145230</td>\n",
       "    </tr>\n",
       "    <tr>\n",
       "      <th>18</th>\n",
       "      <td>annualreportofbo1937smit_djvu.txt</td>\n",
       "      <td>20</td>\n",
       "      <td>135161</td>\n",
       "    </tr>\n",
       "    <tr>\n",
       "      <th>19</th>\n",
       "      <td>annualreportofbo1940smit_djvu.txt</td>\n",
       "      <td>33</td>\n",
       "      <td>118133</td>\n",
       "    </tr>\n",
       "    <tr>\n",
       "      <th>20</th>\n",
       "      <td>annualreportofbo1862smit_djvu.txt</td>\n",
       "      <td>7</td>\n",
       "      <td>130064</td>\n",
       "    </tr>\n",
       "    <tr>\n",
       "      <th>21</th>\n",
       "      <td>annualreportofbo1912smit_djvu.txt</td>\n",
       "      <td>50</td>\n",
       "      <td>179580</td>\n",
       "    </tr>\n",
       "    <tr>\n",
       "      <th>22</th>\n",
       "      <td>annualreportofbo1947smit_djvu.txt</td>\n",
       "      <td>13</td>\n",
       "      <td>110028</td>\n",
       "    </tr>\n",
       "    <tr>\n",
       "      <th>23</th>\n",
       "      <td>annualreportofbo18531854smit_djvu.txt</td>\n",
       "      <td>4</td>\n",
       "      <td>177002</td>\n",
       "    </tr>\n",
       "    <tr>\n",
       "      <th>24</th>\n",
       "      <td>annualreportofbo1872smith_djvu.txt</td>\n",
       "      <td>25</td>\n",
       "      <td>103897</td>\n",
       "    </tr>\n",
       "    <tr>\n",
       "      <th>25</th>\n",
       "      <td>annualreportofbo1865smit_djvu.txt</td>\n",
       "      <td>8</td>\n",
       "      <td>141232</td>\n",
       "    </tr>\n",
       "    <tr>\n",
       "      <th>26</th>\n",
       "      <td>smithsonianyeara1998smit_djvu.txt</td>\n",
       "      <td>8</td>\n",
       "      <td>42304</td>\n",
       "    </tr>\n",
       "    <tr>\n",
       "      <th>27</th>\n",
       "      <td>annualreportofbo1870smit_djvu.txt</td>\n",
       "      <td>19</td>\n",
       "      <td>121166</td>\n",
       "    </tr>\n",
       "    <tr>\n",
       "      <th>28</th>\n",
       "      <td>annualreportofbo1876smith_djvu.txt</td>\n",
       "      <td>27</td>\n",
       "      <td>122577</td>\n",
       "    </tr>\n",
       "    <tr>\n",
       "      <th>29</th>\n",
       "      <td>annualreportofbo1952smit_djvu.txt</td>\n",
       "      <td>14</td>\n",
       "      <td>111744</td>\n",
       "    </tr>\n",
       "    <tr>\n",
       "      <th>...</th>\n",
       "      <td>...</td>\n",
       "      <td>...</td>\n",
       "      <td>...</td>\n",
       "    </tr>\n",
       "    <tr>\n",
       "      <th>120</th>\n",
       "      <td>annualreportofbo1905smit_djvu.txt</td>\n",
       "      <td>3</td>\n",
       "      <td>46422</td>\n",
       "    </tr>\n",
       "    <tr>\n",
       "      <th>121</th>\n",
       "      <td>annualreportofbo1872smit_djvu.txt</td>\n",
       "      <td>25</td>\n",
       "      <td>103532</td>\n",
       "    </tr>\n",
       "    <tr>\n",
       "      <th>122</th>\n",
       "      <td>smithsonianyeara8890smit_djvu.txt</td>\n",
       "      <td>45</td>\n",
       "      <td>201678</td>\n",
       "    </tr>\n",
       "    <tr>\n",
       "      <th>123</th>\n",
       "      <td>annualreportofbo1933smit_djvu.txt</td>\n",
       "      <td>26</td>\n",
       "      <td>107027</td>\n",
       "    </tr>\n",
       "    <tr>\n",
       "      <th>124</th>\n",
       "      <td>annualreportofbo1961smit_djvu.txt</td>\n",
       "      <td>8</td>\n",
       "      <td>140762</td>\n",
       "    </tr>\n",
       "    <tr>\n",
       "      <th>125</th>\n",
       "      <td>annualreportofbo1934smit_djvu.txt</td>\n",
       "      <td>18</td>\n",
       "      <td>99905</td>\n",
       "    </tr>\n",
       "    <tr>\n",
       "      <th>126</th>\n",
       "      <td>annualreportofbo1921smit_djvu.txt</td>\n",
       "      <td>41</td>\n",
       "      <td>145659</td>\n",
       "    </tr>\n",
       "    <tr>\n",
       "      <th>127</th>\n",
       "      <td>annualreportofbo1926smit_djvu.txt</td>\n",
       "      <td>25</td>\n",
       "      <td>128142</td>\n",
       "    </tr>\n",
       "    <tr>\n",
       "      <th>128</th>\n",
       "      <td>annualreportofbo18501852smit_djvu.txt</td>\n",
       "      <td>15</td>\n",
       "      <td>148615</td>\n",
       "    </tr>\n",
       "    <tr>\n",
       "      <th>129</th>\n",
       "      <td>annualreportofbo1890smith_djvu.txt</td>\n",
       "      <td>35</td>\n",
       "      <td>213834</td>\n",
       "    </tr>\n",
       "    <tr>\n",
       "      <th>130</th>\n",
       "      <td>annualreportofbo1873smit_djvu.txt</td>\n",
       "      <td>9</td>\n",
       "      <td>112279</td>\n",
       "    </tr>\n",
       "    <tr>\n",
       "      <th>131</th>\n",
       "      <td>annualreportofbo1904smit_djvu.txt</td>\n",
       "      <td>28</td>\n",
       "      <td>207212</td>\n",
       "    </tr>\n",
       "    <tr>\n",
       "      <th>132</th>\n",
       "      <td>annualreportofbo1951smit_djvu.txt</td>\n",
       "      <td>9</td>\n",
       "      <td>109849</td>\n",
       "    </tr>\n",
       "    <tr>\n",
       "      <th>133</th>\n",
       "      <td>annualreportofbo1874smit_djvu.txt</td>\n",
       "      <td>5</td>\n",
       "      <td>98662</td>\n",
       "    </tr>\n",
       "    <tr>\n",
       "      <th>134</th>\n",
       "      <td>annualreportofbo1903smit_djvu.txt</td>\n",
       "      <td>43</td>\n",
       "      <td>173068</td>\n",
       "    </tr>\n",
       "    <tr>\n",
       "      <th>135</th>\n",
       "      <td>annualreportofbo1956smit_djvu.txt</td>\n",
       "      <td>38</td>\n",
       "      <td>139593</td>\n",
       "    </tr>\n",
       "    <tr>\n",
       "      <th>136</th>\n",
       "      <td>annualreportofbo1880smith_djvu.txt</td>\n",
       "      <td>5</td>\n",
       "      <td>195573</td>\n",
       "    </tr>\n",
       "    <tr>\n",
       "      <th>137</th>\n",
       "      <td>annualreportofbo1943smit_djvu.txt</td>\n",
       "      <td>34</td>\n",
       "      <td>144949</td>\n",
       "    </tr>\n",
       "    <tr>\n",
       "      <th>138</th>\n",
       "      <td>annualreportofbo1944smit_djvu.txt</td>\n",
       "      <td>29</td>\n",
       "      <td>115504</td>\n",
       "    </tr>\n",
       "    <tr>\n",
       "      <th>139</th>\n",
       "      <td>annualreportofbo1866smit_djvu.txt</td>\n",
       "      <td>63</td>\n",
       "      <td>137349</td>\n",
       "    </tr>\n",
       "    <tr>\n",
       "      <th>140</th>\n",
       "      <td>annualreportofbo1899smit_djvu.txt</td>\n",
       "      <td>10</td>\n",
       "      <td>166674</td>\n",
       "    </tr>\n",
       "    <tr>\n",
       "      <th>141</th>\n",
       "      <td>annualreportofbo1893smith_djvu.txt</td>\n",
       "      <td>141</td>\n",
       "      <td>243802</td>\n",
       "    </tr>\n",
       "    <tr>\n",
       "      <th>142</th>\n",
       "      <td>smithsonianyear1969smit_djvu.txt</td>\n",
       "      <td>10</td>\n",
       "      <td>133095</td>\n",
       "    </tr>\n",
       "    <tr>\n",
       "      <th>143</th>\n",
       "      <td>annualreportofbo1927smit_djvu.txt</td>\n",
       "      <td>36</td>\n",
       "      <td>132703</td>\n",
       "    </tr>\n",
       "    <tr>\n",
       "      <th>144</th>\n",
       "      <td>smithsonianyear7071smit_djvu.txt</td>\n",
       "      <td>3</td>\n",
       "      <td>100413</td>\n",
       "    </tr>\n",
       "    <tr>\n",
       "      <th>145</th>\n",
       "      <td>annualreportofbo1920smit_djvu.txt</td>\n",
       "      <td>119</td>\n",
       "      <td>159597</td>\n",
       "    </tr>\n",
       "    <tr>\n",
       "      <th>146</th>\n",
       "      <td>annualreportofbo1857smit_djvu.txt</td>\n",
       "      <td>0</td>\n",
       "      <td>106307</td>\n",
       "    </tr>\n",
       "    <tr>\n",
       "      <th>147</th>\n",
       "      <td>annualreportofbo1935smit_djvu.txt</td>\n",
       "      <td>10</td>\n",
       "      <td>129478</td>\n",
       "    </tr>\n",
       "    <tr>\n",
       "      <th>148</th>\n",
       "      <td>annualreportofbo1960smit_djvu.txt</td>\n",
       "      <td>9</td>\n",
       "      <td>150506</td>\n",
       "    </tr>\n",
       "    <tr>\n",
       "      <th>149</th>\n",
       "      <td>annualreportofbo1932smit_djvu.txt</td>\n",
       "      <td>80</td>\n",
       "      <td>110889</td>\n",
       "    </tr>\n",
       "  </tbody>\n",
       "</table>\n",
       "<p>150 rows × 3 columns</p>\n",
       "</div>"
      ],
      "text/plain": [
       "                                  filename  woman_count  word_count\n",
       "0        smithsonianyeara1999smit_djvu.txt            3       41687\n",
       "1       annualreportofbo1892smith_djvu.txt           27      170295\n",
       "2        annualreportofbo1954smit_djvu.txt           14      114360\n",
       "3        annualreportofbo1901smit_djvu.txt           42      188025\n",
       "4        annualreportofbo1876smit_djvu.txt           25      122603\n",
       "5        annualreportofbo1889smit_djvu.txt           15      221295\n",
       "6        annualreportofbo1953smit_djvu.txt           15      121109\n",
       "7        annualreportofbo1906smit_djvu.txt            2       43819\n",
       "8        annualreportofbo1871smit_djvu.txt           34      112299\n",
       "9        annualreportofbo1864smit_djvu.txt           28      129098\n",
       "10       annualreportofbo1946smit_djvu.txt           20      102277\n",
       "11       annualreportofbo1913smit_djvu.txt           27      187004\n",
       "12       annualreportofbo1863smit_djvu.txt           15      122710\n",
       "13       annualreportofbo1941smit_djvu.txt           55      144270\n",
       "14       annualreportofbo1922smit_djvu.txt           19      128083\n",
       "15       annualreportofbo1925smit_djvu.txt            6      147133\n",
       "16       annualreportofbo1930smit_djvu.txt           31      151417\n",
       "17       annualreportofbo1962smit_djvu.txt            8      145230\n",
       "18       annualreportofbo1937smit_djvu.txt           20      135161\n",
       "19       annualreportofbo1940smit_djvu.txt           33      118133\n",
       "20       annualreportofbo1862smit_djvu.txt            7      130064\n",
       "21       annualreportofbo1912smit_djvu.txt           50      179580\n",
       "22       annualreportofbo1947smit_djvu.txt           13      110028\n",
       "23   annualreportofbo18531854smit_djvu.txt            4      177002\n",
       "24      annualreportofbo1872smith_djvu.txt           25      103897\n",
       "25       annualreportofbo1865smit_djvu.txt            8      141232\n",
       "26       smithsonianyeara1998smit_djvu.txt            8       42304\n",
       "27       annualreportofbo1870smit_djvu.txt           19      121166\n",
       "28      annualreportofbo1876smith_djvu.txt           27      122577\n",
       "29       annualreportofbo1952smit_djvu.txt           14      111744\n",
       "..                                     ...          ...         ...\n",
       "120      annualreportofbo1905smit_djvu.txt            3       46422\n",
       "121      annualreportofbo1872smit_djvu.txt           25      103532\n",
       "122      smithsonianyeara8890smit_djvu.txt           45      201678\n",
       "123      annualreportofbo1933smit_djvu.txt           26      107027\n",
       "124      annualreportofbo1961smit_djvu.txt            8      140762\n",
       "125      annualreportofbo1934smit_djvu.txt           18       99905\n",
       "126      annualreportofbo1921smit_djvu.txt           41      145659\n",
       "127      annualreportofbo1926smit_djvu.txt           25      128142\n",
       "128  annualreportofbo18501852smit_djvu.txt           15      148615\n",
       "129     annualreportofbo1890smith_djvu.txt           35      213834\n",
       "130      annualreportofbo1873smit_djvu.txt            9      112279\n",
       "131      annualreportofbo1904smit_djvu.txt           28      207212\n",
       "132      annualreportofbo1951smit_djvu.txt            9      109849\n",
       "133      annualreportofbo1874smit_djvu.txt            5       98662\n",
       "134      annualreportofbo1903smit_djvu.txt           43      173068\n",
       "135      annualreportofbo1956smit_djvu.txt           38      139593\n",
       "136     annualreportofbo1880smith_djvu.txt            5      195573\n",
       "137      annualreportofbo1943smit_djvu.txt           34      144949\n",
       "138      annualreportofbo1944smit_djvu.txt           29      115504\n",
       "139      annualreportofbo1866smit_djvu.txt           63      137349\n",
       "140      annualreportofbo1899smit_djvu.txt           10      166674\n",
       "141     annualreportofbo1893smith_djvu.txt          141      243802\n",
       "142       smithsonianyear1969smit_djvu.txt           10      133095\n",
       "143      annualreportofbo1927smit_djvu.txt           36      132703\n",
       "144       smithsonianyear7071smit_djvu.txt            3      100413\n",
       "145      annualreportofbo1920smit_djvu.txt          119      159597\n",
       "146      annualreportofbo1857smit_djvu.txt            0      106307\n",
       "147      annualreportofbo1935smit_djvu.txt           10      129478\n",
       "148      annualreportofbo1960smit_djvu.txt            9      150506\n",
       "149      annualreportofbo1932smit_djvu.txt           80      110889\n",
       "\n",
       "[150 rows x 3 columns]"
      ]
     },
     "execution_count": 72,
     "metadata": {},
     "output_type": "execute_result"
    }
   ],
   "source": [
    "result_df = pd.DataFrame(results)       #create a dataframe from list called results, dataframe can be manipulated and converted to csv\n",
    "#result_df.head()                       #print top of dataframe\n",
    "result_df"
   ]
  },
  {
   "cell_type": "code",
   "execution_count": 73,
   "metadata": {},
   "outputs": [],
   "source": [
    "#exporting dataframe to csv \n",
    "#will export dataframe into a csv called export_dataframe.csv in the AWHI-projects folder\n",
    "export_csv = result_df.to_csv (r'/Users/curryt/Documents/GitHub/AWHI-projects/export_dataframe.csv', index = None, header=True)\n"
   ]
  },
  {
   "cell_type": "markdown",
   "metadata": {},
   "source": [
    "- export data frame into csv link: https://datatofish.com/export-dataframe-to-csv/"
   ]
  },
  {
   "cell_type": "markdown",
   "metadata": {},
   "source": [
    "## Plotly plot from csv \n",
    "- link: https://plot.ly/python/plot-data-from-csv/\n",
    "- use export_csv file created above "
   ]
  },
  {
   "cell_type": "code",
   "execution_count": 3,
   "metadata": {},
   "outputs": [],
   "source": [
    "import plotly.express as px \n",
    "import plotly.graph_objects as go "
   ]
  },
  {
   "cell_type": "code",
   "execution_count": 16,
   "metadata": {
    "scrolled": false
   },
   "outputs": [
    {
     "data": {
      "application/vnd.plotly.v1+json": {
       "config": {
        "plotlyServerURL": "https://plot.ly"
       },
       "data": [
        {
         "alignmentgroup": "True",
         "hoverlabel": {
          "namelength": 0
         },
         "hovertemplate": "year=%{x}<br>woman_count=%{y}<br>word_count=%{marker.color}",
         "legendgroup": "",
         "marker": {
          "color": [
           106307,
           110363,
           108189,
           107895,
           114485,
           130064,
           122710,
           129098,
           141232,
           137349,
           151296,
           151741,
           124879,
           121166,
           112299,
           103897,
           103532,
           112279,
           98662,
           101309,
           122603,
           122577,
           121751,
           153926,
           154610,
           196123,
           195573,
           212974,
           228185,
           227664,
           258121,
           238239,
           265458,
           252263,
           253408,
           221295,
           255968,
           209062,
           213834,
           200772,
           170295,
           213785,
           206782,
           243802,
           190625,
           302287,
           313702,
           176388,
           350131,
           166674,
           211877,
           188025,
           184559,
           209955,
           185660,
           220685,
           173068,
           209549,
           207212,
           46422,
           43819,
           169067,
           179580,
           187004,
           135285,
           159597,
           145659,
           128083,
           130078,
           126031,
           147133,
           128142,
           132703,
           182170,
           146683,
           151417,
           130278,
           110889,
           107027,
           99905,
           129478,
           103712,
           135161,
           140596,
           131736,
           118133,
           144270,
           99515,
           144949,
           115504,
           116098,
           102277,
           110028,
           130774,
           102997,
           126364,
           109849,
           111744,
           121109,
           114360,
           133396,
           139593,
           122484,
           141101,
           164784,
           150506,
           140762,
           145230,
           148226,
           135424,
           88815,
           92402,
           98773,
           112969,
           133095,
           117984,
           141999,
           130633,
           116325,
           131417,
           147326,
           147507,
           148234,
           159239,
           162948,
           177284,
           42304,
           41687,
           23430,
           148697,
           187398,
           201678,
           177002,
           265693,
           213054,
           73260,
           132052,
           205466,
           135222,
           242558,
           380389,
           204882,
           258639,
           290537,
           125254,
           238141,
           243530,
           9131,
           148615,
           100413
          ],
          "coloraxis": "coloraxis"
         },
         "name": "",
         "offsetgroup": "",
         "orientation": "v",
         "showlegend": false,
         "textposition": "auto",
         "type": "bar",
         "x": [
          1857,
          1858,
          1859,
          1860,
          1861,
          1862,
          1863,
          1864,
          1865,
          1866,
          1867,
          1868,
          1869,
          1870,
          1871,
          1872,
          1872,
          1873,
          1874,
          1875,
          1876,
          1876,
          1877,
          1878,
          1879,
          1880,
          1880,
          1881,
          1882,
          1882,
          1883,
          1884,
          1885,
          1888,
          1888,
          1889,
          1889,
          1890,
          1890,
          1891,
          1892,
          1892,
          1893,
          1893,
          1894,
          1895,
          1896,
          1897,
          1898,
          1899,
          1900,
          1901,
          1901,
          1902,
          1902,
          1903,
          1903,
          1904,
          1904,
          1905,
          1906,
          1909,
          1912,
          1913,
          1918,
          1920,
          1921,
          1922,
          1923,
          1924,
          1925,
          1926,
          1927,
          1928,
          1929,
          1930,
          1931,
          1932,
          1933,
          1934,
          1935,
          1936,
          1937,
          1938,
          1939,
          1940,
          1941,
          1942,
          1943,
          1944,
          1945,
          1946,
          1947,
          1948,
          1949,
          1950,
          1951,
          1952,
          1953,
          1954,
          1955,
          1956,
          1957,
          1958,
          1959,
          1960,
          1961,
          1962,
          1963,
          1964,
          1965,
          1966,
          1967,
          1968,
          1969,
          1974,
          1975,
          1976,
          1977,
          1978,
          1979,
          1980,
          1981,
          1982,
          1983,
          1984,
          1998,
          1999,
          2000,
          null,
          null,
          null,
          null,
          null,
          null,
          null,
          null,
          null,
          null,
          null,
          null,
          null,
          null,
          null,
          null,
          null,
          null,
          null,
          null,
          null
         ],
         "xaxis": "x",
         "y": [
          0,
          5,
          4,
          1,
          3,
          7,
          15,
          28,
          8,
          63,
          10,
          6,
          37,
          19,
          34,
          25,
          25,
          9,
          5,
          3,
          25,
          27,
          23,
          10,
          23,
          5,
          5,
          5,
          15,
          14,
          67,
          14,
          9,
          16,
          17,
          15,
          71,
          33,
          35,
          78,
          27,
          38,
          21,
          141,
          22,
          320,
          139,
          12,
          7,
          10,
          55,
          42,
          43,
          250,
          41,
          28,
          43,
          8,
          28,
          3,
          2,
          54,
          50,
          27,
          64,
          119,
          41,
          19,
          8,
          25,
          6,
          25,
          36,
          69,
          17,
          31,
          4,
          80,
          26,
          18,
          10,
          10,
          20,
          7,
          13,
          33,
          55,
          12,
          34,
          29,
          16,
          20,
          13,
          12,
          3,
          3,
          9,
          14,
          15,
          14,
          30,
          38,
          26,
          31,
          46,
          9,
          8,
          8,
          13,
          11,
          5,
          9,
          5,
          6,
          10,
          35,
          105,
          94,
          84,
          149,
          123,
          53,
          42,
          56,
          67,
          51,
          8,
          3,
          2,
          13,
          62,
          45,
          4,
          10,
          165,
          2,
          11,
          8,
          7,
          64,
          470,
          111,
          71,
          65,
          0,
          13,
          9,
          0,
          15,
          3
         ],
         "yaxis": "y"
        }
       ],
       "layout": {
        "barmode": "relative",
        "coloraxis": {
         "colorbar": {
          "title": {
           "text": "word_count"
          }
         },
         "colorscale": [
          [
           0,
           "#0d0887"
          ],
          [
           0.1111111111111111,
           "#46039f"
          ],
          [
           0.2222222222222222,
           "#7201a8"
          ],
          [
           0.3333333333333333,
           "#9c179e"
          ],
          [
           0.4444444444444444,
           "#bd3786"
          ],
          [
           0.5555555555555556,
           "#d8576b"
          ],
          [
           0.6666666666666666,
           "#ed7953"
          ],
          [
           0.7777777777777778,
           "#fb9f3a"
          ],
          [
           0.8888888888888888,
           "#fdca26"
          ],
          [
           1,
           "#f0f921"
          ]
         ]
        },
        "height": 600,
        "legend": {
         "tracegroupgap": 0
        },
        "plot_bgcolor": "rgb(400,400,400)",
        "template": {
         "data": {
          "bar": [
           {
            "error_x": {
             "color": "#2a3f5f"
            },
            "error_y": {
             "color": "#2a3f5f"
            },
            "marker": {
             "line": {
              "color": "#E5ECF6",
              "width": 0.5
             }
            },
            "type": "bar"
           }
          ],
          "barpolar": [
           {
            "marker": {
             "line": {
              "color": "#E5ECF6",
              "width": 0.5
             }
            },
            "type": "barpolar"
           }
          ],
          "carpet": [
           {
            "aaxis": {
             "endlinecolor": "#2a3f5f",
             "gridcolor": "white",
             "linecolor": "white",
             "minorgridcolor": "white",
             "startlinecolor": "#2a3f5f"
            },
            "baxis": {
             "endlinecolor": "#2a3f5f",
             "gridcolor": "white",
             "linecolor": "white",
             "minorgridcolor": "white",
             "startlinecolor": "#2a3f5f"
            },
            "type": "carpet"
           }
          ],
          "choropleth": [
           {
            "colorbar": {
             "outlinewidth": 0,
             "ticks": ""
            },
            "type": "choropleth"
           }
          ],
          "contour": [
           {
            "colorbar": {
             "outlinewidth": 0,
             "ticks": ""
            },
            "colorscale": [
             [
              0,
              "#0d0887"
             ],
             [
              0.1111111111111111,
              "#46039f"
             ],
             [
              0.2222222222222222,
              "#7201a8"
             ],
             [
              0.3333333333333333,
              "#9c179e"
             ],
             [
              0.4444444444444444,
              "#bd3786"
             ],
             [
              0.5555555555555556,
              "#d8576b"
             ],
             [
              0.6666666666666666,
              "#ed7953"
             ],
             [
              0.7777777777777778,
              "#fb9f3a"
             ],
             [
              0.8888888888888888,
              "#fdca26"
             ],
             [
              1,
              "#f0f921"
             ]
            ],
            "type": "contour"
           }
          ],
          "contourcarpet": [
           {
            "colorbar": {
             "outlinewidth": 0,
             "ticks": ""
            },
            "type": "contourcarpet"
           }
          ],
          "heatmap": [
           {
            "colorbar": {
             "outlinewidth": 0,
             "ticks": ""
            },
            "colorscale": [
             [
              0,
              "#0d0887"
             ],
             [
              0.1111111111111111,
              "#46039f"
             ],
             [
              0.2222222222222222,
              "#7201a8"
             ],
             [
              0.3333333333333333,
              "#9c179e"
             ],
             [
              0.4444444444444444,
              "#bd3786"
             ],
             [
              0.5555555555555556,
              "#d8576b"
             ],
             [
              0.6666666666666666,
              "#ed7953"
             ],
             [
              0.7777777777777778,
              "#fb9f3a"
             ],
             [
              0.8888888888888888,
              "#fdca26"
             ],
             [
              1,
              "#f0f921"
             ]
            ],
            "type": "heatmap"
           }
          ],
          "heatmapgl": [
           {
            "colorbar": {
             "outlinewidth": 0,
             "ticks": ""
            },
            "colorscale": [
             [
              0,
              "#0d0887"
             ],
             [
              0.1111111111111111,
              "#46039f"
             ],
             [
              0.2222222222222222,
              "#7201a8"
             ],
             [
              0.3333333333333333,
              "#9c179e"
             ],
             [
              0.4444444444444444,
              "#bd3786"
             ],
             [
              0.5555555555555556,
              "#d8576b"
             ],
             [
              0.6666666666666666,
              "#ed7953"
             ],
             [
              0.7777777777777778,
              "#fb9f3a"
             ],
             [
              0.8888888888888888,
              "#fdca26"
             ],
             [
              1,
              "#f0f921"
             ]
            ],
            "type": "heatmapgl"
           }
          ],
          "histogram": [
           {
            "marker": {
             "colorbar": {
              "outlinewidth": 0,
              "ticks": ""
             }
            },
            "type": "histogram"
           }
          ],
          "histogram2d": [
           {
            "colorbar": {
             "outlinewidth": 0,
             "ticks": ""
            },
            "colorscale": [
             [
              0,
              "#0d0887"
             ],
             [
              0.1111111111111111,
              "#46039f"
             ],
             [
              0.2222222222222222,
              "#7201a8"
             ],
             [
              0.3333333333333333,
              "#9c179e"
             ],
             [
              0.4444444444444444,
              "#bd3786"
             ],
             [
              0.5555555555555556,
              "#d8576b"
             ],
             [
              0.6666666666666666,
              "#ed7953"
             ],
             [
              0.7777777777777778,
              "#fb9f3a"
             ],
             [
              0.8888888888888888,
              "#fdca26"
             ],
             [
              1,
              "#f0f921"
             ]
            ],
            "type": "histogram2d"
           }
          ],
          "histogram2dcontour": [
           {
            "colorbar": {
             "outlinewidth": 0,
             "ticks": ""
            },
            "colorscale": [
             [
              0,
              "#0d0887"
             ],
             [
              0.1111111111111111,
              "#46039f"
             ],
             [
              0.2222222222222222,
              "#7201a8"
             ],
             [
              0.3333333333333333,
              "#9c179e"
             ],
             [
              0.4444444444444444,
              "#bd3786"
             ],
             [
              0.5555555555555556,
              "#d8576b"
             ],
             [
              0.6666666666666666,
              "#ed7953"
             ],
             [
              0.7777777777777778,
              "#fb9f3a"
             ],
             [
              0.8888888888888888,
              "#fdca26"
             ],
             [
              1,
              "#f0f921"
             ]
            ],
            "type": "histogram2dcontour"
           }
          ],
          "mesh3d": [
           {
            "colorbar": {
             "outlinewidth": 0,
             "ticks": ""
            },
            "type": "mesh3d"
           }
          ],
          "parcoords": [
           {
            "line": {
             "colorbar": {
              "outlinewidth": 0,
              "ticks": ""
             }
            },
            "type": "parcoords"
           }
          ],
          "scatter": [
           {
            "marker": {
             "colorbar": {
              "outlinewidth": 0,
              "ticks": ""
             }
            },
            "type": "scatter"
           }
          ],
          "scatter3d": [
           {
            "line": {
             "colorbar": {
              "outlinewidth": 0,
              "ticks": ""
             }
            },
            "marker": {
             "colorbar": {
              "outlinewidth": 0,
              "ticks": ""
             }
            },
            "type": "scatter3d"
           }
          ],
          "scattercarpet": [
           {
            "marker": {
             "colorbar": {
              "outlinewidth": 0,
              "ticks": ""
             }
            },
            "type": "scattercarpet"
           }
          ],
          "scattergeo": [
           {
            "marker": {
             "colorbar": {
              "outlinewidth": 0,
              "ticks": ""
             }
            },
            "type": "scattergeo"
           }
          ],
          "scattergl": [
           {
            "marker": {
             "colorbar": {
              "outlinewidth": 0,
              "ticks": ""
             }
            },
            "type": "scattergl"
           }
          ],
          "scattermapbox": [
           {
            "marker": {
             "colorbar": {
              "outlinewidth": 0,
              "ticks": ""
             }
            },
            "type": "scattermapbox"
           }
          ],
          "scatterpolar": [
           {
            "marker": {
             "colorbar": {
              "outlinewidth": 0,
              "ticks": ""
             }
            },
            "type": "scatterpolar"
           }
          ],
          "scatterpolargl": [
           {
            "marker": {
             "colorbar": {
              "outlinewidth": 0,
              "ticks": ""
             }
            },
            "type": "scatterpolargl"
           }
          ],
          "scatterternary": [
           {
            "marker": {
             "colorbar": {
              "outlinewidth": 0,
              "ticks": ""
             }
            },
            "type": "scatterternary"
           }
          ],
          "surface": [
           {
            "colorbar": {
             "outlinewidth": 0,
             "ticks": ""
            },
            "colorscale": [
             [
              0,
              "#0d0887"
             ],
             [
              0.1111111111111111,
              "#46039f"
             ],
             [
              0.2222222222222222,
              "#7201a8"
             ],
             [
              0.3333333333333333,
              "#9c179e"
             ],
             [
              0.4444444444444444,
              "#bd3786"
             ],
             [
              0.5555555555555556,
              "#d8576b"
             ],
             [
              0.6666666666666666,
              "#ed7953"
             ],
             [
              0.7777777777777778,
              "#fb9f3a"
             ],
             [
              0.8888888888888888,
              "#fdca26"
             ],
             [
              1,
              "#f0f921"
             ]
            ],
            "type": "surface"
           }
          ],
          "table": [
           {
            "cells": {
             "fill": {
              "color": "#EBF0F8"
             },
             "line": {
              "color": "white"
             }
            },
            "header": {
             "fill": {
              "color": "#C8D4E3"
             },
             "line": {
              "color": "white"
             }
            },
            "type": "table"
           }
          ]
         },
         "layout": {
          "annotationdefaults": {
           "arrowcolor": "#2a3f5f",
           "arrowhead": 0,
           "arrowwidth": 1
          },
          "colorscale": {
           "diverging": [
            [
             0,
             "#8e0152"
            ],
            [
             0.1,
             "#c51b7d"
            ],
            [
             0.2,
             "#de77ae"
            ],
            [
             0.3,
             "#f1b6da"
            ],
            [
             0.4,
             "#fde0ef"
            ],
            [
             0.5,
             "#f7f7f7"
            ],
            [
             0.6,
             "#e6f5d0"
            ],
            [
             0.7,
             "#b8e186"
            ],
            [
             0.8,
             "#7fbc41"
            ],
            [
             0.9,
             "#4d9221"
            ],
            [
             1,
             "#276419"
            ]
           ],
           "sequential": [
            [
             0,
             "#0d0887"
            ],
            [
             0.1111111111111111,
             "#46039f"
            ],
            [
             0.2222222222222222,
             "#7201a8"
            ],
            [
             0.3333333333333333,
             "#9c179e"
            ],
            [
             0.4444444444444444,
             "#bd3786"
            ],
            [
             0.5555555555555556,
             "#d8576b"
            ],
            [
             0.6666666666666666,
             "#ed7953"
            ],
            [
             0.7777777777777778,
             "#fb9f3a"
            ],
            [
             0.8888888888888888,
             "#fdca26"
            ],
            [
             1,
             "#f0f921"
            ]
           ],
           "sequentialminus": [
            [
             0,
             "#0d0887"
            ],
            [
             0.1111111111111111,
             "#46039f"
            ],
            [
             0.2222222222222222,
             "#7201a8"
            ],
            [
             0.3333333333333333,
             "#9c179e"
            ],
            [
             0.4444444444444444,
             "#bd3786"
            ],
            [
             0.5555555555555556,
             "#d8576b"
            ],
            [
             0.6666666666666666,
             "#ed7953"
            ],
            [
             0.7777777777777778,
             "#fb9f3a"
            ],
            [
             0.8888888888888888,
             "#fdca26"
            ],
            [
             1,
             "#f0f921"
            ]
           ]
          },
          "colorway": [
           "#636efa",
           "#EF553B",
           "#00cc96",
           "#ab63fa",
           "#FFA15A",
           "#19d3f3",
           "#FF6692",
           "#B6E880",
           "#FF97FF",
           "#FECB52"
          ],
          "font": {
           "color": "#2a3f5f"
          },
          "geo": {
           "bgcolor": "white",
           "lakecolor": "white",
           "landcolor": "#E5ECF6",
           "showlakes": true,
           "showland": true,
           "subunitcolor": "white"
          },
          "hoverlabel": {
           "align": "left"
          },
          "hovermode": "closest",
          "mapbox": {
           "style": "light"
          },
          "paper_bgcolor": "white",
          "plot_bgcolor": "#E5ECF6",
          "polar": {
           "angularaxis": {
            "gridcolor": "white",
            "linecolor": "white",
            "ticks": ""
           },
           "bgcolor": "#E5ECF6",
           "radialaxis": {
            "gridcolor": "white",
            "linecolor": "white",
            "ticks": ""
           }
          },
          "scene": {
           "xaxis": {
            "backgroundcolor": "#E5ECF6",
            "gridcolor": "white",
            "gridwidth": 2,
            "linecolor": "white",
            "showbackground": true,
            "ticks": "",
            "zerolinecolor": "white"
           },
           "yaxis": {
            "backgroundcolor": "#E5ECF6",
            "gridcolor": "white",
            "gridwidth": 2,
            "linecolor": "white",
            "showbackground": true,
            "ticks": "",
            "zerolinecolor": "white"
           },
           "zaxis": {
            "backgroundcolor": "#E5ECF6",
            "gridcolor": "white",
            "gridwidth": 2,
            "linecolor": "white",
            "showbackground": true,
            "ticks": "",
            "zerolinecolor": "white"
           }
          },
          "shapedefaults": {
           "line": {
            "color": "#2a3f5f"
           }
          },
          "ternary": {
           "aaxis": {
            "gridcolor": "white",
            "linecolor": "white",
            "ticks": ""
           },
           "baxis": {
            "gridcolor": "white",
            "linecolor": "white",
            "ticks": ""
           },
           "bgcolor": "#E5ECF6",
           "caxis": {
            "gridcolor": "white",
            "linecolor": "white",
            "ticks": ""
           }
          },
          "title": {
           "x": 0.05
          },
          "xaxis": {
           "automargin": true,
           "gridcolor": "white",
           "linecolor": "white",
           "ticks": "",
           "zerolinecolor": "white",
           "zerolinewidth": 2
          },
          "yaxis": {
           "automargin": true,
           "gridcolor": "white",
           "linecolor": "white",
           "ticks": "",
           "zerolinecolor": "white",
           "zerolinewidth": 2
          }
         }
        },
        "title": {
         "text": "Smithsonian Institution Annual Report Word Frequency"
        },
        "xaxis": {
         "anchor": "y",
         "domain": [
          0,
          0.98
         ],
         "gridcolor": "LightGrey",
         "gridwidth": 1,
         "showgrid": true,
         "tickangle": 45,
         "title": {
          "text": "Annual Report Year"
         }
        },
        "yaxis": {
         "anchor": "x",
         "domain": [
          0,
          1
         ],
         "gridcolor": "LightGrey",
         "gridwidth": 1,
         "range": [
          0,
          350
         ],
         "showgrid": true,
         "title": {
          "text": "Frequency of the Word \"woman\""
         }
        }
       }
      },
      "text/html": [
       "<div>\n",
       "        \n",
       "        \n",
       "            <div id=\"ab1f0502-b705-4232-92d3-273e70bad83a\" class=\"plotly-graph-div\" style=\"height:600px; width:100%;\"></div>\n",
       "            <script type=\"text/javascript\">\n",
       "                require([\"plotly\"], function(Plotly) {\n",
       "                    window.PLOTLYENV=window.PLOTLYENV || {};\n",
       "                    \n",
       "                if (document.getElementById(\"ab1f0502-b705-4232-92d3-273e70bad83a\")) {\n",
       "                    Plotly.newPlot(\n",
       "                        'ab1f0502-b705-4232-92d3-273e70bad83a',\n",
       "                        [{\"alignmentgroup\": \"True\", \"hoverlabel\": {\"namelength\": 0}, \"hovertemplate\": \"year=%{x}<br>woman_count=%{y}<br>word_count=%{marker.color}\", \"legendgroup\": \"\", \"marker\": {\"color\": [106307, 110363, 108189, 107895, 114485, 130064, 122710, 129098, 141232, 137349, 151296, 151741, 124879, 121166, 112299, 103897, 103532, 112279, 98662, 101309, 122603, 122577, 121751, 153926, 154610, 196123, 195573, 212974, 228185, 227664, 258121, 238239, 265458, 252263, 253408, 221295, 255968, 209062, 213834, 200772, 170295, 213785, 206782, 243802, 190625, 302287, 313702, 176388, 350131, 166674, 211877, 188025, 184559, 209955, 185660, 220685, 173068, 209549, 207212, 46422, 43819, 169067, 179580, 187004, 135285, 159597, 145659, 128083, 130078, 126031, 147133, 128142, 132703, 182170, 146683, 151417, 130278, 110889, 107027, 99905, 129478, 103712, 135161, 140596, 131736, 118133, 144270, 99515, 144949, 115504, 116098, 102277, 110028, 130774, 102997, 126364, 109849, 111744, 121109, 114360, 133396, 139593, 122484, 141101, 164784, 150506, 140762, 145230, 148226, 135424, 88815, 92402, 98773, 112969, 133095, 117984, 141999, 130633, 116325, 131417, 147326, 147507, 148234, 159239, 162948, 177284, 42304, 41687, 23430, 148697, 187398, 201678, 177002, 265693, 213054, 73260, 132052, 205466, 135222, 242558, 380389, 204882, 258639, 290537, 125254, 238141, 243530, 9131, 148615, 100413], \"coloraxis\": \"coloraxis\"}, \"name\": \"\", \"offsetgroup\": \"\", \"orientation\": \"v\", \"showlegend\": false, \"textposition\": \"auto\", \"type\": \"bar\", \"x\": [1857.0, 1858.0, 1859.0, 1860.0, 1861.0, 1862.0, 1863.0, 1864.0, 1865.0, 1866.0, 1867.0, 1868.0, 1869.0, 1870.0, 1871.0, 1872.0, 1872.0, 1873.0, 1874.0, 1875.0, 1876.0, 1876.0, 1877.0, 1878.0, 1879.0, 1880.0, 1880.0, 1881.0, 1882.0, 1882.0, 1883.0, 1884.0, 1885.0, 1888.0, 1888.0, 1889.0, 1889.0, 1890.0, 1890.0, 1891.0, 1892.0, 1892.0, 1893.0, 1893.0, 1894.0, 1895.0, 1896.0, 1897.0, 1898.0, 1899.0, 1900.0, 1901.0, 1901.0, 1902.0, 1902.0, 1903.0, 1903.0, 1904.0, 1904.0, 1905.0, 1906.0, 1909.0, 1912.0, 1913.0, 1918.0, 1920.0, 1921.0, 1922.0, 1923.0, 1924.0, 1925.0, 1926.0, 1927.0, 1928.0, 1929.0, 1930.0, 1931.0, 1932.0, 1933.0, 1934.0, 1935.0, 1936.0, 1937.0, 1938.0, 1939.0, 1940.0, 1941.0, 1942.0, 1943.0, 1944.0, 1945.0, 1946.0, 1947.0, 1948.0, 1949.0, 1950.0, 1951.0, 1952.0, 1953.0, 1954.0, 1955.0, 1956.0, 1957.0, 1958.0, 1959.0, 1960.0, 1961.0, 1962.0, 1963.0, 1964.0, 1965.0, 1966.0, 1967.0, 1968.0, 1969.0, 1974.0, 1975.0, 1976.0, 1977.0, 1978.0, 1979.0, 1980.0, 1981.0, 1982.0, 1983.0, 1984.0, 1998.0, 1999.0, 2000.0, null, null, null, null, null, null, null, null, null, null, null, null, null, null, null, null, null, null, null, null, null], \"xaxis\": \"x\", \"y\": [0, 5, 4, 1, 3, 7, 15, 28, 8, 63, 10, 6, 37, 19, 34, 25, 25, 9, 5, 3, 25, 27, 23, 10, 23, 5, 5, 5, 15, 14, 67, 14, 9, 16, 17, 15, 71, 33, 35, 78, 27, 38, 21, 141, 22, 320, 139, 12, 7, 10, 55, 42, 43, 250, 41, 28, 43, 8, 28, 3, 2, 54, 50, 27, 64, 119, 41, 19, 8, 25, 6, 25, 36, 69, 17, 31, 4, 80, 26, 18, 10, 10, 20, 7, 13, 33, 55, 12, 34, 29, 16, 20, 13, 12, 3, 3, 9, 14, 15, 14, 30, 38, 26, 31, 46, 9, 8, 8, 13, 11, 5, 9, 5, 6, 10, 35, 105, 94, 84, 149, 123, 53, 42, 56, 67, 51, 8, 3, 2, 13, 62, 45, 4, 10, 165, 2, 11, 8, 7, 64, 470, 111, 71, 65, 0, 13, 9, 0, 15, 3], \"yaxis\": \"y\"}],\n",
       "                        {\"barmode\": \"relative\", \"coloraxis\": {\"colorbar\": {\"title\": {\"text\": \"word_count\"}}, \"colorscale\": [[0.0, \"#0d0887\"], [0.1111111111111111, \"#46039f\"], [0.2222222222222222, \"#7201a8\"], [0.3333333333333333, \"#9c179e\"], [0.4444444444444444, \"#bd3786\"], [0.5555555555555556, \"#d8576b\"], [0.6666666666666666, \"#ed7953\"], [0.7777777777777778, \"#fb9f3a\"], [0.8888888888888888, \"#fdca26\"], [1.0, \"#f0f921\"]]}, \"height\": 600, \"legend\": {\"tracegroupgap\": 0}, \"plot_bgcolor\": \"rgb(400,400,400)\", \"template\": {\"data\": {\"bar\": [{\"error_x\": {\"color\": \"#2a3f5f\"}, \"error_y\": {\"color\": \"#2a3f5f\"}, \"marker\": {\"line\": {\"color\": \"#E5ECF6\", \"width\": 0.5}}, \"type\": \"bar\"}], \"barpolar\": [{\"marker\": {\"line\": {\"color\": \"#E5ECF6\", \"width\": 0.5}}, \"type\": \"barpolar\"}], \"carpet\": [{\"aaxis\": {\"endlinecolor\": \"#2a3f5f\", \"gridcolor\": \"white\", \"linecolor\": \"white\", \"minorgridcolor\": \"white\", \"startlinecolor\": \"#2a3f5f\"}, \"baxis\": {\"endlinecolor\": \"#2a3f5f\", \"gridcolor\": \"white\", \"linecolor\": \"white\", \"minorgridcolor\": \"white\", \"startlinecolor\": \"#2a3f5f\"}, \"type\": \"carpet\"}], \"choropleth\": [{\"colorbar\": {\"outlinewidth\": 0, \"ticks\": \"\"}, \"type\": \"choropleth\"}], \"contour\": [{\"colorbar\": {\"outlinewidth\": 0, \"ticks\": \"\"}, \"colorscale\": [[0.0, \"#0d0887\"], [0.1111111111111111, \"#46039f\"], [0.2222222222222222, \"#7201a8\"], [0.3333333333333333, \"#9c179e\"], [0.4444444444444444, \"#bd3786\"], [0.5555555555555556, \"#d8576b\"], [0.6666666666666666, \"#ed7953\"], [0.7777777777777778, \"#fb9f3a\"], [0.8888888888888888, \"#fdca26\"], [1.0, \"#f0f921\"]], \"type\": \"contour\"}], \"contourcarpet\": [{\"colorbar\": {\"outlinewidth\": 0, \"ticks\": \"\"}, \"type\": \"contourcarpet\"}], \"heatmap\": [{\"colorbar\": {\"outlinewidth\": 0, \"ticks\": \"\"}, \"colorscale\": [[0.0, \"#0d0887\"], [0.1111111111111111, \"#46039f\"], [0.2222222222222222, \"#7201a8\"], [0.3333333333333333, \"#9c179e\"], [0.4444444444444444, \"#bd3786\"], [0.5555555555555556, \"#d8576b\"], [0.6666666666666666, \"#ed7953\"], [0.7777777777777778, \"#fb9f3a\"], [0.8888888888888888, \"#fdca26\"], [1.0, \"#f0f921\"]], \"type\": \"heatmap\"}], \"heatmapgl\": [{\"colorbar\": {\"outlinewidth\": 0, \"ticks\": \"\"}, \"colorscale\": [[0.0, \"#0d0887\"], [0.1111111111111111, \"#46039f\"], [0.2222222222222222, \"#7201a8\"], [0.3333333333333333, \"#9c179e\"], [0.4444444444444444, \"#bd3786\"], [0.5555555555555556, \"#d8576b\"], [0.6666666666666666, \"#ed7953\"], [0.7777777777777778, \"#fb9f3a\"], [0.8888888888888888, \"#fdca26\"], [1.0, \"#f0f921\"]], \"type\": \"heatmapgl\"}], \"histogram\": [{\"marker\": {\"colorbar\": {\"outlinewidth\": 0, \"ticks\": \"\"}}, \"type\": \"histogram\"}], \"histogram2d\": [{\"colorbar\": {\"outlinewidth\": 0, \"ticks\": \"\"}, \"colorscale\": [[0.0, \"#0d0887\"], [0.1111111111111111, \"#46039f\"], [0.2222222222222222, \"#7201a8\"], [0.3333333333333333, \"#9c179e\"], [0.4444444444444444, \"#bd3786\"], [0.5555555555555556, \"#d8576b\"], [0.6666666666666666, \"#ed7953\"], [0.7777777777777778, \"#fb9f3a\"], [0.8888888888888888, \"#fdca26\"], [1.0, \"#f0f921\"]], \"type\": \"histogram2d\"}], \"histogram2dcontour\": [{\"colorbar\": {\"outlinewidth\": 0, \"ticks\": \"\"}, \"colorscale\": [[0.0, \"#0d0887\"], [0.1111111111111111, \"#46039f\"], [0.2222222222222222, \"#7201a8\"], [0.3333333333333333, \"#9c179e\"], [0.4444444444444444, \"#bd3786\"], [0.5555555555555556, \"#d8576b\"], [0.6666666666666666, \"#ed7953\"], [0.7777777777777778, \"#fb9f3a\"], [0.8888888888888888, \"#fdca26\"], [1.0, \"#f0f921\"]], \"type\": \"histogram2dcontour\"}], \"mesh3d\": [{\"colorbar\": {\"outlinewidth\": 0, \"ticks\": \"\"}, \"type\": \"mesh3d\"}], \"parcoords\": [{\"line\": {\"colorbar\": {\"outlinewidth\": 0, \"ticks\": \"\"}}, \"type\": \"parcoords\"}], \"scatter\": [{\"marker\": {\"colorbar\": {\"outlinewidth\": 0, \"ticks\": \"\"}}, \"type\": \"scatter\"}], \"scatter3d\": [{\"line\": {\"colorbar\": {\"outlinewidth\": 0, \"ticks\": \"\"}}, \"marker\": {\"colorbar\": {\"outlinewidth\": 0, \"ticks\": \"\"}}, \"type\": \"scatter3d\"}], \"scattercarpet\": [{\"marker\": {\"colorbar\": {\"outlinewidth\": 0, \"ticks\": \"\"}}, \"type\": \"scattercarpet\"}], \"scattergeo\": [{\"marker\": {\"colorbar\": {\"outlinewidth\": 0, \"ticks\": \"\"}}, \"type\": \"scattergeo\"}], \"scattergl\": [{\"marker\": {\"colorbar\": {\"outlinewidth\": 0, \"ticks\": \"\"}}, \"type\": \"scattergl\"}], \"scattermapbox\": [{\"marker\": {\"colorbar\": {\"outlinewidth\": 0, \"ticks\": \"\"}}, \"type\": \"scattermapbox\"}], \"scatterpolar\": [{\"marker\": {\"colorbar\": {\"outlinewidth\": 0, \"ticks\": \"\"}}, \"type\": \"scatterpolar\"}], \"scatterpolargl\": [{\"marker\": {\"colorbar\": {\"outlinewidth\": 0, \"ticks\": \"\"}}, \"type\": \"scatterpolargl\"}], \"scatterternary\": [{\"marker\": {\"colorbar\": {\"outlinewidth\": 0, \"ticks\": \"\"}}, \"type\": \"scatterternary\"}], \"surface\": [{\"colorbar\": {\"outlinewidth\": 0, \"ticks\": \"\"}, \"colorscale\": [[0.0, \"#0d0887\"], [0.1111111111111111, \"#46039f\"], [0.2222222222222222, \"#7201a8\"], [0.3333333333333333, \"#9c179e\"], [0.4444444444444444, \"#bd3786\"], [0.5555555555555556, \"#d8576b\"], [0.6666666666666666, \"#ed7953\"], [0.7777777777777778, \"#fb9f3a\"], [0.8888888888888888, \"#fdca26\"], [1.0, \"#f0f921\"]], \"type\": \"surface\"}], \"table\": [{\"cells\": {\"fill\": {\"color\": \"#EBF0F8\"}, \"line\": {\"color\": \"white\"}}, \"header\": {\"fill\": {\"color\": \"#C8D4E3\"}, \"line\": {\"color\": \"white\"}}, \"type\": \"table\"}]}, \"layout\": {\"annotationdefaults\": {\"arrowcolor\": \"#2a3f5f\", \"arrowhead\": 0, \"arrowwidth\": 1}, \"colorscale\": {\"diverging\": [[0, \"#8e0152\"], [0.1, \"#c51b7d\"], [0.2, \"#de77ae\"], [0.3, \"#f1b6da\"], [0.4, \"#fde0ef\"], [0.5, \"#f7f7f7\"], [0.6, \"#e6f5d0\"], [0.7, \"#b8e186\"], [0.8, \"#7fbc41\"], [0.9, \"#4d9221\"], [1, \"#276419\"]], \"sequential\": [[0.0, \"#0d0887\"], [0.1111111111111111, \"#46039f\"], [0.2222222222222222, \"#7201a8\"], [0.3333333333333333, \"#9c179e\"], [0.4444444444444444, \"#bd3786\"], [0.5555555555555556, \"#d8576b\"], [0.6666666666666666, \"#ed7953\"], [0.7777777777777778, \"#fb9f3a\"], [0.8888888888888888, \"#fdca26\"], [1.0, \"#f0f921\"]], \"sequentialminus\": [[0.0, \"#0d0887\"], [0.1111111111111111, \"#46039f\"], [0.2222222222222222, \"#7201a8\"], [0.3333333333333333, \"#9c179e\"], [0.4444444444444444, \"#bd3786\"], [0.5555555555555556, \"#d8576b\"], [0.6666666666666666, \"#ed7953\"], [0.7777777777777778, \"#fb9f3a\"], [0.8888888888888888, \"#fdca26\"], [1.0, \"#f0f921\"]]}, \"colorway\": [\"#636efa\", \"#EF553B\", \"#00cc96\", \"#ab63fa\", \"#FFA15A\", \"#19d3f3\", \"#FF6692\", \"#B6E880\", \"#FF97FF\", \"#FECB52\"], \"font\": {\"color\": \"#2a3f5f\"}, \"geo\": {\"bgcolor\": \"white\", \"lakecolor\": \"white\", \"landcolor\": \"#E5ECF6\", \"showlakes\": true, \"showland\": true, \"subunitcolor\": \"white\"}, \"hoverlabel\": {\"align\": \"left\"}, \"hovermode\": \"closest\", \"mapbox\": {\"style\": \"light\"}, \"paper_bgcolor\": \"white\", \"plot_bgcolor\": \"#E5ECF6\", \"polar\": {\"angularaxis\": {\"gridcolor\": \"white\", \"linecolor\": \"white\", \"ticks\": \"\"}, \"bgcolor\": \"#E5ECF6\", \"radialaxis\": {\"gridcolor\": \"white\", \"linecolor\": \"white\", \"ticks\": \"\"}}, \"scene\": {\"xaxis\": {\"backgroundcolor\": \"#E5ECF6\", \"gridcolor\": \"white\", \"gridwidth\": 2, \"linecolor\": \"white\", \"showbackground\": true, \"ticks\": \"\", \"zerolinecolor\": \"white\"}, \"yaxis\": {\"backgroundcolor\": \"#E5ECF6\", \"gridcolor\": \"white\", \"gridwidth\": 2, \"linecolor\": \"white\", \"showbackground\": true, \"ticks\": \"\", \"zerolinecolor\": \"white\"}, \"zaxis\": {\"backgroundcolor\": \"#E5ECF6\", \"gridcolor\": \"white\", \"gridwidth\": 2, \"linecolor\": \"white\", \"showbackground\": true, \"ticks\": \"\", \"zerolinecolor\": \"white\"}}, \"shapedefaults\": {\"line\": {\"color\": \"#2a3f5f\"}}, \"ternary\": {\"aaxis\": {\"gridcolor\": \"white\", \"linecolor\": \"white\", \"ticks\": \"\"}, \"baxis\": {\"gridcolor\": \"white\", \"linecolor\": \"white\", \"ticks\": \"\"}, \"bgcolor\": \"#E5ECF6\", \"caxis\": {\"gridcolor\": \"white\", \"linecolor\": \"white\", \"ticks\": \"\"}}, \"title\": {\"x\": 0.05}, \"xaxis\": {\"automargin\": true, \"gridcolor\": \"white\", \"linecolor\": \"white\", \"ticks\": \"\", \"zerolinecolor\": \"white\", \"zerolinewidth\": 2}, \"yaxis\": {\"automargin\": true, \"gridcolor\": \"white\", \"linecolor\": \"white\", \"ticks\": \"\", \"zerolinecolor\": \"white\", \"zerolinewidth\": 2}}}, \"title\": {\"text\": \"Smithsonian Institution Annual Report Word Frequency\"}, \"xaxis\": {\"anchor\": \"y\", \"domain\": [0.0, 0.98], \"gridcolor\": \"LightGrey\", \"gridwidth\": 1, \"showgrid\": true, \"tickangle\": 45, \"title\": {\"text\": \"Annual Report Year\"}}, \"yaxis\": {\"anchor\": \"x\", \"domain\": [0.0, 1.0], \"gridcolor\": \"LightGrey\", \"gridwidth\": 1, \"range\": [0, 350], \"showgrid\": true, \"title\": {\"text\": \"Frequency of the Word \\\"woman\\\"\"}}},\n",
       "                        {\"responsive\": true}\n",
       "                    ).then(function(){\n",
       "                            \n",
       "var gd = document.getElementById('ab1f0502-b705-4232-92d3-273e70bad83a');\n",
       "var x = new MutationObserver(function (mutations, observer) {{\n",
       "        var display = window.getComputedStyle(gd).display;\n",
       "        if (!display || display === 'none') {{\n",
       "            console.log([gd, 'removed!']);\n",
       "            Plotly.purge(gd);\n",
       "            observer.disconnect();\n",
       "        }}\n",
       "}});\n",
       "\n",
       "// Listen for the removal of the full notebook cells\n",
       "var notebookContainer = gd.closest('#notebook-container');\n",
       "if (notebookContainer) {{\n",
       "    x.observe(notebookContainer, {childList: true});\n",
       "}}\n",
       "\n",
       "// Listen for the clearing of the current output cell\n",
       "var outputEl = gd.closest('.output');\n",
       "if (outputEl) {{\n",
       "    x.observe(outputEl, {childList: true});\n",
       "}}\n",
       "\n",
       "                        })\n",
       "                };\n",
       "                });\n",
       "            </script>\n",
       "        </div>"
      ]
     },
     "metadata": {},
     "output_type": "display_data"
    }
   ],
   "source": [
    "#reading csv file\n",
    "df = pd.read_csv('annual_report_word_count.csv')\n",
    "\n",
    "fig = px.bar(df, x = 'year', y = 'woman_count', title = 'Smithsonian Institution Annual Report Word Frequency', color = 'word_count')\n",
    "\n",
    "fig.update_layout( plot_bgcolor='rgb(400,400,400)')\n",
    "\n",
    "fig.update_xaxes(title_text='Annual Report Year', tickangle=45,showgrid=True, gridwidth=1, gridcolor='LightGrey')\n",
    "fig.update_yaxes(title_text='Frequency of the Word \"woman\"', range=[0,350], showgrid=True, gridwidth=1, gridcolor='LightGrey')\n",
    "\n",
    "fig.show()\n"
   ]
  },
  {
   "cell_type": "code",
   "execution_count": 5,
   "metadata": {},
   "outputs": [
    {
     "data": {
      "application/vnd.plotly.v1+json": {
       "config": {
        "plotlyServerURL": "https://plot.ly"
       },
       "data": [
        {
         "name": "Share Prices (in USD)",
         "type": "bar",
         "x": [
          1857,
          1858,
          1859,
          1860,
          1861,
          1862,
          1863,
          1864,
          1865,
          1866,
          1867,
          1868,
          1869,
          1870,
          1871,
          1872,
          1872,
          1873,
          1874,
          1875,
          1876,
          1876,
          1877,
          1878,
          1879,
          1880,
          1880,
          1881,
          1882,
          1882,
          1883,
          1884,
          1885,
          1888,
          1888,
          1889,
          1889,
          1890,
          1890,
          1891,
          1892,
          1892,
          1893,
          1893,
          1894,
          1895,
          1896,
          1897,
          1898,
          1899,
          1900,
          1901,
          1901,
          1902,
          1902,
          1903,
          1903,
          1904,
          1904,
          1905,
          1906,
          1909,
          1912,
          1913,
          1918,
          1920,
          1921,
          1922,
          1923,
          1924,
          1925,
          1926,
          1927,
          1928,
          1929,
          1930,
          1931,
          1932,
          1933,
          1934,
          1935,
          1936,
          1937,
          1938,
          1939,
          1940,
          1941,
          1942,
          1943,
          1944,
          1945,
          1946,
          1947,
          1948,
          1949,
          1950,
          1951,
          1952,
          1953,
          1954,
          1955,
          1956,
          1957,
          1958,
          1959,
          1960,
          1961,
          1962,
          1963,
          1964,
          1965,
          1966,
          1967,
          1968,
          1969,
          1974,
          1975,
          1976,
          1977,
          1978,
          1979,
          1980,
          1981,
          1982,
          1983,
          1984,
          1998,
          1999,
          2000,
          null,
          null,
          null,
          null,
          null,
          null,
          null,
          null,
          null,
          null,
          null,
          null,
          null,
          null,
          null,
          null,
          null,
          null,
          null,
          null,
          null
         ],
         "y": [
          0,
          5,
          4,
          1,
          3,
          7,
          15,
          28,
          8,
          63,
          10,
          6,
          37,
          19,
          34,
          25,
          25,
          9,
          5,
          3,
          25,
          27,
          23,
          10,
          23,
          5,
          5,
          5,
          15,
          14,
          67,
          14,
          9,
          16,
          17,
          15,
          71,
          33,
          35,
          78,
          27,
          38,
          21,
          141,
          22,
          320,
          139,
          12,
          7,
          10,
          55,
          42,
          43,
          250,
          41,
          28,
          43,
          8,
          28,
          3,
          2,
          54,
          50,
          27,
          64,
          119,
          41,
          19,
          8,
          25,
          6,
          25,
          36,
          69,
          17,
          31,
          4,
          80,
          26,
          18,
          10,
          10,
          20,
          7,
          13,
          33,
          55,
          12,
          34,
          29,
          16,
          20,
          13,
          12,
          3,
          3,
          9,
          14,
          15,
          14,
          30,
          38,
          26,
          31,
          46,
          9,
          8,
          8,
          13,
          11,
          5,
          9,
          5,
          6,
          10,
          35,
          105,
          94,
          84,
          149,
          123,
          53,
          42,
          56,
          67,
          51,
          8,
          3,
          2,
          13,
          62,
          45,
          4,
          10,
          165,
          2,
          11,
          8,
          7,
          64,
          470,
          111,
          71,
          65,
          0,
          13,
          9,
          0,
          15,
          3
         ]
        }
       ],
       "layout": {
        "plot_bgcolor": "rgb(400,400,400)",
        "showlegend": true,
        "template": {
         "data": {
          "bar": [
           {
            "error_x": {
             "color": "#2a3f5f"
            },
            "error_y": {
             "color": "#2a3f5f"
            },
            "marker": {
             "line": {
              "color": "#E5ECF6",
              "width": 0.5
             }
            },
            "type": "bar"
           }
          ],
          "barpolar": [
           {
            "marker": {
             "line": {
              "color": "#E5ECF6",
              "width": 0.5
             }
            },
            "type": "barpolar"
           }
          ],
          "carpet": [
           {
            "aaxis": {
             "endlinecolor": "#2a3f5f",
             "gridcolor": "white",
             "linecolor": "white",
             "minorgridcolor": "white",
             "startlinecolor": "#2a3f5f"
            },
            "baxis": {
             "endlinecolor": "#2a3f5f",
             "gridcolor": "white",
             "linecolor": "white",
             "minorgridcolor": "white",
             "startlinecolor": "#2a3f5f"
            },
            "type": "carpet"
           }
          ],
          "choropleth": [
           {
            "colorbar": {
             "outlinewidth": 0,
             "ticks": ""
            },
            "type": "choropleth"
           }
          ],
          "contour": [
           {
            "colorbar": {
             "outlinewidth": 0,
             "ticks": ""
            },
            "colorscale": [
             [
              0,
              "#0d0887"
             ],
             [
              0.1111111111111111,
              "#46039f"
             ],
             [
              0.2222222222222222,
              "#7201a8"
             ],
             [
              0.3333333333333333,
              "#9c179e"
             ],
             [
              0.4444444444444444,
              "#bd3786"
             ],
             [
              0.5555555555555556,
              "#d8576b"
             ],
             [
              0.6666666666666666,
              "#ed7953"
             ],
             [
              0.7777777777777778,
              "#fb9f3a"
             ],
             [
              0.8888888888888888,
              "#fdca26"
             ],
             [
              1,
              "#f0f921"
             ]
            ],
            "type": "contour"
           }
          ],
          "contourcarpet": [
           {
            "colorbar": {
             "outlinewidth": 0,
             "ticks": ""
            },
            "type": "contourcarpet"
           }
          ],
          "heatmap": [
           {
            "colorbar": {
             "outlinewidth": 0,
             "ticks": ""
            },
            "colorscale": [
             [
              0,
              "#0d0887"
             ],
             [
              0.1111111111111111,
              "#46039f"
             ],
             [
              0.2222222222222222,
              "#7201a8"
             ],
             [
              0.3333333333333333,
              "#9c179e"
             ],
             [
              0.4444444444444444,
              "#bd3786"
             ],
             [
              0.5555555555555556,
              "#d8576b"
             ],
             [
              0.6666666666666666,
              "#ed7953"
             ],
             [
              0.7777777777777778,
              "#fb9f3a"
             ],
             [
              0.8888888888888888,
              "#fdca26"
             ],
             [
              1,
              "#f0f921"
             ]
            ],
            "type": "heatmap"
           }
          ],
          "heatmapgl": [
           {
            "colorbar": {
             "outlinewidth": 0,
             "ticks": ""
            },
            "colorscale": [
             [
              0,
              "#0d0887"
             ],
             [
              0.1111111111111111,
              "#46039f"
             ],
             [
              0.2222222222222222,
              "#7201a8"
             ],
             [
              0.3333333333333333,
              "#9c179e"
             ],
             [
              0.4444444444444444,
              "#bd3786"
             ],
             [
              0.5555555555555556,
              "#d8576b"
             ],
             [
              0.6666666666666666,
              "#ed7953"
             ],
             [
              0.7777777777777778,
              "#fb9f3a"
             ],
             [
              0.8888888888888888,
              "#fdca26"
             ],
             [
              1,
              "#f0f921"
             ]
            ],
            "type": "heatmapgl"
           }
          ],
          "histogram": [
           {
            "marker": {
             "colorbar": {
              "outlinewidth": 0,
              "ticks": ""
             }
            },
            "type": "histogram"
           }
          ],
          "histogram2d": [
           {
            "colorbar": {
             "outlinewidth": 0,
             "ticks": ""
            },
            "colorscale": [
             [
              0,
              "#0d0887"
             ],
             [
              0.1111111111111111,
              "#46039f"
             ],
             [
              0.2222222222222222,
              "#7201a8"
             ],
             [
              0.3333333333333333,
              "#9c179e"
             ],
             [
              0.4444444444444444,
              "#bd3786"
             ],
             [
              0.5555555555555556,
              "#d8576b"
             ],
             [
              0.6666666666666666,
              "#ed7953"
             ],
             [
              0.7777777777777778,
              "#fb9f3a"
             ],
             [
              0.8888888888888888,
              "#fdca26"
             ],
             [
              1,
              "#f0f921"
             ]
            ],
            "type": "histogram2d"
           }
          ],
          "histogram2dcontour": [
           {
            "colorbar": {
             "outlinewidth": 0,
             "ticks": ""
            },
            "colorscale": [
             [
              0,
              "#0d0887"
             ],
             [
              0.1111111111111111,
              "#46039f"
             ],
             [
              0.2222222222222222,
              "#7201a8"
             ],
             [
              0.3333333333333333,
              "#9c179e"
             ],
             [
              0.4444444444444444,
              "#bd3786"
             ],
             [
              0.5555555555555556,
              "#d8576b"
             ],
             [
              0.6666666666666666,
              "#ed7953"
             ],
             [
              0.7777777777777778,
              "#fb9f3a"
             ],
             [
              0.8888888888888888,
              "#fdca26"
             ],
             [
              1,
              "#f0f921"
             ]
            ],
            "type": "histogram2dcontour"
           }
          ],
          "mesh3d": [
           {
            "colorbar": {
             "outlinewidth": 0,
             "ticks": ""
            },
            "type": "mesh3d"
           }
          ],
          "parcoords": [
           {
            "line": {
             "colorbar": {
              "outlinewidth": 0,
              "ticks": ""
             }
            },
            "type": "parcoords"
           }
          ],
          "scatter": [
           {
            "marker": {
             "colorbar": {
              "outlinewidth": 0,
              "ticks": ""
             }
            },
            "type": "scatter"
           }
          ],
          "scatter3d": [
           {
            "line": {
             "colorbar": {
              "outlinewidth": 0,
              "ticks": ""
             }
            },
            "marker": {
             "colorbar": {
              "outlinewidth": 0,
              "ticks": ""
             }
            },
            "type": "scatter3d"
           }
          ],
          "scattercarpet": [
           {
            "marker": {
             "colorbar": {
              "outlinewidth": 0,
              "ticks": ""
             }
            },
            "type": "scattercarpet"
           }
          ],
          "scattergeo": [
           {
            "marker": {
             "colorbar": {
              "outlinewidth": 0,
              "ticks": ""
             }
            },
            "type": "scattergeo"
           }
          ],
          "scattergl": [
           {
            "marker": {
             "colorbar": {
              "outlinewidth": 0,
              "ticks": ""
             }
            },
            "type": "scattergl"
           }
          ],
          "scattermapbox": [
           {
            "marker": {
             "colorbar": {
              "outlinewidth": 0,
              "ticks": ""
             }
            },
            "type": "scattermapbox"
           }
          ],
          "scatterpolar": [
           {
            "marker": {
             "colorbar": {
              "outlinewidth": 0,
              "ticks": ""
             }
            },
            "type": "scatterpolar"
           }
          ],
          "scatterpolargl": [
           {
            "marker": {
             "colorbar": {
              "outlinewidth": 0,
              "ticks": ""
             }
            },
            "type": "scatterpolargl"
           }
          ],
          "scatterternary": [
           {
            "marker": {
             "colorbar": {
              "outlinewidth": 0,
              "ticks": ""
             }
            },
            "type": "scatterternary"
           }
          ],
          "surface": [
           {
            "colorbar": {
             "outlinewidth": 0,
             "ticks": ""
            },
            "colorscale": [
             [
              0,
              "#0d0887"
             ],
             [
              0.1111111111111111,
              "#46039f"
             ],
             [
              0.2222222222222222,
              "#7201a8"
             ],
             [
              0.3333333333333333,
              "#9c179e"
             ],
             [
              0.4444444444444444,
              "#bd3786"
             ],
             [
              0.5555555555555556,
              "#d8576b"
             ],
             [
              0.6666666666666666,
              "#ed7953"
             ],
             [
              0.7777777777777778,
              "#fb9f3a"
             ],
             [
              0.8888888888888888,
              "#fdca26"
             ],
             [
              1,
              "#f0f921"
             ]
            ],
            "type": "surface"
           }
          ],
          "table": [
           {
            "cells": {
             "fill": {
              "color": "#EBF0F8"
             },
             "line": {
              "color": "white"
             }
            },
            "header": {
             "fill": {
              "color": "#C8D4E3"
             },
             "line": {
              "color": "white"
             }
            },
            "type": "table"
           }
          ]
         },
         "layout": {
          "annotationdefaults": {
           "arrowcolor": "#2a3f5f",
           "arrowhead": 0,
           "arrowwidth": 1
          },
          "colorscale": {
           "diverging": [
            [
             0,
             "#8e0152"
            ],
            [
             0.1,
             "#c51b7d"
            ],
            [
             0.2,
             "#de77ae"
            ],
            [
             0.3,
             "#f1b6da"
            ],
            [
             0.4,
             "#fde0ef"
            ],
            [
             0.5,
             "#f7f7f7"
            ],
            [
             0.6,
             "#e6f5d0"
            ],
            [
             0.7,
             "#b8e186"
            ],
            [
             0.8,
             "#7fbc41"
            ],
            [
             0.9,
             "#4d9221"
            ],
            [
             1,
             "#276419"
            ]
           ],
           "sequential": [
            [
             0,
             "#0d0887"
            ],
            [
             0.1111111111111111,
             "#46039f"
            ],
            [
             0.2222222222222222,
             "#7201a8"
            ],
            [
             0.3333333333333333,
             "#9c179e"
            ],
            [
             0.4444444444444444,
             "#bd3786"
            ],
            [
             0.5555555555555556,
             "#d8576b"
            ],
            [
             0.6666666666666666,
             "#ed7953"
            ],
            [
             0.7777777777777778,
             "#fb9f3a"
            ],
            [
             0.8888888888888888,
             "#fdca26"
            ],
            [
             1,
             "#f0f921"
            ]
           ],
           "sequentialminus": [
            [
             0,
             "#0d0887"
            ],
            [
             0.1111111111111111,
             "#46039f"
            ],
            [
             0.2222222222222222,
             "#7201a8"
            ],
            [
             0.3333333333333333,
             "#9c179e"
            ],
            [
             0.4444444444444444,
             "#bd3786"
            ],
            [
             0.5555555555555556,
             "#d8576b"
            ],
            [
             0.6666666666666666,
             "#ed7953"
            ],
            [
             0.7777777777777778,
             "#fb9f3a"
            ],
            [
             0.8888888888888888,
             "#fdca26"
            ],
            [
             1,
             "#f0f921"
            ]
           ]
          },
          "colorway": [
           "#636efa",
           "#EF553B",
           "#00cc96",
           "#ab63fa",
           "#FFA15A",
           "#19d3f3",
           "#FF6692",
           "#B6E880",
           "#FF97FF",
           "#FECB52"
          ],
          "font": {
           "color": "#2a3f5f"
          },
          "geo": {
           "bgcolor": "white",
           "lakecolor": "white",
           "landcolor": "#E5ECF6",
           "showlakes": true,
           "showland": true,
           "subunitcolor": "white"
          },
          "hoverlabel": {
           "align": "left"
          },
          "hovermode": "closest",
          "mapbox": {
           "style": "light"
          },
          "paper_bgcolor": "white",
          "plot_bgcolor": "#E5ECF6",
          "polar": {
           "angularaxis": {
            "gridcolor": "white",
            "linecolor": "white",
            "ticks": ""
           },
           "bgcolor": "#E5ECF6",
           "radialaxis": {
            "gridcolor": "white",
            "linecolor": "white",
            "ticks": ""
           }
          },
          "scene": {
           "xaxis": {
            "backgroundcolor": "#E5ECF6",
            "gridcolor": "white",
            "gridwidth": 2,
            "linecolor": "white",
            "showbackground": true,
            "ticks": "",
            "zerolinecolor": "white"
           },
           "yaxis": {
            "backgroundcolor": "#E5ECF6",
            "gridcolor": "white",
            "gridwidth": 2,
            "linecolor": "white",
            "showbackground": true,
            "ticks": "",
            "zerolinecolor": "white"
           },
           "zaxis": {
            "backgroundcolor": "#E5ECF6",
            "gridcolor": "white",
            "gridwidth": 2,
            "linecolor": "white",
            "showbackground": true,
            "ticks": "",
            "zerolinecolor": "white"
           }
          },
          "shapedefaults": {
           "line": {
            "color": "#2a3f5f"
           }
          },
          "ternary": {
           "aaxis": {
            "gridcolor": "white",
            "linecolor": "white",
            "ticks": ""
           },
           "baxis": {
            "gridcolor": "white",
            "linecolor": "white",
            "ticks": ""
           },
           "bgcolor": "#E5ECF6",
           "caxis": {
            "gridcolor": "white",
            "linecolor": "white",
            "ticks": ""
           }
          },
          "title": {
           "x": 0.05
          },
          "xaxis": {
           "automargin": true,
           "gridcolor": "white",
           "linecolor": "white",
           "ticks": "",
           "zerolinecolor": "white",
           "zerolinewidth": 2
          },
          "yaxis": {
           "automargin": true,
           "gridcolor": "white",
           "linecolor": "white",
           "ticks": "",
           "zerolinecolor": "white",
           "zerolinewidth": 2
          }
         }
        },
        "title": {
         "text": "Annual Report"
        }
       }
      },
      "text/html": [
       "<div>\n",
       "        \n",
       "        \n",
       "            <div id=\"848474c0-f1c8-4c56-8704-60271a969111\" class=\"plotly-graph-div\" style=\"height:525px; width:100%;\"></div>\n",
       "            <script type=\"text/javascript\">\n",
       "                require([\"plotly\"], function(Plotly) {\n",
       "                    window.PLOTLYENV=window.PLOTLYENV || {};\n",
       "                    \n",
       "                if (document.getElementById(\"848474c0-f1c8-4c56-8704-60271a969111\")) {\n",
       "                    Plotly.newPlot(\n",
       "                        '848474c0-f1c8-4c56-8704-60271a969111',\n",
       "                        [{\"name\": \"Share Prices (in USD)\", \"type\": \"bar\", \"x\": [1857.0, 1858.0, 1859.0, 1860.0, 1861.0, 1862.0, 1863.0, 1864.0, 1865.0, 1866.0, 1867.0, 1868.0, 1869.0, 1870.0, 1871.0, 1872.0, 1872.0, 1873.0, 1874.0, 1875.0, 1876.0, 1876.0, 1877.0, 1878.0, 1879.0, 1880.0, 1880.0, 1881.0, 1882.0, 1882.0, 1883.0, 1884.0, 1885.0, 1888.0, 1888.0, 1889.0, 1889.0, 1890.0, 1890.0, 1891.0, 1892.0, 1892.0, 1893.0, 1893.0, 1894.0, 1895.0, 1896.0, 1897.0, 1898.0, 1899.0, 1900.0, 1901.0, 1901.0, 1902.0, 1902.0, 1903.0, 1903.0, 1904.0, 1904.0, 1905.0, 1906.0, 1909.0, 1912.0, 1913.0, 1918.0, 1920.0, 1921.0, 1922.0, 1923.0, 1924.0, 1925.0, 1926.0, 1927.0, 1928.0, 1929.0, 1930.0, 1931.0, 1932.0, 1933.0, 1934.0, 1935.0, 1936.0, 1937.0, 1938.0, 1939.0, 1940.0, 1941.0, 1942.0, 1943.0, 1944.0, 1945.0, 1946.0, 1947.0, 1948.0, 1949.0, 1950.0, 1951.0, 1952.0, 1953.0, 1954.0, 1955.0, 1956.0, 1957.0, 1958.0, 1959.0, 1960.0, 1961.0, 1962.0, 1963.0, 1964.0, 1965.0, 1966.0, 1967.0, 1968.0, 1969.0, 1974.0, 1975.0, 1976.0, 1977.0, 1978.0, 1979.0, 1980.0, 1981.0, 1982.0, 1983.0, 1984.0, 1998.0, 1999.0, 2000.0, null, null, null, null, null, null, null, null, null, null, null, null, null, null, null, null, null, null, null, null, null], \"y\": [0, 5, 4, 1, 3, 7, 15, 28, 8, 63, 10, 6, 37, 19, 34, 25, 25, 9, 5, 3, 25, 27, 23, 10, 23, 5, 5, 5, 15, 14, 67, 14, 9, 16, 17, 15, 71, 33, 35, 78, 27, 38, 21, 141, 22, 320, 139, 12, 7, 10, 55, 42, 43, 250, 41, 28, 43, 8, 28, 3, 2, 54, 50, 27, 64, 119, 41, 19, 8, 25, 6, 25, 36, 69, 17, 31, 4, 80, 26, 18, 10, 10, 20, 7, 13, 33, 55, 12, 34, 29, 16, 20, 13, 12, 3, 3, 9, 14, 15, 14, 30, 38, 26, 31, 46, 9, 8, 8, 13, 11, 5, 9, 5, 6, 10, 35, 105, 94, 84, 149, 123, 53, 42, 56, 67, 51, 8, 3, 2, 13, 62, 45, 4, 10, 165, 2, 11, 8, 7, 64, 470, 111, 71, 65, 0, 13, 9, 0, 15, 3]}],\n",
       "                        {\"plot_bgcolor\": \"rgb(400,400,400)\", \"showlegend\": true, \"template\": {\"data\": {\"bar\": [{\"error_x\": {\"color\": \"#2a3f5f\"}, \"error_y\": {\"color\": \"#2a3f5f\"}, \"marker\": {\"line\": {\"color\": \"#E5ECF6\", \"width\": 0.5}}, \"type\": \"bar\"}], \"barpolar\": [{\"marker\": {\"line\": {\"color\": \"#E5ECF6\", \"width\": 0.5}}, \"type\": \"barpolar\"}], \"carpet\": [{\"aaxis\": {\"endlinecolor\": \"#2a3f5f\", \"gridcolor\": \"white\", \"linecolor\": \"white\", \"minorgridcolor\": \"white\", \"startlinecolor\": \"#2a3f5f\"}, \"baxis\": {\"endlinecolor\": \"#2a3f5f\", \"gridcolor\": \"white\", \"linecolor\": \"white\", \"minorgridcolor\": \"white\", \"startlinecolor\": \"#2a3f5f\"}, \"type\": \"carpet\"}], \"choropleth\": [{\"colorbar\": {\"outlinewidth\": 0, \"ticks\": \"\"}, \"type\": \"choropleth\"}], \"contour\": [{\"colorbar\": {\"outlinewidth\": 0, \"ticks\": \"\"}, \"colorscale\": [[0.0, \"#0d0887\"], [0.1111111111111111, \"#46039f\"], [0.2222222222222222, \"#7201a8\"], [0.3333333333333333, \"#9c179e\"], [0.4444444444444444, \"#bd3786\"], [0.5555555555555556, \"#d8576b\"], [0.6666666666666666, \"#ed7953\"], [0.7777777777777778, \"#fb9f3a\"], [0.8888888888888888, \"#fdca26\"], [1.0, \"#f0f921\"]], \"type\": \"contour\"}], \"contourcarpet\": [{\"colorbar\": {\"outlinewidth\": 0, \"ticks\": \"\"}, \"type\": \"contourcarpet\"}], \"heatmap\": [{\"colorbar\": {\"outlinewidth\": 0, \"ticks\": \"\"}, \"colorscale\": [[0.0, \"#0d0887\"], [0.1111111111111111, \"#46039f\"], [0.2222222222222222, \"#7201a8\"], [0.3333333333333333, \"#9c179e\"], [0.4444444444444444, \"#bd3786\"], [0.5555555555555556, \"#d8576b\"], [0.6666666666666666, \"#ed7953\"], [0.7777777777777778, \"#fb9f3a\"], [0.8888888888888888, \"#fdca26\"], [1.0, \"#f0f921\"]], \"type\": \"heatmap\"}], \"heatmapgl\": [{\"colorbar\": {\"outlinewidth\": 0, \"ticks\": \"\"}, \"colorscale\": [[0.0, \"#0d0887\"], [0.1111111111111111, \"#46039f\"], [0.2222222222222222, \"#7201a8\"], [0.3333333333333333, \"#9c179e\"], [0.4444444444444444, \"#bd3786\"], [0.5555555555555556, \"#d8576b\"], [0.6666666666666666, \"#ed7953\"], [0.7777777777777778, \"#fb9f3a\"], [0.8888888888888888, \"#fdca26\"], [1.0, \"#f0f921\"]], \"type\": \"heatmapgl\"}], \"histogram\": [{\"marker\": {\"colorbar\": {\"outlinewidth\": 0, \"ticks\": \"\"}}, \"type\": \"histogram\"}], \"histogram2d\": [{\"colorbar\": {\"outlinewidth\": 0, \"ticks\": \"\"}, \"colorscale\": [[0.0, \"#0d0887\"], [0.1111111111111111, \"#46039f\"], [0.2222222222222222, \"#7201a8\"], [0.3333333333333333, \"#9c179e\"], [0.4444444444444444, \"#bd3786\"], [0.5555555555555556, \"#d8576b\"], [0.6666666666666666, \"#ed7953\"], [0.7777777777777778, \"#fb9f3a\"], [0.8888888888888888, \"#fdca26\"], [1.0, \"#f0f921\"]], \"type\": \"histogram2d\"}], \"histogram2dcontour\": [{\"colorbar\": {\"outlinewidth\": 0, \"ticks\": \"\"}, \"colorscale\": [[0.0, \"#0d0887\"], [0.1111111111111111, \"#46039f\"], [0.2222222222222222, \"#7201a8\"], [0.3333333333333333, \"#9c179e\"], [0.4444444444444444, \"#bd3786\"], [0.5555555555555556, \"#d8576b\"], [0.6666666666666666, \"#ed7953\"], [0.7777777777777778, \"#fb9f3a\"], [0.8888888888888888, \"#fdca26\"], [1.0, \"#f0f921\"]], \"type\": \"histogram2dcontour\"}], \"mesh3d\": [{\"colorbar\": {\"outlinewidth\": 0, \"ticks\": \"\"}, \"type\": \"mesh3d\"}], \"parcoords\": [{\"line\": {\"colorbar\": {\"outlinewidth\": 0, \"ticks\": \"\"}}, \"type\": \"parcoords\"}], \"scatter\": [{\"marker\": {\"colorbar\": {\"outlinewidth\": 0, \"ticks\": \"\"}}, \"type\": \"scatter\"}], \"scatter3d\": [{\"line\": {\"colorbar\": {\"outlinewidth\": 0, \"ticks\": \"\"}}, \"marker\": {\"colorbar\": {\"outlinewidth\": 0, \"ticks\": \"\"}}, \"type\": \"scatter3d\"}], \"scattercarpet\": [{\"marker\": {\"colorbar\": {\"outlinewidth\": 0, \"ticks\": \"\"}}, \"type\": \"scattercarpet\"}], \"scattergeo\": [{\"marker\": {\"colorbar\": {\"outlinewidth\": 0, \"ticks\": \"\"}}, \"type\": \"scattergeo\"}], \"scattergl\": [{\"marker\": {\"colorbar\": {\"outlinewidth\": 0, \"ticks\": \"\"}}, \"type\": \"scattergl\"}], \"scattermapbox\": [{\"marker\": {\"colorbar\": {\"outlinewidth\": 0, \"ticks\": \"\"}}, \"type\": \"scattermapbox\"}], \"scatterpolar\": [{\"marker\": {\"colorbar\": {\"outlinewidth\": 0, \"ticks\": \"\"}}, \"type\": \"scatterpolar\"}], \"scatterpolargl\": [{\"marker\": {\"colorbar\": {\"outlinewidth\": 0, \"ticks\": \"\"}}, \"type\": \"scatterpolargl\"}], \"scatterternary\": [{\"marker\": {\"colorbar\": {\"outlinewidth\": 0, \"ticks\": \"\"}}, \"type\": \"scatterternary\"}], \"surface\": [{\"colorbar\": {\"outlinewidth\": 0, \"ticks\": \"\"}, \"colorscale\": [[0.0, \"#0d0887\"], [0.1111111111111111, \"#46039f\"], [0.2222222222222222, \"#7201a8\"], [0.3333333333333333, \"#9c179e\"], [0.4444444444444444, \"#bd3786\"], [0.5555555555555556, \"#d8576b\"], [0.6666666666666666, \"#ed7953\"], [0.7777777777777778, \"#fb9f3a\"], [0.8888888888888888, \"#fdca26\"], [1.0, \"#f0f921\"]], \"type\": \"surface\"}], \"table\": [{\"cells\": {\"fill\": {\"color\": \"#EBF0F8\"}, \"line\": {\"color\": \"white\"}}, \"header\": {\"fill\": {\"color\": \"#C8D4E3\"}, \"line\": {\"color\": \"white\"}}, \"type\": \"table\"}]}, \"layout\": {\"annotationdefaults\": {\"arrowcolor\": \"#2a3f5f\", \"arrowhead\": 0, \"arrowwidth\": 1}, \"colorscale\": {\"diverging\": [[0, \"#8e0152\"], [0.1, \"#c51b7d\"], [0.2, \"#de77ae\"], [0.3, \"#f1b6da\"], [0.4, \"#fde0ef\"], [0.5, \"#f7f7f7\"], [0.6, \"#e6f5d0\"], [0.7, \"#b8e186\"], [0.8, \"#7fbc41\"], [0.9, \"#4d9221\"], [1, \"#276419\"]], \"sequential\": [[0.0, \"#0d0887\"], [0.1111111111111111, \"#46039f\"], [0.2222222222222222, \"#7201a8\"], [0.3333333333333333, \"#9c179e\"], [0.4444444444444444, \"#bd3786\"], [0.5555555555555556, \"#d8576b\"], [0.6666666666666666, \"#ed7953\"], [0.7777777777777778, \"#fb9f3a\"], [0.8888888888888888, \"#fdca26\"], [1.0, \"#f0f921\"]], \"sequentialminus\": [[0.0, \"#0d0887\"], [0.1111111111111111, \"#46039f\"], [0.2222222222222222, \"#7201a8\"], [0.3333333333333333, \"#9c179e\"], [0.4444444444444444, \"#bd3786\"], [0.5555555555555556, \"#d8576b\"], [0.6666666666666666, \"#ed7953\"], [0.7777777777777778, \"#fb9f3a\"], [0.8888888888888888, \"#fdca26\"], [1.0, \"#f0f921\"]]}, \"colorway\": [\"#636efa\", \"#EF553B\", \"#00cc96\", \"#ab63fa\", \"#FFA15A\", \"#19d3f3\", \"#FF6692\", \"#B6E880\", \"#FF97FF\", \"#FECB52\"], \"font\": {\"color\": \"#2a3f5f\"}, \"geo\": {\"bgcolor\": \"white\", \"lakecolor\": \"white\", \"landcolor\": \"#E5ECF6\", \"showlakes\": true, \"showland\": true, \"subunitcolor\": \"white\"}, \"hoverlabel\": {\"align\": \"left\"}, \"hovermode\": \"closest\", \"mapbox\": {\"style\": \"light\"}, \"paper_bgcolor\": \"white\", \"plot_bgcolor\": \"#E5ECF6\", \"polar\": {\"angularaxis\": {\"gridcolor\": \"white\", \"linecolor\": \"white\", \"ticks\": \"\"}, \"bgcolor\": \"#E5ECF6\", \"radialaxis\": {\"gridcolor\": \"white\", \"linecolor\": \"white\", \"ticks\": \"\"}}, \"scene\": {\"xaxis\": {\"backgroundcolor\": \"#E5ECF6\", \"gridcolor\": \"white\", \"gridwidth\": 2, \"linecolor\": \"white\", \"showbackground\": true, \"ticks\": \"\", \"zerolinecolor\": \"white\"}, \"yaxis\": {\"backgroundcolor\": \"#E5ECF6\", \"gridcolor\": \"white\", \"gridwidth\": 2, \"linecolor\": \"white\", \"showbackground\": true, \"ticks\": \"\", \"zerolinecolor\": \"white\"}, \"zaxis\": {\"backgroundcolor\": \"#E5ECF6\", \"gridcolor\": \"white\", \"gridwidth\": 2, \"linecolor\": \"white\", \"showbackground\": true, \"ticks\": \"\", \"zerolinecolor\": \"white\"}}, \"shapedefaults\": {\"line\": {\"color\": \"#2a3f5f\"}}, \"ternary\": {\"aaxis\": {\"gridcolor\": \"white\", \"linecolor\": \"white\", \"ticks\": \"\"}, \"baxis\": {\"gridcolor\": \"white\", \"linecolor\": \"white\", \"ticks\": \"\"}, \"bgcolor\": \"#E5ECF6\", \"caxis\": {\"gridcolor\": \"white\", \"linecolor\": \"white\", \"ticks\": \"\"}}, \"title\": {\"x\": 0.05}, \"xaxis\": {\"automargin\": true, \"gridcolor\": \"white\", \"linecolor\": \"white\", \"ticks\": \"\", \"zerolinecolor\": \"white\", \"zerolinewidth\": 2}, \"yaxis\": {\"automargin\": true, \"gridcolor\": \"white\", \"linecolor\": \"white\", \"ticks\": \"\", \"zerolinecolor\": \"white\", \"zerolinewidth\": 2}}}, \"title\": {\"text\": \"Annual Report\"}},\n",
       "                        {\"responsive\": true}\n",
       "                    ).then(function(){\n",
       "                            \n",
       "var gd = document.getElementById('848474c0-f1c8-4c56-8704-60271a969111');\n",
       "var x = new MutationObserver(function (mutations, observer) {{\n",
       "        var display = window.getComputedStyle(gd).display;\n",
       "        if (!display || display === 'none') {{\n",
       "            console.log([gd, 'removed!']);\n",
       "            Plotly.purge(gd);\n",
       "            observer.disconnect();\n",
       "        }}\n",
       "}});\n",
       "\n",
       "// Listen for the removal of the full notebook cells\n",
       "var notebookContainer = gd.closest('#notebook-container');\n",
       "if (notebookContainer) {{\n",
       "    x.observe(notebookContainer, {childList: true});\n",
       "}}\n",
       "\n",
       "// Listen for the clearing of the current output cell\n",
       "var outputEl = gd.closest('.output');\n",
       "if (outputEl) {{\n",
       "    x.observe(outputEl, {childList: true});\n",
       "}}\n",
       "\n",
       "                        })\n",
       "                };\n",
       "                });\n",
       "            </script>\n",
       "        </div>"
      ]
     },
     "metadata": {},
     "output_type": "display_data"
    }
   ],
   "source": [
    "fig = go.Figure(go.Bar(x = df['year'], y = df['woman_count'],\n",
    "                  name='Share Prices (in USD)'))\n",
    "\n",
    "fig.update_layout(title='Annual Report',\n",
    "                   plot_bgcolor='rgb(400,400,400)',\n",
    "                   showlegend=True)\n",
    "\n",
    "fig.show()"
   ]
  },
  {
   "cell_type": "markdown",
   "metadata": {},
   "source": [
    "- customize plotly graphs: https://plot.ly/python/reference/\n",
    "- plotly graphs from csv: https://plot.ly/python/plot-data-from-csv/\n",
    "- export pandas dataframe to csv: https://datatofish.com/export-dataframe-to-csv/"
   ]
  },
  {
   "cell_type": "markdown",
   "metadata": {},
   "source": [
    "## Results Notes: \n",
    "- not counting WOMEN or women's\n",
    "- results don't match command f search on text file \n",
    "    - command results are women: women's,WOMEN,Women,women"
   ]
  },
  {
   "cell_type": "code",
   "execution_count": null,
   "metadata": {},
   "outputs": [],
   "source": [
    "#word length from last file in doc \n",
    "\"\"\"\n",
    "print(len(doc))                                                                                                               #character len of last document open \n",
    "print(len([token.text for token in doc if token.is_stop != True and token.is_punct != True and len(token.text.strip()) > 0])) #word length of last document open\n",
    "reports                                                                                                                       #prints list of reports from annual report folder\n",
    "\"\"\""
   ]
  },
  {
   "cell_type": "markdown",
   "metadata": {},
   "source": [
    "### ^explaining common error\n",
    "- Error: \"ValueError: [E088] Text of length 1764531 exceeds maximum of 1000000. The v2.x parser and NER models require roughly 1GB of temporary memory per 100,000 characters in the input. This means long texts may cause memory allocation errors. If you're not using the parser or NER, it's probably safe to increase the `nlp.max_length` limit. The limit is in number of characters, so you can check whether your inputs are too long by checking `len(text)`.\"\n",
    "    - will attempt to increase the nlp.max_length limit or split files\n",
    "        - nlp max length is 100,000 characters \n",
    "    - reference link increase max len: https://github.com/explosion/spaCy/issues/2817\n",
    "        - increase as long as you don't run out of RAM: https://datascience.stackexchange.com/questions/38745/increasing-spacy-max-nlp-limit\n",
    "    - link max len split files: https://stackoverflow.com/questions/48143769/spacy-nlp-library-what-is-maximum-reasonable-document-size\n",
    "    - total character count link: https://pythonexamples.org/python-count-number-of-characters-in-text-file/\n",
    "    - character count per character: https://www.w3resource.com/python-exercises/basic/python-basic-1-exercise-7.php \n",
    "#### Fixed: funcitons were outside of loop, and got rid of for i in n loop (ran each file 3 times) <br>\n",
    "    \n",
    "- Error: dead kernel will restart automatically \n",
    "    - saved notebooks, shutdown, CTRL + C in terminal and relaunch in terminal. But my still get the dead kernel pop up when running the code above. \n",
    "    - Error: results were weird with lemma code in with open loop and for i in n, first 3 iterations said 9 for women word count, but then continued to run for i in n and output 0 for women word count. \n",
    "    - relaunched without i in n and the kernal dead\n",
    "#### Fixed: possibly crashing because of for loop and functions outside "
   ]
  },
  {
   "cell_type": "markdown",
   "metadata": {},
   "source": [
    "### character count per character test\n",
    "- finding length of file, to increase nlp.max_length()\n",
    "- checking this annual report file: annualreporto18491961smit_djvu.txt"
   ]
  },
  {
   "cell_type": "code",
   "execution_count": null,
   "metadata": {},
   "outputs": [],
   "source": [
    "import collections\n",
    "import pprint\n",
    "file_input = input('File Name:')\n",
    "\n",
    "with open(file_input, 'r') as info:\n",
    "    count = collections.Counter(info.read().upper())\n",
    "    value = pprint.pformat(count)\n",
    "print(value)\n"
   ]
  },
  {
   "cell_type": "markdown",
   "metadata": {},
   "source": [
    "### Total character count including spaces test"
   ]
  },
  {
   "cell_type": "code",
   "execution_count": null,
   "metadata": {},
   "outputs": [],
   "source": [
    "#open file in read mode\n",
    "file = open(\"annualreporto18491961smit_djvu.txt\", \"r\")\n",
    "\n",
    "#read the content of file\n",
    "data = file.read()\n",
    "\n",
    "#get the length of the data\n",
    "number_of_characters = len(data)\n",
    "\n",
    "print('Number of characters in text file :', number_of_characters)"
   ]
  },
  {
   "cell_type": "code",
   "execution_count": null,
   "metadata": {},
   "outputs": [],
   "source": []
  },
  {
   "cell_type": "code",
   "execution_count": null,
   "metadata": {},
   "outputs": [],
   "source": []
  }
 ],
 "metadata": {
  "kernelspec": {
   "display_name": "Python 3",
   "language": "python",
   "name": "python3"
  },
  "language_info": {
   "codemirror_mode": {
    "name": "ipython",
    "version": 3
   },
   "file_extension": ".py",
   "mimetype": "text/x-python",
   "name": "python",
   "nbconvert_exporter": "python",
   "pygments_lexer": "ipython3",
   "version": "3.7.3"
  }
 },
 "nbformat": 4,
 "nbformat_minor": 2
}
